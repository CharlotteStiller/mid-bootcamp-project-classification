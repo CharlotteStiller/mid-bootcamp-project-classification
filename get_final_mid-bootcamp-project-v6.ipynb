{
 "cells": [
  {
   "cell_type": "markdown",
   "id": "817603b3",
   "metadata": {},
   "source": [
    "### Mid-bootcamp-project Charlotte Stiller - Classification Algorithm"
   ]
  },
  {
   "cell_type": "markdown",
   "id": "c037db0c",
   "metadata": {},
   "source": [
    "The goal of this project is to analyse the characteristics of bank customers and to train a model to predict if a bank customer will accept or reject a credit card offer."
   ]
  },
  {
   "cell_type": "markdown",
   "id": "6e99b94c",
   "metadata": {},
   "source": [
    "* **1. Import libaries**\n",
    "* **2. Load the data**\n",
    "* **3. Data analysis on SQL**\n",
    "* **4. Explore and clean the data**\n",
    " * 4.1. Clean header names and check datatype \n",
    " * 4.2. Check basic statistics and the unique values\n",
    " * 4.3. Drop duplicates and check null values\n",
    " * 4.4.  Explore numerical data  \n",
    " * 4.5. Explore categorical columns\n",
    " * 4.6. Relationshop between accepted offers and the other columns \n",
    "* **5. EDA**\n",
    " * 5.1. Set index \n",
    " * 5.2. Check the correlation\n",
    " * 5.3. Check value counts\n",
    "* **6. Data processing, feature engineering**\n",
    " * 6.1. Apply boxcox transformation\n",
    " * 6.2. Remove outliers\n",
    "* **7. Train/test split, standardize numerical + encode categorical**\n",
    "* **8. Model evaluation**\n",
    " * 8.1. KNeighbors Classifier \n",
    " * 8.2. KNeighbors Classifier with SMOTE\n",
    " * 8.3. Logistic Regression\n",
    " * 8.4. Logistic Regression - Weights \n",
    "* **9. Overview about the model results + conclusion**"
   ]
  },
  {
   "cell_type": "markdown",
   "id": "8b8f6ea7",
   "metadata": {},
   "source": [
    "### 1. Import libaries"
   ]
  },
  {
   "cell_type": "code",
   "execution_count": 90,
   "id": "81bf59f2",
   "metadata": {},
   "outputs": [],
   "source": [
    "from helper_v1 import *\n",
    "import pandas as pd\n",
    "from scipy.stats import chi2_contingency\n",
    "import seaborn as sns\n",
    "from IPython import display\n",
    "import matplotlib.pyplot as plt\n",
    "import numpy as np\n",
    "from imblearn.over_sampling import SMOTE\n",
    "from sklearn.linear_model import LinearRegression\n",
    "from sklearn.linear_model import LogisticRegression\n",
    "from sklearn.neighbors import KNeighborsRegressor\n",
    "from sklearn.neural_network import MLPRegressor\n",
    "from sklearn.metrics import r2_score, mean_squared_error, mean_absolute_error\n",
    "from sklearn.metrics import plot_confusion_matrix\n",
    "from sklearn.metrics import confusion_matrix, classification_report\n",
    "from sklearn.neighbors import KNeighborsClassifier\n",
    "from sklearn.model_selection import train_test_split\n",
    "from sklearn.preprocessing import StandardScaler\n",
    "from sklearn.preprocessing import OneHotEncoder, Normalizer, LabelEncoder\n",
    "from sklearn import metrics\n",
    "import warnings\n",
    "warnings.filterwarnings('ignore')"
   ]
  },
  {
   "cell_type": "markdown",
   "id": "0e67245a",
   "metadata": {},
   "source": [
    "### 2. Load the data"
   ]
  },
  {
   "cell_type": "code",
   "execution_count": 60,
   "id": "c451a8c9",
   "metadata": {},
   "outputs": [
    {
     "data": {
      "text/html": [
       "<div>\n",
       "<style scoped>\n",
       "    .dataframe tbody tr th:only-of-type {\n",
       "        vertical-align: middle;\n",
       "    }\n",
       "\n",
       "    .dataframe tbody tr th {\n",
       "        vertical-align: top;\n",
       "    }\n",
       "\n",
       "    .dataframe thead th {\n",
       "        text-align: right;\n",
       "    }\n",
       "</style>\n",
       "<table border=\"1\" class=\"dataframe\">\n",
       "  <thead>\n",
       "    <tr style=\"text-align: right;\">\n",
       "      <th></th>\n",
       "      <th>Customer Number</th>\n",
       "      <th>Offer Accepted</th>\n",
       "      <th>Reward</th>\n",
       "      <th>Mailer Type</th>\n",
       "      <th>Income Level</th>\n",
       "      <th># Bank Accounts Open</th>\n",
       "      <th>Overdraft Protection</th>\n",
       "      <th>Credit Rating</th>\n",
       "      <th># Credit Cards Held</th>\n",
       "      <th># Homes Owned</th>\n",
       "      <th>Household Size</th>\n",
       "      <th>Own Your Home</th>\n",
       "      <th>Average Balance</th>\n",
       "      <th>Q1 Balance</th>\n",
       "      <th>Q2 Balance</th>\n",
       "      <th>Q3 Balance</th>\n",
       "      <th>Q4 Balance</th>\n",
       "    </tr>\n",
       "  </thead>\n",
       "  <tbody>\n",
       "    <tr>\n",
       "      <th>0</th>\n",
       "      <td>1</td>\n",
       "      <td>No</td>\n",
       "      <td>Air Miles</td>\n",
       "      <td>Letter</td>\n",
       "      <td>High</td>\n",
       "      <td>1</td>\n",
       "      <td>No</td>\n",
       "      <td>High</td>\n",
       "      <td>2</td>\n",
       "      <td>1</td>\n",
       "      <td>4</td>\n",
       "      <td>No</td>\n",
       "      <td>1160.75</td>\n",
       "      <td>1669.0</td>\n",
       "      <td>877.0</td>\n",
       "      <td>1095.0</td>\n",
       "      <td>1002.0</td>\n",
       "    </tr>\n",
       "    <tr>\n",
       "      <th>1</th>\n",
       "      <td>2</td>\n",
       "      <td>No</td>\n",
       "      <td>Air Miles</td>\n",
       "      <td>Letter</td>\n",
       "      <td>Medium</td>\n",
       "      <td>1</td>\n",
       "      <td>No</td>\n",
       "      <td>Medium</td>\n",
       "      <td>2</td>\n",
       "      <td>2</td>\n",
       "      <td>5</td>\n",
       "      <td>Yes</td>\n",
       "      <td>147.25</td>\n",
       "      <td>39.0</td>\n",
       "      <td>106.0</td>\n",
       "      <td>78.0</td>\n",
       "      <td>366.0</td>\n",
       "    </tr>\n",
       "    <tr>\n",
       "      <th>2</th>\n",
       "      <td>3</td>\n",
       "      <td>No</td>\n",
       "      <td>Air Miles</td>\n",
       "      <td>Postcard</td>\n",
       "      <td>High</td>\n",
       "      <td>2</td>\n",
       "      <td>No</td>\n",
       "      <td>Medium</td>\n",
       "      <td>2</td>\n",
       "      <td>1</td>\n",
       "      <td>2</td>\n",
       "      <td>Yes</td>\n",
       "      <td>276.50</td>\n",
       "      <td>367.0</td>\n",
       "      <td>352.0</td>\n",
       "      <td>145.0</td>\n",
       "      <td>242.0</td>\n",
       "    </tr>\n",
       "    <tr>\n",
       "      <th>3</th>\n",
       "      <td>4</td>\n",
       "      <td>No</td>\n",
       "      <td>Air Miles</td>\n",
       "      <td>Letter</td>\n",
       "      <td>Medium</td>\n",
       "      <td>2</td>\n",
       "      <td>No</td>\n",
       "      <td>High</td>\n",
       "      <td>1</td>\n",
       "      <td>1</td>\n",
       "      <td>4</td>\n",
       "      <td>No</td>\n",
       "      <td>1219.00</td>\n",
       "      <td>1578.0</td>\n",
       "      <td>1760.0</td>\n",
       "      <td>1119.0</td>\n",
       "      <td>419.0</td>\n",
       "    </tr>\n",
       "    <tr>\n",
       "      <th>4</th>\n",
       "      <td>5</td>\n",
       "      <td>No</td>\n",
       "      <td>Air Miles</td>\n",
       "      <td>Letter</td>\n",
       "      <td>Medium</td>\n",
       "      <td>1</td>\n",
       "      <td>No</td>\n",
       "      <td>Medium</td>\n",
       "      <td>2</td>\n",
       "      <td>1</td>\n",
       "      <td>6</td>\n",
       "      <td>Yes</td>\n",
       "      <td>1211.00</td>\n",
       "      <td>2140.0</td>\n",
       "      <td>1357.0</td>\n",
       "      <td>982.0</td>\n",
       "      <td>365.0</td>\n",
       "    </tr>\n",
       "  </tbody>\n",
       "</table>\n",
       "</div>"
      ],
      "text/plain": [
       "   Customer Number Offer Accepted     Reward Mailer Type Income Level  \\\n",
       "0                1             No  Air Miles      Letter         High   \n",
       "1                2             No  Air Miles      Letter       Medium   \n",
       "2                3             No  Air Miles    Postcard         High   \n",
       "3                4             No  Air Miles      Letter       Medium   \n",
       "4                5             No  Air Miles      Letter       Medium   \n",
       "\n",
       "   # Bank Accounts Open Overdraft Protection Credit Rating  \\\n",
       "0                     1                   No          High   \n",
       "1                     1                   No        Medium   \n",
       "2                     2                   No        Medium   \n",
       "3                     2                   No          High   \n",
       "4                     1                   No        Medium   \n",
       "\n",
       "   # Credit Cards Held  # Homes Owned  Household Size Own Your Home  \\\n",
       "0                    2              1               4            No   \n",
       "1                    2              2               5           Yes   \n",
       "2                    2              1               2           Yes   \n",
       "3                    1              1               4            No   \n",
       "4                    2              1               6           Yes   \n",
       "\n",
       "   Average Balance  Q1 Balance  Q2 Balance  Q3 Balance  Q4 Balance  \n",
       "0          1160.75      1669.0       877.0      1095.0      1002.0  \n",
       "1           147.25        39.0       106.0        78.0       366.0  \n",
       "2           276.50       367.0       352.0       145.0       242.0  \n",
       "3          1219.00      1578.0      1760.0      1119.0       419.0  \n",
       "4          1211.00      2140.0      1357.0       982.0       365.0  "
      ]
     },
     "execution_count": 60,
     "metadata": {},
     "output_type": "execute_result"
    }
   ],
   "source": [
    "data = pd.read_csv('creditcardmarketing.csv')\n",
    "data.head()"
   ]
  },
  {
   "cell_type": "markdown",
   "id": "9df71f2c",
   "metadata": {},
   "source": [
    "### 3. Data analysis on SQL  "
   ]
  },
  {
   "cell_type": "markdown",
   "id": "28b59e35",
   "metadata": {},
   "source": [
    "Please refer to **Solutions SQL- Classification.ipynb**"
   ]
  },
  {
   "cell_type": "markdown",
   "id": "6f04fd61",
   "metadata": {},
   "source": [
    "### 4. Explore and clean the data"
   ]
  },
  {
   "cell_type": "markdown",
   "id": "49681fd1",
   "metadata": {},
   "source": [
    "**4.1. Clean header names and check datatypes**\n",
    "- Renaming the columns so they follow the PE8 (snake case) and taking out non alphanumeric (#)\n",
    "- My get_started function clean the column names and give the data types of the columns, shape of the dataframe"
   ]
  },
  {
   "cell_type": "code",
   "execution_count": 61,
   "id": "eed4ff8a",
   "metadata": {},
   "outputs": [
    {
     "name": "stdout",
     "output_type": "stream",
     "text": [
      "<class 'pandas.core.frame.DataFrame'>\n",
      "RangeIndex: 18000 entries, 0 to 17999\n",
      "Data columns (total 17 columns):\n",
      " #   Column                Non-Null Count  Dtype  \n",
      "---  ------                --------------  -----  \n",
      " 0   customer_number       18000 non-null  int64  \n",
      " 1   offer_accepted        18000 non-null  object \n",
      " 2   reward                18000 non-null  object \n",
      " 3   mailer_type           18000 non-null  object \n",
      " 4   income_level          18000 non-null  object \n",
      " 5   bank_accounts_open    18000 non-null  int64  \n",
      " 6   overdraft_protection  18000 non-null  object \n",
      " 7   credit_rating         18000 non-null  object \n",
      " 8   credit_cards_held     18000 non-null  int64  \n",
      " 9   homes_owned           18000 non-null  int64  \n",
      " 10  household_size        18000 non-null  int64  \n",
      " 11  own_your_home         18000 non-null  object \n",
      " 12  average_balance       17976 non-null  float64\n",
      " 13  q1_balance            17976 non-null  float64\n",
      " 14  q2_balance            17976 non-null  float64\n",
      " 15  q3_balance            17976 non-null  float64\n",
      " 16  q4_balance            17976 non-null  float64\n",
      "dtypes: float64(5), int64(5), object(7)\n",
      "memory usage: 2.3+ MB\n",
      "shape dataframe:  (18000, 17) None\n"
     ]
    }
   ],
   "source": [
    "get_started(data)"
   ]
  },
  {
   "cell_type": "markdown",
   "id": "7a190809",
   "metadata": {},
   "source": [
    "#### 4.2. Check basic statistics and the unique values"
   ]
  },
  {
   "cell_type": "code",
   "execution_count": 62,
   "id": "e2af671c",
   "metadata": {},
   "outputs": [
    {
     "data": {
      "text/html": [
       "<div>\n",
       "<style scoped>\n",
       "    .dataframe tbody tr th:only-of-type {\n",
       "        vertical-align: middle;\n",
       "    }\n",
       "\n",
       "    .dataframe tbody tr th {\n",
       "        vertical-align: top;\n",
       "    }\n",
       "\n",
       "    .dataframe thead th {\n",
       "        text-align: right;\n",
       "    }\n",
       "</style>\n",
       "<table border=\"1\" class=\"dataframe\">\n",
       "  <thead>\n",
       "    <tr style=\"text-align: right;\">\n",
       "      <th></th>\n",
       "      <th>customer_number</th>\n",
       "      <th>bank_accounts_open</th>\n",
       "      <th>credit_cards_held</th>\n",
       "      <th>homes_owned</th>\n",
       "      <th>household_size</th>\n",
       "      <th>average_balance</th>\n",
       "      <th>q1_balance</th>\n",
       "      <th>q2_balance</th>\n",
       "      <th>q3_balance</th>\n",
       "      <th>q4_balance</th>\n",
       "    </tr>\n",
       "  </thead>\n",
       "  <tbody>\n",
       "    <tr>\n",
       "      <th>count</th>\n",
       "      <td>18000.00</td>\n",
       "      <td>18000.00</td>\n",
       "      <td>18000.0</td>\n",
       "      <td>18000.00</td>\n",
       "      <td>18000.00</td>\n",
       "      <td>17976.00</td>\n",
       "      <td>17976.00</td>\n",
       "      <td>17976.00</td>\n",
       "      <td>17976.00</td>\n",
       "      <td>17976.00</td>\n",
       "    </tr>\n",
       "    <tr>\n",
       "      <th>mean</th>\n",
       "      <td>9000.50</td>\n",
       "      <td>1.26</td>\n",
       "      <td>1.9</td>\n",
       "      <td>1.20</td>\n",
       "      <td>3.50</td>\n",
       "      <td>940.52</td>\n",
       "      <td>910.45</td>\n",
       "      <td>999.39</td>\n",
       "      <td>1042.03</td>\n",
       "      <td>810.19</td>\n",
       "    </tr>\n",
       "    <tr>\n",
       "      <th>std</th>\n",
       "      <td>5196.30</td>\n",
       "      <td>0.47</td>\n",
       "      <td>0.8</td>\n",
       "      <td>0.43</td>\n",
       "      <td>1.11</td>\n",
       "      <td>350.30</td>\n",
       "      <td>620.08</td>\n",
       "      <td>457.40</td>\n",
       "      <td>553.45</td>\n",
       "      <td>559.00</td>\n",
       "    </tr>\n",
       "    <tr>\n",
       "      <th>min</th>\n",
       "      <td>1.00</td>\n",
       "      <td>1.00</td>\n",
       "      <td>1.0</td>\n",
       "      <td>1.00</td>\n",
       "      <td>1.00</td>\n",
       "      <td>48.25</td>\n",
       "      <td>0.00</td>\n",
       "      <td>0.00</td>\n",
       "      <td>0.00</td>\n",
       "      <td>0.00</td>\n",
       "    </tr>\n",
       "    <tr>\n",
       "      <th>25%</th>\n",
       "      <td>4500.75</td>\n",
       "      <td>1.00</td>\n",
       "      <td>1.0</td>\n",
       "      <td>1.00</td>\n",
       "      <td>3.00</td>\n",
       "      <td>787.50</td>\n",
       "      <td>392.75</td>\n",
       "      <td>663.00</td>\n",
       "      <td>633.00</td>\n",
       "      <td>363.00</td>\n",
       "    </tr>\n",
       "    <tr>\n",
       "      <th>50%</th>\n",
       "      <td>9000.50</td>\n",
       "      <td>1.00</td>\n",
       "      <td>2.0</td>\n",
       "      <td>1.00</td>\n",
       "      <td>3.00</td>\n",
       "      <td>1007.00</td>\n",
       "      <td>772.00</td>\n",
       "      <td>1032.00</td>\n",
       "      <td>945.50</td>\n",
       "      <td>703.00</td>\n",
       "    </tr>\n",
       "    <tr>\n",
       "      <th>75%</th>\n",
       "      <td>13500.25</td>\n",
       "      <td>1.00</td>\n",
       "      <td>2.0</td>\n",
       "      <td>1.00</td>\n",
       "      <td>4.00</td>\n",
       "      <td>1153.25</td>\n",
       "      <td>1521.00</td>\n",
       "      <td>1342.00</td>\n",
       "      <td>1463.00</td>\n",
       "      <td>1212.00</td>\n",
       "    </tr>\n",
       "    <tr>\n",
       "      <th>max</th>\n",
       "      <td>18000.00</td>\n",
       "      <td>3.00</td>\n",
       "      <td>4.0</td>\n",
       "      <td>3.00</td>\n",
       "      <td>9.00</td>\n",
       "      <td>3366.25</td>\n",
       "      <td>3450.00</td>\n",
       "      <td>3421.00</td>\n",
       "      <td>3823.00</td>\n",
       "      <td>4215.00</td>\n",
       "    </tr>\n",
       "  </tbody>\n",
       "</table>\n",
       "</div>"
      ],
      "text/plain": [
       "       customer_number  bank_accounts_open  credit_cards_held  homes_owned  \\\n",
       "count         18000.00            18000.00            18000.0     18000.00   \n",
       "mean           9000.50                1.26                1.9         1.20   \n",
       "std            5196.30                0.47                0.8         0.43   \n",
       "min               1.00                1.00                1.0         1.00   \n",
       "25%            4500.75                1.00                1.0         1.00   \n",
       "50%            9000.50                1.00                2.0         1.00   \n",
       "75%           13500.25                1.00                2.0         1.00   \n",
       "max           18000.00                3.00                4.0         3.00   \n",
       "\n",
       "       household_size  average_balance  q1_balance  q2_balance  q3_balance  \\\n",
       "count        18000.00         17976.00    17976.00    17976.00    17976.00   \n",
       "mean             3.50           940.52      910.45      999.39     1042.03   \n",
       "std              1.11           350.30      620.08      457.40      553.45   \n",
       "min              1.00            48.25        0.00        0.00        0.00   \n",
       "25%              3.00           787.50      392.75      663.00      633.00   \n",
       "50%              3.00          1007.00      772.00     1032.00      945.50   \n",
       "75%              4.00          1153.25     1521.00     1342.00     1463.00   \n",
       "max              9.00          3366.25     3450.00     3421.00     3823.00   \n",
       "\n",
       "       q4_balance  \n",
       "count    17976.00  \n",
       "mean       810.19  \n",
       "std        559.00  \n",
       "min          0.00  \n",
       "25%        363.00  \n",
       "50%        703.00  \n",
       "75%       1212.00  \n",
       "max       4215.00  "
      ]
     },
     "execution_count": 62,
     "metadata": {},
     "output_type": "execute_result"
    }
   ],
   "source": [
    "data.describe().apply(lambda x: round(x,2))"
   ]
  },
  {
   "cell_type": "code",
   "execution_count": 63,
   "id": "07b6035b",
   "metadata": {},
   "outputs": [
    {
     "name": "stdout",
     "output_type": "stream",
     "text": [
      "\n",
      "offer_accepted\n",
      "['No' 'Yes'] \n",
      "\n",
      "\n",
      "reward\n",
      "['Air Miles' 'Cash Back' 'Points'] \n",
      "\n",
      "\n",
      "mailer_type\n",
      "['Letter' 'Postcard'] \n",
      "\n",
      "\n",
      "income_level\n",
      "['High' 'Medium' 'Low'] \n",
      "\n",
      "\n",
      "bank_accounts_open\n",
      "[1 2 3] \n",
      "\n",
      "\n",
      "overdraft_protection\n",
      "['No' 'Yes'] \n",
      "\n",
      "\n",
      "credit_rating\n",
      "['High' 'Medium' 'Low'] \n",
      "\n",
      "\n",
      "credit_cards_held\n",
      "[2 1 3 4] \n",
      "\n",
      "\n",
      "homes_owned\n",
      "[1 2 3] \n",
      "\n",
      "\n",
      "household_size\n",
      "[4 5 2 6 3 1 8 9] \n",
      "\n",
      "\n",
      "own_your_home\n",
      "['No' 'Yes'] \n",
      "\n"
     ]
    }
   ],
   "source": [
    "unique_val(data.drop(['customer_number', 'average_balance', 'q1_balance', 'q2_balance', 'q3_balance', 'q4_balance'], axis=1))"
   ]
  },
  {
   "cell_type": "markdown",
   "id": "b1520600",
   "metadata": {},
   "source": [
    "#### 4.3. Drop duplicates and check null values\n",
    "No duplicates in the dataset."
   ]
  },
  {
   "cell_type": "code",
   "execution_count": 64,
   "id": "fa48bd34",
   "metadata": {},
   "outputs": [
    {
     "data": {
      "text/plain": [
       "(18000, 17)"
      ]
     },
     "execution_count": 64,
     "metadata": {},
     "output_type": "execute_result"
    }
   ],
   "source": [
    "data = data.drop_duplicates()\n",
    "data.shape"
   ]
  },
  {
   "cell_type": "markdown",
   "id": "57d0ab4a",
   "metadata": {},
   "source": [
    "Checking the NaN values shows five columns with the same amount of NaN values (0.13 %, 24 Values from 18.000 rows). Let's replace the null value with the mean. "
   ]
  },
  {
   "cell_type": "code",
   "execution_count": 65,
   "id": "809926fb",
   "metadata": {},
   "outputs": [
    {
     "name": "stdout",
     "output_type": "stream",
     "text": [
      "                      percentage\n",
      "q4_balance              0.133333\n",
      "q3_balance              0.133333\n",
      "q2_balance              0.133333\n",
      "q1_balance              0.133333\n",
      "average_balance         0.133333\n",
      "homes_owned             0.000000\n",
      "own_your_home           0.000000\n",
      "household_size          0.000000\n",
      "customer_number         0.000000\n",
      "offer_accepted          0.000000\n",
      "credit_rating           0.000000\n",
      "overdraft_protection    0.000000\n",
      "bank_accounts_open      0.000000\n",
      "income_level            0.000000\n",
      "mailer_type             0.000000\n",
      "reward                  0.000000\n",
      "credit_cards_held       0.000000\n"
     ]
    }
   ],
   "source": [
    "percantage_null(data)"
   ]
  },
  {
   "cell_type": "code",
   "execution_count": 66,
   "id": "08231cf1",
   "metadata": {},
   "outputs": [],
   "source": [
    "replace_by_mean(data, columns = ['q4_balance', 'q3_balance', 'q2_balance', 'q1_balance', 'average_balance' ])"
   ]
  },
  {
   "cell_type": "code",
   "execution_count": 67,
   "id": "cc91b79f",
   "metadata": {},
   "outputs": [
    {
     "data": {
      "text/plain": [
       "customer_number         0\n",
       "offer_accepted          0\n",
       "reward                  0\n",
       "mailer_type             0\n",
       "income_level            0\n",
       "bank_accounts_open      0\n",
       "overdraft_protection    0\n",
       "credit_rating           0\n",
       "credit_cards_held       0\n",
       "homes_owned             0\n",
       "household_size          0\n",
       "own_your_home           0\n",
       "average_balance         0\n",
       "q1_balance              0\n",
       "q2_balance              0\n",
       "q3_balance              0\n",
       "q4_balance              0\n",
       "dtype: int64"
      ]
     },
     "execution_count": 67,
     "metadata": {},
     "output_type": "execute_result"
    }
   ],
   "source": [
    "data.isna().sum()"
   ]
  },
  {
   "cell_type": "markdown",
   "id": "b1c2d965",
   "metadata": {},
   "source": [
    "#### 4.4. Explore numerical data "
   ]
  },
  {
   "cell_type": "code",
   "execution_count": 68,
   "id": "660f3127",
   "metadata": {},
   "outputs": [
    {
     "data": {
      "text/html": [
       "<div>\n",
       "<style scoped>\n",
       "    .dataframe tbody tr th:only-of-type {\n",
       "        vertical-align: middle;\n",
       "    }\n",
       "\n",
       "    .dataframe tbody tr th {\n",
       "        vertical-align: top;\n",
       "    }\n",
       "\n",
       "    .dataframe thead th {\n",
       "        text-align: right;\n",
       "    }\n",
       "</style>\n",
       "<table border=\"1\" class=\"dataframe\">\n",
       "  <thead>\n",
       "    <tr style=\"text-align: right;\">\n",
       "      <th></th>\n",
       "      <th>customer_number</th>\n",
       "      <th>bank_accounts_open</th>\n",
       "      <th>credit_cards_held</th>\n",
       "      <th>homes_owned</th>\n",
       "      <th>household_size</th>\n",
       "      <th>average_balance</th>\n",
       "      <th>q1_balance</th>\n",
       "      <th>q2_balance</th>\n",
       "      <th>q3_balance</th>\n",
       "      <th>q4_balance</th>\n",
       "    </tr>\n",
       "  </thead>\n",
       "  <tbody>\n",
       "    <tr>\n",
       "      <th>0</th>\n",
       "      <td>1</td>\n",
       "      <td>1</td>\n",
       "      <td>2</td>\n",
       "      <td>1</td>\n",
       "      <td>4</td>\n",
       "      <td>1160.75</td>\n",
       "      <td>1669.0</td>\n",
       "      <td>877.0</td>\n",
       "      <td>1095.0</td>\n",
       "      <td>1002.0</td>\n",
       "    </tr>\n",
       "    <tr>\n",
       "      <th>1</th>\n",
       "      <td>2</td>\n",
       "      <td>1</td>\n",
       "      <td>2</td>\n",
       "      <td>2</td>\n",
       "      <td>5</td>\n",
       "      <td>147.25</td>\n",
       "      <td>39.0</td>\n",
       "      <td>106.0</td>\n",
       "      <td>78.0</td>\n",
       "      <td>366.0</td>\n",
       "    </tr>\n",
       "    <tr>\n",
       "      <th>2</th>\n",
       "      <td>3</td>\n",
       "      <td>2</td>\n",
       "      <td>2</td>\n",
       "      <td>1</td>\n",
       "      <td>2</td>\n",
       "      <td>276.50</td>\n",
       "      <td>367.0</td>\n",
       "      <td>352.0</td>\n",
       "      <td>145.0</td>\n",
       "      <td>242.0</td>\n",
       "    </tr>\n",
       "    <tr>\n",
       "      <th>3</th>\n",
       "      <td>4</td>\n",
       "      <td>2</td>\n",
       "      <td>1</td>\n",
       "      <td>1</td>\n",
       "      <td>4</td>\n",
       "      <td>1219.00</td>\n",
       "      <td>1578.0</td>\n",
       "      <td>1760.0</td>\n",
       "      <td>1119.0</td>\n",
       "      <td>419.0</td>\n",
       "    </tr>\n",
       "    <tr>\n",
       "      <th>4</th>\n",
       "      <td>5</td>\n",
       "      <td>1</td>\n",
       "      <td>2</td>\n",
       "      <td>1</td>\n",
       "      <td>6</td>\n",
       "      <td>1211.00</td>\n",
       "      <td>2140.0</td>\n",
       "      <td>1357.0</td>\n",
       "      <td>982.0</td>\n",
       "      <td>365.0</td>\n",
       "    </tr>\n",
       "  </tbody>\n",
       "</table>\n",
       "</div>"
      ],
      "text/plain": [
       "   customer_number  bank_accounts_open  credit_cards_held  homes_owned  \\\n",
       "0                1                   1                  2            1   \n",
       "1                2                   1                  2            2   \n",
       "2                3                   2                  2            1   \n",
       "3                4                   2                  1            1   \n",
       "4                5                   1                  2            1   \n",
       "\n",
       "   household_size  average_balance  q1_balance  q2_balance  q3_balance  \\\n",
       "0               4          1160.75      1669.0       877.0      1095.0   \n",
       "1               5           147.25        39.0       106.0        78.0   \n",
       "2               2           276.50       367.0       352.0       145.0   \n",
       "3               4          1219.00      1578.0      1760.0      1119.0   \n",
       "4               6          1211.00      2140.0      1357.0       982.0   \n",
       "\n",
       "   q4_balance  \n",
       "0      1002.0  \n",
       "1       366.0  \n",
       "2       242.0  \n",
       "3       419.0  \n",
       "4       365.0  "
      ]
     },
     "execution_count": 68,
     "metadata": {},
     "output_type": "execute_result"
    }
   ],
   "source": [
    "num = data.select_dtypes(include=np.number)\n",
    "num.head()"
   ]
  },
  {
   "cell_type": "code",
   "execution_count": 69,
   "id": "8243ef3b",
   "metadata": {},
   "outputs": [
    {
     "data": {
      "image/png": "[encoded data removed]",
      "text/plain": [
       "<Figure size 432x288 with 1 Axes>"
      ]
     },
     "metadata": {
      "needs_background": "light"
     },
     "output_type": "display_data"
    },
    {
     "data": {
      "image/png": "[encoded data removed]",
      "text/plain": [
       "<Figure size 432x288 with 1 Axes>"
      ]
     },
     "metadata": {
      "needs_background": "light"
     },
     "output_type": "display_data"
    },
    {
     "data": {
      "image/png": "[encoded data removed]",
      "text/plain": [
       "<Figure size 432x288 with 1 Axes>"
      ]
     },
     "metadata": {
      "needs_background": "light"
     },
     "output_type": "display_data"
    },
    {
     "data": {
      "image/png": "[encoded data removed]",
      "text/plain": [
       "<Figure size 432x288 with 1 Axes>"
      ]
     },
     "metadata": {
      "needs_background": "light"
     },
     "output_type": "display_data"
    },
    {
     "data": {
      "image/png": "[encoded data removed]",
      "text/plain": [
       "<Figure size 432x288 with 1 Axes>"
      ]
     },
     "metadata": {
      "needs_background": "light"
     },
     "output_type": "display_data"
    }
   ],
   "source": [
    "for column in num.drop(['customer_number', 'bank_accounts_open', 'credit_cards_held', 'homes_owned', 'household_size'], axis=1):\n",
    "    sns.distplot(num[column])\n",
    "    plt.show()"
   ]
  },
  {
   "cell_type": "code",
   "execution_count": 70,
   "id": "c54af21e",
   "metadata": {
    "scrolled": true
   },
   "outputs": [
    {
     "data": {
      "image/png": "[encoded data removed]",
      "text/plain": [
       "<Figure size 288x720 with 1 Axes>"
      ]
     },
     "metadata": {},
     "output_type": "display_data"
    },
    {
     "data": {
      "image/png": "[encoded data removed]",
      "text/plain": [
       "<Figure size 288x720 with 1 Axes>"
      ]
     },
     "metadata": {},
     "output_type": "display_data"
    },
    {
     "data": {
      "image/png": "[encoded data removed]",
      "text/plain": [
       "<Figure size 288x720 with 1 Axes>"
      ]
     },
     "metadata": {},
     "output_type": "display_data"
    },
    {
     "data": {
      "image/png": "[encoded data removed]",
      "text/plain": [
       "<Figure size 288x720 with 1 Axes>"
      ]
     },
     "metadata": {},
     "output_type": "display_data"
    }
   ],
   "source": [
    "columns = ['bank_accounts_open', 'credit_cards_held', 'homes_owned', 'household_size']\n",
    "for col in columns:\n",
    "    data[col].value_counts().plot(kind='pie', autopct='%1.0f%%', figsize=(4, 10))\n",
    "    plt.show()"
   ]
  },
  {
   "cell_type": "markdown",
   "id": "6ad0c35b",
   "metadata": {},
   "source": [
    "**Findings in numerical columns**\n",
    "- Only 3% of the customer hold more than three credit cards. Therefore, I would recommend to offer a credit card only to customers who only have one or two credit cards yet. \n",
    "- 19% of the customers own more than one home (if they are a homeowner at all). \n",
    "- Only 24% have more than one open bank account.\n",
    "- Most of the customers live in a household with other people. Only 3% live alone. "
   ]
  },
  {
   "cell_type": "markdown",
   "id": "980e2498",
   "metadata": {},
   "source": [
    "#### 4.5. Explore categorical columns"
   ]
  },
  {
   "cell_type": "code",
   "execution_count": 71,
   "id": "41e56d4b",
   "metadata": {},
   "outputs": [
    {
     "data": {
      "text/html": [
       "<div>\n",
       "<style scoped>\n",
       "    .dataframe tbody tr th:only-of-type {\n",
       "        vertical-align: middle;\n",
       "    }\n",
       "\n",
       "    .dataframe tbody tr th {\n",
       "        vertical-align: top;\n",
       "    }\n",
       "\n",
       "    .dataframe thead th {\n",
       "        text-align: right;\n",
       "    }\n",
       "</style>\n",
       "<table border=\"1\" class=\"dataframe\">\n",
       "  <thead>\n",
       "    <tr style=\"text-align: right;\">\n",
       "      <th></th>\n",
       "      <th>offer_accepted</th>\n",
       "      <th>reward</th>\n",
       "      <th>mailer_type</th>\n",
       "      <th>income_level</th>\n",
       "      <th>overdraft_protection</th>\n",
       "      <th>credit_rating</th>\n",
       "      <th>own_your_home</th>\n",
       "    </tr>\n",
       "  </thead>\n",
       "  <tbody>\n",
       "    <tr>\n",
       "      <th>0</th>\n",
       "      <td>No</td>\n",
       "      <td>Air Miles</td>\n",
       "      <td>Letter</td>\n",
       "      <td>High</td>\n",
       "      <td>No</td>\n",
       "      <td>High</td>\n",
       "      <td>No</td>\n",
       "    </tr>\n",
       "    <tr>\n",
       "      <th>1</th>\n",
       "      <td>No</td>\n",
       "      <td>Air Miles</td>\n",
       "      <td>Letter</td>\n",
       "      <td>Medium</td>\n",
       "      <td>No</td>\n",
       "      <td>Medium</td>\n",
       "      <td>Yes</td>\n",
       "    </tr>\n",
       "    <tr>\n",
       "      <th>2</th>\n",
       "      <td>No</td>\n",
       "      <td>Air Miles</td>\n",
       "      <td>Postcard</td>\n",
       "      <td>High</td>\n",
       "      <td>No</td>\n",
       "      <td>Medium</td>\n",
       "      <td>Yes</td>\n",
       "    </tr>\n",
       "    <tr>\n",
       "      <th>3</th>\n",
       "      <td>No</td>\n",
       "      <td>Air Miles</td>\n",
       "      <td>Letter</td>\n",
       "      <td>Medium</td>\n",
       "      <td>No</td>\n",
       "      <td>High</td>\n",
       "      <td>No</td>\n",
       "    </tr>\n",
       "    <tr>\n",
       "      <th>4</th>\n",
       "      <td>No</td>\n",
       "      <td>Air Miles</td>\n",
       "      <td>Letter</td>\n",
       "      <td>Medium</td>\n",
       "      <td>No</td>\n",
       "      <td>Medium</td>\n",
       "      <td>Yes</td>\n",
       "    </tr>\n",
       "  </tbody>\n",
       "</table>\n",
       "</div>"
      ],
      "text/plain": [
       "  offer_accepted     reward mailer_type income_level overdraft_protection  \\\n",
       "0             No  Air Miles      Letter         High                   No   \n",
       "1             No  Air Miles      Letter       Medium                   No   \n",
       "2             No  Air Miles    Postcard         High                   No   \n",
       "3             No  Air Miles      Letter       Medium                   No   \n",
       "4             No  Air Miles      Letter       Medium                   No   \n",
       "\n",
       "  credit_rating own_your_home  \n",
       "0          High            No  \n",
       "1        Medium           Yes  \n",
       "2        Medium           Yes  \n",
       "3          High            No  \n",
       "4        Medium           Yes  "
      ]
     },
     "execution_count": 71,
     "metadata": {},
     "output_type": "execute_result"
    }
   ],
   "source": [
    "cat = data.select_dtypes(np.object)\n",
    "cat.head()"
   ]
  },
  {
   "cell_type": "code",
   "execution_count": 72,
   "id": "00c626de",
   "metadata": {},
   "outputs": [
    {
     "data": {
      "image/png": "[encoded data removed]",
      "text/plain": [
       "<Figure size 432x288 with 1 Axes>"
      ]
     },
     "metadata": {
      "needs_background": "light"
     },
     "output_type": "display_data"
    },
    {
     "data": {
      "image/png": "[encoded data removed]",
      "text/plain": [
       "<Figure size 432x288 with 1 Axes>"
      ]
     },
     "metadata": {
      "needs_background": "light"
     },
     "output_type": "display_data"
    },
    {
     "data": {
      "image/png": "[encoded data removed]",
      "text/plain": [
       "<Figure size 432x288 with 1 Axes>"
      ]
     },
     "metadata": {
      "needs_background": "light"
     },
     "output_type": "display_data"
    },
    {
     "data": {
      "image/png": "[encoded data removed]",
      "text/plain": [
       "<Figure size 432x288 with 1 Axes>"
      ]
     },
     "metadata": {
      "needs_background": "light"
     },
     "output_type": "display_data"
    },
    {
     "data": {
      "image/png": "[encoded data removed]",
      "text/plain": [
       "<Figure size 432x288 with 1 Axes>"
      ]
     },
     "metadata": {
      "needs_background": "light"
     },
     "output_type": "display_data"
    },
    {
     "data": {
      "image/png": "[encoded data removed]",
      "text/plain": [
       "<Figure size 432x288 with 1 Axes>"
      ]
     },
     "metadata": {
      "needs_background": "light"
     },
     "output_type": "display_data"
    },
    {
     "data": {
      "image/png": "[encoded data removed]",
      "text/plain": [
       "<Figure size 432x288 with 1 Axes>"
      ]
     },
     "metadata": {
      "needs_background": "light"
     },
     "output_type": "display_data"
    }
   ],
   "source": [
    "for column in cat.columns: \n",
    "    sns.countplot(cat[column], palette = 'rocket')\n",
    "    plt.show()"
   ]
  },
  {
   "cell_type": "code",
   "execution_count": 73,
   "id": "aa61afcc",
   "metadata": {},
   "outputs": [
    {
     "data": {
      "image/png": "[encoded data removed]",
      "text/plain": [
       "<Figure size 216x432 with 1 Axes>"
      ]
     },
     "metadata": {},
     "output_type": "display_data"
    },
    {
     "data": {
      "image/png": "[encoded data removed]",
      "text/plain": [
       "<Figure size 216x432 with 1 Axes>"
      ]
     },
     "metadata": {},
     "output_type": "display_data"
    },
    {
     "data": {
      "image/png": "[encoded data removed]",
      "text/plain": [
       "<Figure size 216x432 with 1 Axes>"
      ]
     },
     "metadata": {},
     "output_type": "display_data"
    },
    {
     "data": {
      "image/png": "[encoded data removed]",
      "text/plain": [
       "<Figure size 216x432 with 1 Axes>"
      ]
     },
     "metadata": {},
     "output_type": "display_data"
    }
   ],
   "source": [
    "columns = ['offer_accepted', 'income_level', 'overdraft_protection', 'own_your_home']\n",
    "for col in columns:\n",
    "    data[col].value_counts().plot(kind='pie', autopct = \"%.2f%%\", colors = ['orange', 'pink', 'yellow'], figsize=(3, 6))\n",
    "    plt.show()"
   ]
  },
  {
   "cell_type": "markdown",
   "id": "1befdd3c",
   "metadata": {},
   "source": [
    "**Findings in categorical columns**\n",
    "- Only 5,68% of the customers accepted an offer. \n",
    "- 64,75% of the customer own their home.\n",
    "- About 85,12% have an overdraft protection on their checking account(s)."
   ]
  },
  {
   "cell_type": "markdown",
   "id": "2e226228",
   "metadata": {},
   "source": [
    "#### 4.6. Relationshop between accepted offers and the other columns "
   ]
  },
  {
   "cell_type": "code",
   "execution_count": 74,
   "id": "88623099",
   "metadata": {},
   "outputs": [
    {
     "data": {
      "image/png": "[encoded data removed]",
      "text/plain": [
       "<Figure size 1008x432 with 1 Axes>"
      ]
     },
     "metadata": {
      "needs_background": "light"
     },
     "output_type": "display_data"
    },
    {
     "data": {
      "image/png": "[encoded data removed]",
      "text/plain": [
       "<Figure size 1008x432 with 1 Axes>"
      ]
     },
     "metadata": {
      "needs_background": "light"
     },
     "output_type": "display_data"
    },
    {
     "data": {
      "image/png": "[encoded data removed]",
      "text/plain": [
       "<Figure size 1008x432 with 1 Axes>"
      ]
     },
     "metadata": {
      "needs_background": "light"
     },
     "output_type": "display_data"
    },
    {
     "data": {
      "image/png": "[encoded data removed]",
      "text/plain": [
       "<Figure size 1008x432 with 1 Axes>"
      ]
     },
     "metadata": {
      "needs_background": "light"
     },
     "output_type": "display_data"
    },
    {
     "data": {
      "image/png": "[encoded data removed]",
      "text/plain": [
       "<Figure size 1008x432 with 1 Axes>"
      ]
     },
     "metadata": {
      "needs_background": "light"
     },
     "output_type": "display_data"
    },
    {
     "data": {
      "image/png": "[encoded data removed]",
      "text/plain": [
       "<Figure size 1008x432 with 1 Axes>"
      ]
     },
     "metadata": {
      "needs_background": "light"
     },
     "output_type": "display_data"
    },
    {
     "data": {
      "image/png": "[encoded data removed]",
      "text/plain": [
       "<Figure size 1008x432 with 1 Axes>"
      ]
     },
     "metadata": {
      "needs_background": "light"
     },
     "output_type": "display_data"
    }
   ],
   "source": [
    "columns = ['income_level', 'overdraft_protection', 'own_your_home', 'bank_accounts_open', 'credit_cards_held', 'homes_owned', 'household_size']\n",
    "for i in columns: \n",
    "    plt.figure(figsize=(14,6))\n",
    "    sns.countplot(x = i, hue = 'offer_accepted', data = data, palette = \"Set2\")\n",
    "    plt.show()"
   ]
  },
  {
   "cell_type": "markdown",
   "id": "74684f34",
   "metadata": {},
   "source": [
    "**Findings in the relations between the columns**\n",
    "- The distribution of customers who accepted the offer appears to be evenly divided between levels of income. Same for the option to have an overdraft protection, owning a home, the amount of open bank accounts, credit cards held and amount of home. \n",
    "- My only guess, based on the first overview, is that people who live in a household of the size 3 or 4 are more likely to accept the offer. "
   ]
  },
  {
   "cell_type": "markdown",
   "id": "f6323ab8",
   "metadata": {},
   "source": [
    "### 5. EDA"
   ]
  },
  {
   "cell_type": "markdown",
   "id": "de488ebb",
   "metadata": {},
   "source": [
    "#### 5.1. Set index"
   ]
  },
  {
   "cell_type": "markdown",
   "id": "f02eb0c8",
   "metadata": {},
   "source": [
    "Because the customer_number is a unique value, I set it to index."
   ]
  },
  {
   "cell_type": "code",
   "execution_count": 75,
   "id": "da933414",
   "metadata": {},
   "outputs": [
    {
     "data": {
      "text/plain": [
       "(18000, 16)"
      ]
     },
     "execution_count": 75,
     "metadata": {},
     "output_type": "execute_result"
    }
   ],
   "source": [
    "data.set_index('customer_number',inplace = True)\n",
    "data.shape"
   ]
  },
  {
   "cell_type": "markdown",
   "id": "35ee2f6c",
   "metadata": {},
   "source": [
    "#### 5.2. Check the correlation"
   ]
  },
  {
   "cell_type": "markdown",
   "id": "03c3d366",
   "metadata": {},
   "source": [
    "Check the correlation for numerical data"
   ]
  },
  {
   "cell_type": "code",
   "execution_count": 76,
   "id": "ebe07efd",
   "metadata": {},
   "outputs": [
    {
     "data": {
      "image/png": "[encoded data removed]",
      "text/plain": [
       "<Figure size 720x576 with 2 Axes>"
      ]
     },
     "metadata": {
      "needs_background": "light"
     },
     "output_type": "display_data"
    }
   ],
   "source": [
    "corr_matrix=data.corr(method='pearson')\n",
    "fig, ax = plt.subplots(figsize=(10, 8))\n",
    "ax = sns.heatmap(corr_matrix, annot=True)\n",
    "plt.show()"
   ]
  },
  {
   "cell_type": "markdown",
   "id": "532b5623",
   "metadata": {},
   "source": [
    "There is a high correlation between the over all average and the average of the quarterly average (q1, q2, q3, q4.) Hence, I decided to drop the average balance.  "
   ]
  },
  {
   "cell_type": "code",
   "execution_count": 77,
   "id": "fbb055d9",
   "metadata": {},
   "outputs": [],
   "source": [
    "data = data.drop(['average_balance'],axis=1)"
   ]
  },
  {
   "cell_type": "code",
   "execution_count": 78,
   "id": "ba2ddf59",
   "metadata": {},
   "outputs": [
    {
     "data": {
      "image/png": "[encoded data removed]",
      "text/plain": [
       "<Figure size 720x576 with 2 Axes>"
      ]
     },
     "metadata": {
      "needs_background": "light"
     },
     "output_type": "display_data"
    }
   ],
   "source": [
    "corr_matrix=data.corr(method='pearson')\n",
    "fig, ax = plt.subplots(figsize=(10, 8))\n",
    "ax = sns.heatmap(corr_matrix, annot=True)\n",
    "plt.show()"
   ]
  },
  {
   "cell_type": "markdown",
   "id": "498b1639",
   "metadata": {},
   "source": [
    "Check the correlation for categorical data"
   ]
  },
  {
   "cell_type": "code",
   "execution_count": 91,
   "id": "05a614c4",
   "metadata": {},
   "outputs": [
    {
     "name": "stdout",
     "output_type": "stream",
     "text": [
      "\n",
      "--------------------------------------------------------------------------------------\n",
      "\n",
      "--------------------------------------------------------------------------------------\n",
      "H₀: column offer_accepted  and column reward are independent, i.e. no relationship\n",
      "H₁: column offer_accepted  and column reward are independent, i.e. ∃ a relationship\n",
      "α = 0.05\n",
      "\n",
      "--------------------------------------------------------------------------------------\n",
      "The p-value approach: The p-value approach to hypothesis testing in the decision rule\n",
      "chisquare-score is: 101.99764699462307  and p value is: 0.0\n",
      "Null Hypothesis is rejected.\n",
      "\n",
      "--------------------------------------------------------------------------------------\n",
      "The critical value approach: The critical value approach to hypothesis testing in the decision rule\n",
      "chisquare-score is: 101.99764699462307  and p value is: 5.991464547107979\n",
      "Null Hypothesis is rejected.\n",
      "\n",
      "--------------------------------------------------------------------------------------\n",
      "\n",
      "--------------------------------------------------------------------------------------\n",
      "H₀: column offer_accepted  and column mailer_type are independent, i.e. no relationship\n",
      "H₁: column offer_accepted  and column mailer_type are independent, i.e. ∃ a relationship\n",
      "α = 0.05\n",
      "\n",
      "--------------------------------------------------------------------------------------\n",
      "The p-value approach: The p-value approach to hypothesis testing in the decision rule\n",
      "chisquare-score is: 171.13002056177373  and p value is: 0.0\n",
      "Null Hypothesis is rejected.\n",
      "\n",
      "--------------------------------------------------------------------------------------\n",
      "The critical value approach: The critical value approach to hypothesis testing in the decision rule\n",
      "chisquare-score is: 171.13002056177373  and p value is: 3.841458820694124\n",
      "Null Hypothesis is rejected.\n",
      "\n",
      "--------------------------------------------------------------------------------------\n",
      "\n",
      "--------------------------------------------------------------------------------------\n",
      "H₀: column offer_accepted  and column income_level are independent, i.e. no relationship\n",
      "H₁: column offer_accepted  and column income_level are independent, i.e. ∃ a relationship\n",
      "α = 0.05\n",
      "\n",
      "--------------------------------------------------------------------------------------\n",
      "The p-value approach: The p-value approach to hypothesis testing in the decision rule\n",
      "chisquare-score is: 114.36759816901265  and p value is: 0.0\n",
      "Null Hypothesis is rejected.\n",
      "\n",
      "--------------------------------------------------------------------------------------\n",
      "The critical value approach: The critical value approach to hypothesis testing in the decision rule\n",
      "chisquare-score is: 114.36759816901265  and p value is: 5.991464547107979\n",
      "Null Hypothesis is rejected.\n",
      "\n",
      "--------------------------------------------------------------------------------------\n",
      "\n",
      "--------------------------------------------------------------------------------------\n",
      "H₀: column offer_accepted  and column overdraft_protection are independent, i.e. no relationship\n",
      "H₁: column offer_accepted  and column overdraft_protection are independent, i.e. ∃ a relationship\n",
      "α = 0.05\n",
      "\n",
      "--------------------------------------------------------------------------------------\n",
      "The p-value approach: The p-value approach to hypothesis testing in the decision rule\n",
      "chisquare-score is: 0.1443392833541908  and p value is: 0.8039072624815704\n",
      "Failed to reject the null hypothesis.\n",
      "\n",
      "--------------------------------------------------------------------------------------\n",
      "The critical value approach: The critical value approach to hypothesis testing in the decision rule\n",
      "chisquare-score is: 0.1443392833541908  and p value is: 3.841458820694124\n",
      "Failed to reject the null hypothesis.\n",
      "\n",
      "--------------------------------------------------------------------------------------\n",
      "\n",
      "--------------------------------------------------------------------------------------\n",
      "H₀: column offer_accepted  and column credit_rating are independent, i.e. no relationship\n",
      "H₁: column offer_accepted  and column credit_rating are independent, i.e. ∃ a relationship\n",
      "α = 0.05\n",
      "\n",
      "--------------------------------------------------------------------------------------\n",
      "The p-value approach: The p-value approach to hypothesis testing in the decision rule\n",
      "chisquare-score is: 443.1289291631659  and p value is: 0.0\n",
      "Null Hypothesis is rejected.\n",
      "\n",
      "--------------------------------------------------------------------------------------\n",
      "The critical value approach: The critical value approach to hypothesis testing in the decision rule\n",
      "chisquare-score is: 443.1289291631659  and p value is: 5.991464547107979\n",
      "Null Hypothesis is rejected.\n",
      "\n",
      "--------------------------------------------------------------------------------------\n",
      "\n",
      "--------------------------------------------------------------------------------------\n",
      "H₀: column offer_accepted  and column own_your_home are independent, i.e. no relationship\n",
      "H₁: column offer_accepted  and column own_your_home are independent, i.e. ∃ a relationship\n",
      "α = 0.05\n",
      "\n",
      "--------------------------------------------------------------------------------------\n",
      "The p-value approach: The p-value approach to hypothesis testing in the decision rule\n",
      "chisquare-score is: 0.0016758285818582156  and p value is: 0.8409389048371148\n",
      "Failed to reject the null hypothesis.\n",
      "\n",
      "--------------------------------------------------------------------------------------\n",
      "The critical value approach: The critical value approach to hypothesis testing in the decision rule\n",
      "chisquare-score is: 0.0016758285818582156  and p value is: 3.841458820694124\n",
      "Failed to reject the null hypothesis.\n",
      "\n",
      "--------------------------------------------------------------------------------------\n",
      "\n",
      "--------------------------------------------------------------------------------------\n",
      "H₀: column reward  and column offer_accepted are independent, i.e. no relationship\n",
      "H₁: column reward  and column offer_accepted are independent, i.e. ∃ a relationship\n",
      "α = 0.05\n",
      "\n",
      "--------------------------------------------------------------------------------------\n",
      "The p-value approach: The p-value approach to hypothesis testing in the decision rule\n",
      "chisquare-score is: 101.99764699462307  and p value is: 0.0\n",
      "Null Hypothesis is rejected.\n",
      "\n",
      "--------------------------------------------------------------------------------------\n",
      "The critical value approach: The critical value approach to hypothesis testing in the decision rule\n",
      "chisquare-score is: 101.99764699462307  and p value is: 5.991464547107979\n",
      "Null Hypothesis is rejected.\n",
      "\n",
      "--------------------------------------------------------------------------------------\n",
      "\n",
      "--------------------------------------------------------------------------------------\n",
      "H₀: column reward  and column mailer_type are independent, i.e. no relationship\n",
      "H₁: column reward  and column mailer_type are independent, i.e. ∃ a relationship\n",
      "α = 0.05\n",
      "\n",
      "--------------------------------------------------------------------------------------\n",
      "The p-value approach: The p-value approach to hypothesis testing in the decision rule\n",
      "chisquare-score is: 0.8985334599146192  and p value is: 0.8646531703292115\n",
      "Failed to reject the null hypothesis.\n",
      "\n",
      "--------------------------------------------------------------------------------------\n",
      "The critical value approach: The critical value approach to hypothesis testing in the decision rule\n",
      "chisquare-score is: 0.8985334599146192  and p value is: 5.991464547107979\n",
      "Failed to reject the null hypothesis.\n",
      "\n",
      "--------------------------------------------------------------------------------------\n",
      "\n",
      "--------------------------------------------------------------------------------------\n",
      "H₀: column reward  and column income_level are independent, i.e. no relationship\n",
      "H₁: column reward  and column income_level are independent, i.e. ∃ a relationship\n",
      "α = 0.05\n",
      "\n",
      "--------------------------------------------------------------------------------------\n",
      "The p-value approach: The p-value approach to hypothesis testing in the decision rule\n",
      "chisquare-score is: 2.593947767973481  and p value is: 0.9201456923411852\n",
      "Failed to reject the null hypothesis.\n",
      "\n",
      "--------------------------------------------------------------------------------------\n",
      "The critical value approach: The critical value approach to hypothesis testing in the decision rule\n",
      "chisquare-score is: 2.593947767973481  and p value is: 9.487729036781154\n",
      "Failed to reject the null hypothesis.\n",
      "\n",
      "--------------------------------------------------------------------------------------\n",
      "\n",
      "--------------------------------------------------------------------------------------\n",
      "H₀: column reward  and column overdraft_protection are independent, i.e. no relationship\n",
      "H₁: column reward  and column overdraft_protection are independent, i.e. ∃ a relationship\n",
      "α = 0.05\n",
      "\n",
      "--------------------------------------------------------------------------------------\n",
      "The p-value approach: The p-value approach to hypothesis testing in the decision rule\n",
      "chisquare-score is: 1.5212485310861386  and p value is: 0.6839422771470725\n",
      "Failed to reject the null hypothesis.\n",
      "\n",
      "--------------------------------------------------------------------------------------\n",
      "The critical value approach: The critical value approach to hypothesis testing in the decision rule\n",
      "chisquare-score is: 1.5212485310861386  and p value is: 5.991464547107979\n",
      "Failed to reject the null hypothesis.\n"
     ]
    },
    {
     "name": "stdout",
     "output_type": "stream",
     "text": [
      "\n",
      "--------------------------------------------------------------------------------------\n",
      "\n",
      "--------------------------------------------------------------------------------------\n",
      "H₀: column reward  and column credit_rating are independent, i.e. no relationship\n",
      "H₁: column reward  and column credit_rating are independent, i.e. ∃ a relationship\n",
      "α = 0.05\n",
      "\n",
      "--------------------------------------------------------------------------------------\n",
      "The p-value approach: The p-value approach to hypothesis testing in the decision rule\n",
      "chisquare-score is: 2.316082014017522  and p value is: 0.9539012400734888\n",
      "Failed to reject the null hypothesis.\n",
      "\n",
      "--------------------------------------------------------------------------------------\n",
      "The critical value approach: The critical value approach to hypothesis testing in the decision rule\n",
      "chisquare-score is: 2.316082014017522  and p value is: 9.487729036781154\n",
      "Failed to reject the null hypothesis.\n",
      "\n",
      "--------------------------------------------------------------------------------------\n",
      "\n",
      "--------------------------------------------------------------------------------------\n",
      "H₀: column reward  and column own_your_home are independent, i.e. no relationship\n",
      "H₁: column reward  and column own_your_home are independent, i.e. ∃ a relationship\n",
      "α = 0.05\n",
      "\n",
      "--------------------------------------------------------------------------------------\n",
      "The p-value approach: The p-value approach to hypothesis testing in the decision rule\n",
      "chisquare-score is: 1.9199266892849023  and p value is: 0.5319105252323337\n",
      "Failed to reject the null hypothesis.\n",
      "\n",
      "--------------------------------------------------------------------------------------\n",
      "The critical value approach: The critical value approach to hypothesis testing in the decision rule\n",
      "chisquare-score is: 1.9199266892849023  and p value is: 5.991464547107979\n",
      "Failed to reject the null hypothesis.\n",
      "\n",
      "--------------------------------------------------------------------------------------\n",
      "\n",
      "--------------------------------------------------------------------------------------\n",
      "H₀: column mailer_type  and column offer_accepted are independent, i.e. no relationship\n",
      "H₁: column mailer_type  and column offer_accepted are independent, i.e. ∃ a relationship\n",
      "α = 0.05\n",
      "\n",
      "--------------------------------------------------------------------------------------\n",
      "The p-value approach: The p-value approach to hypothesis testing in the decision rule\n",
      "chisquare-score is: 171.13002056177373  and p value is: 0.0\n",
      "Null Hypothesis is rejected.\n",
      "\n",
      "--------------------------------------------------------------------------------------\n",
      "The critical value approach: The critical value approach to hypothesis testing in the decision rule\n",
      "chisquare-score is: 171.13002056177373  and p value is: 3.841458820694124\n",
      "Null Hypothesis is rejected.\n",
      "\n",
      "--------------------------------------------------------------------------------------\n",
      "\n",
      "--------------------------------------------------------------------------------------\n",
      "H₀: column mailer_type  and column reward are independent, i.e. no relationship\n",
      "H₁: column mailer_type  and column reward are independent, i.e. ∃ a relationship\n",
      "α = 0.05\n",
      "\n",
      "--------------------------------------------------------------------------------------\n",
      "The p-value approach: The p-value approach to hypothesis testing in the decision rule\n",
      "chisquare-score is: 0.8985334599146192  and p value is: 0.8646531703292115\n",
      "Failed to reject the null hypothesis.\n",
      "\n",
      "--------------------------------------------------------------------------------------\n",
      "The critical value approach: The critical value approach to hypothesis testing in the decision rule\n",
      "chisquare-score is: 0.8985334599146192  and p value is: 5.991464547107979\n",
      "Failed to reject the null hypothesis.\n",
      "\n",
      "--------------------------------------------------------------------------------------\n",
      "\n",
      "--------------------------------------------------------------------------------------\n",
      "H₀: column mailer_type  and column income_level are independent, i.e. no relationship\n",
      "H₁: column mailer_type  and column income_level are independent, i.e. ∃ a relationship\n",
      "α = 0.05\n",
      "\n",
      "--------------------------------------------------------------------------------------\n",
      "The p-value approach: The p-value approach to hypothesis testing in the decision rule\n",
      "chisquare-score is: 1.090489143430784  and p value is: 0.818459735129406\n",
      "Failed to reject the null hypothesis.\n",
      "\n",
      "--------------------------------------------------------------------------------------\n",
      "The critical value approach: The critical value approach to hypothesis testing in the decision rule\n",
      "chisquare-score is: 1.090489143430784  and p value is: 5.991464547107979\n",
      "Failed to reject the null hypothesis.\n",
      "\n",
      "--------------------------------------------------------------------------------------\n",
      "\n",
      "--------------------------------------------------------------------------------------\n",
      "H₀: column mailer_type  and column overdraft_protection are independent, i.e. no relationship\n",
      "H₁: column mailer_type  and column overdraft_protection are independent, i.e. ∃ a relationship\n",
      "α = 0.05\n",
      "\n",
      "--------------------------------------------------------------------------------------\n",
      "The p-value approach: The p-value approach to hypothesis testing in the decision rule\n",
      "chisquare-score is: 0.14629590973247864  and p value is: 0.8033655163758577\n",
      "Failed to reject the null hypothesis.\n",
      "\n",
      "--------------------------------------------------------------------------------------\n",
      "The critical value approach: The critical value approach to hypothesis testing in the decision rule\n",
      "chisquare-score is: 0.14629590973247864  and p value is: 3.841458820694124\n",
      "Failed to reject the null hypothesis.\n",
      "\n",
      "--------------------------------------------------------------------------------------\n",
      "\n",
      "--------------------------------------------------------------------------------------\n",
      "H₀: column mailer_type  and column credit_rating are independent, i.e. no relationship\n",
      "H₁: column mailer_type  and column credit_rating are independent, i.e. ∃ a relationship\n",
      "α = 0.05\n",
      "\n",
      "--------------------------------------------------------------------------------------\n",
      "The p-value approach: The p-value approach to hypothesis testing in the decision rule\n",
      "chisquare-score is: 0.5723021363303354  and p value is: 0.9233105793259825\n",
      "Failed to reject the null hypothesis.\n",
      "\n",
      "--------------------------------------------------------------------------------------\n",
      "The critical value approach: The critical value approach to hypothesis testing in the decision rule\n",
      "chisquare-score is: 0.5723021363303354  and p value is: 5.991464547107979\n",
      "Failed to reject the null hypothesis.\n",
      "\n",
      "--------------------------------------------------------------------------------------\n",
      "\n",
      "--------------------------------------------------------------------------------------\n",
      "H₀: column mailer_type  and column own_your_home are independent, i.e. no relationship\n",
      "H₁: column mailer_type  and column own_your_home are independent, i.e. ∃ a relationship\n",
      "α = 0.05\n",
      "\n",
      "--------------------------------------------------------------------------------------\n",
      "The p-value approach: The p-value approach to hypothesis testing in the decision rule\n",
      "chisquare-score is: 0.33991822445608444  and p value is: 0.7453993234326448\n",
      "Failed to reject the null hypothesis.\n",
      "\n",
      "--------------------------------------------------------------------------------------\n",
      "The critical value approach: The critical value approach to hypothesis testing in the decision rule\n",
      "chisquare-score is: 0.33991822445608444  and p value is: 3.841458820694124\n",
      "Failed to reject the null hypothesis.\n",
      "\n",
      "--------------------------------------------------------------------------------------\n",
      "\n",
      "--------------------------------------------------------------------------------------\n",
      "H₀: column income_level  and column offer_accepted are independent, i.e. no relationship\n",
      "H₁: column income_level  and column offer_accepted are independent, i.e. ∃ a relationship\n",
      "α = 0.05\n",
      "\n",
      "--------------------------------------------------------------------------------------\n",
      "The p-value approach: The p-value approach to hypothesis testing in the decision rule\n",
      "chisquare-score is: 114.36759816901265  and p value is: 0.0\n",
      "Null Hypothesis is rejected.\n",
      "\n",
      "--------------------------------------------------------------------------------------\n",
      "The critical value approach: The critical value approach to hypothesis testing in the decision rule\n",
      "chisquare-score is: 114.36759816901265  and p value is: 5.991464547107979\n",
      "Null Hypothesis is rejected.\n",
      "\n",
      "--------------------------------------------------------------------------------------\n",
      "\n",
      "--------------------------------------------------------------------------------------\n",
      "H₀: column income_level  and column reward are independent, i.e. no relationship\n",
      "H₁: column income_level  and column reward are independent, i.e. ∃ a relationship\n",
      "α = 0.05\n",
      "\n",
      "--------------------------------------------------------------------------------------\n",
      "The p-value approach: The p-value approach to hypothesis testing in the decision rule\n",
      "chisquare-score is: 2.5939477679734813  and p value is: 0.920145692341185\n",
      "Failed to reject the null hypothesis.\n",
      "\n",
      "--------------------------------------------------------------------------------------\n",
      "The critical value approach: The critical value approach to hypothesis testing in the decision rule\n"
     ]
    },
    {
     "name": "stdout",
     "output_type": "stream",
     "text": [
      "chisquare-score is: 2.5939477679734813  and p value is: 9.487729036781154\n",
      "Failed to reject the null hypothesis.\n",
      "\n",
      "--------------------------------------------------------------------------------------\n",
      "\n",
      "--------------------------------------------------------------------------------------\n",
      "H₀: column income_level  and column mailer_type are independent, i.e. no relationship\n",
      "H₁: column income_level  and column mailer_type are independent, i.e. ∃ a relationship\n",
      "α = 0.05\n",
      "\n",
      "--------------------------------------------------------------------------------------\n",
      "The p-value approach: The p-value approach to hypothesis testing in the decision rule\n",
      "chisquare-score is: 1.0904891434307842  and p value is: 0.8184597351294058\n",
      "Failed to reject the null hypothesis.\n",
      "\n",
      "--------------------------------------------------------------------------------------\n",
      "The critical value approach: The critical value approach to hypothesis testing in the decision rule\n",
      "chisquare-score is: 1.0904891434307842  and p value is: 5.991464547107979\n",
      "Failed to reject the null hypothesis.\n",
      "\n",
      "--------------------------------------------------------------------------------------\n",
      "\n",
      "--------------------------------------------------------------------------------------\n",
      "H₀: column income_level  and column overdraft_protection are independent, i.e. no relationship\n",
      "H₁: column income_level  and column overdraft_protection are independent, i.e. ∃ a relationship\n",
      "α = 0.05\n",
      "\n",
      "--------------------------------------------------------------------------------------\n",
      "The p-value approach: The p-value approach to hypothesis testing in the decision rule\n",
      "chisquare-score is: 1.17563881916656  and p value is: 0.7951328174762822\n",
      "Failed to reject the null hypothesis.\n",
      "\n",
      "--------------------------------------------------------------------------------------\n",
      "The critical value approach: The critical value approach to hypothesis testing in the decision rule\n",
      "chisquare-score is: 1.17563881916656  and p value is: 5.991464547107979\n",
      "Failed to reject the null hypothesis.\n",
      "\n",
      "--------------------------------------------------------------------------------------\n",
      "\n",
      "--------------------------------------------------------------------------------------\n",
      "H₀: column income_level  and column credit_rating are independent, i.e. no relationship\n",
      "H₁: column income_level  and column credit_rating are independent, i.e. ∃ a relationship\n",
      "α = 0.05\n",
      "\n",
      "--------------------------------------------------------------------------------------\n",
      "The p-value approach: The p-value approach to hypothesis testing in the decision rule\n",
      "chisquare-score is: 3.110919819078809  and p value is: 0.8130200052519723\n",
      "Failed to reject the null hypothesis.\n",
      "\n",
      "--------------------------------------------------------------------------------------\n",
      "The critical value approach: The critical value approach to hypothesis testing in the decision rule\n",
      "chisquare-score is: 3.110919819078809  and p value is: 9.487729036781154\n",
      "Failed to reject the null hypothesis.\n",
      "\n",
      "--------------------------------------------------------------------------------------\n",
      "\n",
      "--------------------------------------------------------------------------------------\n",
      "H₀: column income_level  and column own_your_home are independent, i.e. no relationship\n",
      "H₁: column income_level  and column own_your_home are independent, i.e. ∃ a relationship\n",
      "α = 0.05\n",
      "\n",
      "--------------------------------------------------------------------------------------\n",
      "The p-value approach: The p-value approach to hypothesis testing in the decision rule\n",
      "chisquare-score is: 2.129908970121201  and p value is: 0.4483192236513731\n",
      "Failed to reject the null hypothesis.\n",
      "\n",
      "--------------------------------------------------------------------------------------\n",
      "The critical value approach: The critical value approach to hypothesis testing in the decision rule\n",
      "chisquare-score is: 2.129908970121201  and p value is: 5.991464547107979\n",
      "Failed to reject the null hypothesis.\n",
      "\n",
      "--------------------------------------------------------------------------------------\n",
      "\n",
      "--------------------------------------------------------------------------------------\n",
      "H₀: column overdraft_protection  and column offer_accepted are independent, i.e. no relationship\n",
      "H₁: column overdraft_protection  and column offer_accepted are independent, i.e. ∃ a relationship\n",
      "α = 0.05\n",
      "\n",
      "--------------------------------------------------------------------------------------\n",
      "The p-value approach: The p-value approach to hypothesis testing in the decision rule\n",
      "chisquare-score is: 0.1443392833541908  and p value is: 0.8039072624815704\n",
      "Failed to reject the null hypothesis.\n",
      "\n",
      "--------------------------------------------------------------------------------------\n",
      "The critical value approach: The critical value approach to hypothesis testing in the decision rule\n",
      "chisquare-score is: 0.1443392833541908  and p value is: 3.841458820694124\n",
      "Failed to reject the null hypothesis.\n",
      "\n",
      "--------------------------------------------------------------------------------------\n",
      "\n",
      "--------------------------------------------------------------------------------------\n",
      "H₀: column overdraft_protection  and column reward are independent, i.e. no relationship\n",
      "H₁: column overdraft_protection  and column reward are independent, i.e. ∃ a relationship\n",
      "α = 0.05\n",
      "\n",
      "--------------------------------------------------------------------------------------\n",
      "The p-value approach: The p-value approach to hypothesis testing in the decision rule\n",
      "chisquare-score is: 1.5212485310861386  and p value is: 0.6839422771470725\n",
      "Failed to reject the null hypothesis.\n",
      "\n",
      "--------------------------------------------------------------------------------------\n",
      "The critical value approach: The critical value approach to hypothesis testing in the decision rule\n",
      "chisquare-score is: 1.5212485310861386  and p value is: 5.991464547107979\n",
      "Failed to reject the null hypothesis.\n",
      "\n",
      "--------------------------------------------------------------------------------------\n",
      "\n",
      "--------------------------------------------------------------------------------------\n",
      "H₀: column overdraft_protection  and column mailer_type are independent, i.e. no relationship\n",
      "H₁: column overdraft_protection  and column mailer_type are independent, i.e. ∃ a relationship\n",
      "α = 0.05\n",
      "\n",
      "--------------------------------------------------------------------------------------\n",
      "The p-value approach: The p-value approach to hypothesis testing in the decision rule\n",
      "chisquare-score is: 0.14629590973247864  and p value is: 0.8033655163758577\n",
      "Failed to reject the null hypothesis.\n",
      "\n",
      "--------------------------------------------------------------------------------------\n",
      "The critical value approach: The critical value approach to hypothesis testing in the decision rule\n",
      "chisquare-score is: 0.14629590973247864  and p value is: 3.841458820694124\n",
      "Failed to reject the null hypothesis.\n",
      "\n",
      "--------------------------------------------------------------------------------------\n",
      "\n",
      "--------------------------------------------------------------------------------------\n",
      "H₀: column overdraft_protection  and column income_level are independent, i.e. no relationship\n",
      "H₁: column overdraft_protection  and column income_level are independent, i.e. ∃ a relationship\n",
      "α = 0.05\n",
      "\n",
      "--------------------------------------------------------------------------------------\n",
      "The p-value approach: The p-value approach to hypothesis testing in the decision rule\n",
      "chisquare-score is: 1.1756388191665603  and p value is: 0.7951328174762822\n",
      "Failed to reject the null hypothesis.\n",
      "\n",
      "--------------------------------------------------------------------------------------\n",
      "The critical value approach: The critical value approach to hypothesis testing in the decision rule\n",
      "chisquare-score is: 1.1756388191665603  and p value is: 5.991464547107979\n",
      "Failed to reject the null hypothesis.\n",
      "\n",
      "--------------------------------------------------------------------------------------\n",
      "\n",
      "--------------------------------------------------------------------------------------\n",
      "H₀: column overdraft_protection  and column credit_rating are independent, i.e. no relationship\n",
      "H₁: column overdraft_protection  and column credit_rating are independent, i.e. ∃ a relationship\n",
      "α = 0.05\n",
      "\n",
      "--------------------------------------------------------------------------------------\n",
      "The p-value approach: The p-value approach to hypothesis testing in the decision rule\n",
      "chisquare-score is: 1.3113634637871212  and p value is: 0.7544739885515297\n",
      "Failed to reject the null hypothesis.\n",
      "\n",
      "--------------------------------------------------------------------------------------\n",
      "The critical value approach: The critical value approach to hypothesis testing in the decision rule\n",
      "chisquare-score is: 1.3113634637871212  and p value is: 5.991464547107979\n",
      "Failed to reject the null hypothesis.\n",
      "\n",
      "--------------------------------------------------------------------------------------\n",
      "\n",
      "--------------------------------------------------------------------------------------\n",
      "H₀: column overdraft_protection  and column own_your_home are independent, i.e. no relationship\n",
      "H₁: column overdraft_protection  and column own_your_home are independent, i.e. ∃ a relationship\n",
      "α = 0.05\n",
      "\n",
      "--------------------------------------------------------------------------------------\n",
      "The p-value approach: The p-value approach to hypothesis testing in the decision rule\n",
      "chisquare-score is: 1.20075350362184  and p value is: 0.4204456607035978\n",
      "Failed to reject the null hypothesis.\n",
      "\n",
      "--------------------------------------------------------------------------------------\n",
      "The critical value approach: The critical value approach to hypothesis testing in the decision rule\n",
      "chisquare-score is: 1.20075350362184  and p value is: 3.841458820694124\n",
      "Failed to reject the null hypothesis.\n"
     ]
    },
    {
     "name": "stdout",
     "output_type": "stream",
     "text": [
      "\n",
      "--------------------------------------------------------------------------------------\n",
      "\n",
      "--------------------------------------------------------------------------------------\n",
      "H₀: column credit_rating  and column offer_accepted are independent, i.e. no relationship\n",
      "H₁: column credit_rating  and column offer_accepted are independent, i.e. ∃ a relationship\n",
      "α = 0.05\n",
      "\n",
      "--------------------------------------------------------------------------------------\n",
      "The p-value approach: The p-value approach to hypothesis testing in the decision rule\n",
      "chisquare-score is: 443.1289291631658  and p value is: 0.0\n",
      "Null Hypothesis is rejected.\n",
      "\n",
      "--------------------------------------------------------------------------------------\n",
      "The critical value approach: The critical value approach to hypothesis testing in the decision rule\n",
      "chisquare-score is: 443.1289291631658  and p value is: 5.991464547107979\n",
      "Null Hypothesis is rejected.\n",
      "\n",
      "--------------------------------------------------------------------------------------\n",
      "\n",
      "--------------------------------------------------------------------------------------\n",
      "H₀: column credit_rating  and column reward are independent, i.e. no relationship\n",
      "H₁: column credit_rating  and column reward are independent, i.e. ∃ a relationship\n",
      "α = 0.05\n",
      "\n",
      "--------------------------------------------------------------------------------------\n",
      "The p-value approach: The p-value approach to hypothesis testing in the decision rule\n",
      "chisquare-score is: 2.3160820140175216  and p value is: 0.9539012400734888\n",
      "Failed to reject the null hypothesis.\n",
      "\n",
      "--------------------------------------------------------------------------------------\n",
      "The critical value approach: The critical value approach to hypothesis testing in the decision rule\n",
      "chisquare-score is: 2.3160820140175216  and p value is: 9.487729036781154\n",
      "Failed to reject the null hypothesis.\n",
      "\n",
      "--------------------------------------------------------------------------------------\n",
      "\n",
      "--------------------------------------------------------------------------------------\n",
      "H₀: column credit_rating  and column mailer_type are independent, i.e. no relationship\n",
      "H₁: column credit_rating  and column mailer_type are independent, i.e. ∃ a relationship\n",
      "α = 0.05\n",
      "\n",
      "--------------------------------------------------------------------------------------\n",
      "The p-value approach: The p-value approach to hypothesis testing in the decision rule\n",
      "chisquare-score is: 0.5723021363303354  and p value is: 0.9233105793259825\n",
      "Failed to reject the null hypothesis.\n",
      "\n",
      "--------------------------------------------------------------------------------------\n",
      "The critical value approach: The critical value approach to hypothesis testing in the decision rule\n",
      "chisquare-score is: 0.5723021363303354  and p value is: 5.991464547107979\n",
      "Failed to reject the null hypothesis.\n",
      "\n",
      "--------------------------------------------------------------------------------------\n",
      "\n",
      "--------------------------------------------------------------------------------------\n",
      "H₀: column credit_rating  and column income_level are independent, i.e. no relationship\n",
      "H₁: column credit_rating  and column income_level are independent, i.e. ∃ a relationship\n",
      "α = 0.05\n",
      "\n",
      "--------------------------------------------------------------------------------------\n",
      "The p-value approach: The p-value approach to hypothesis testing in the decision rule\n",
      "chisquare-score is: 3.110919819078809  and p value is: 0.8130200052519723\n",
      "Failed to reject the null hypothesis.\n",
      "\n",
      "--------------------------------------------------------------------------------------\n",
      "The critical value approach: The critical value approach to hypothesis testing in the decision rule\n",
      "chisquare-score is: 3.110919819078809  and p value is: 9.487729036781154\n",
      "Failed to reject the null hypothesis.\n",
      "\n",
      "--------------------------------------------------------------------------------------\n",
      "\n",
      "--------------------------------------------------------------------------------------\n",
      "H₀: column credit_rating  and column overdraft_protection are independent, i.e. no relationship\n",
      "H₁: column credit_rating  and column overdraft_protection are independent, i.e. ∃ a relationship\n",
      "α = 0.05\n",
      "\n",
      "--------------------------------------------------------------------------------------\n",
      "The p-value approach: The p-value approach to hypothesis testing in the decision rule\n",
      "chisquare-score is: 1.3113634637871212  and p value is: 0.7544739885515297\n",
      "Failed to reject the null hypothesis.\n",
      "\n",
      "--------------------------------------------------------------------------------------\n",
      "The critical value approach: The critical value approach to hypothesis testing in the decision rule\n",
      "chisquare-score is: 1.3113634637871212  and p value is: 5.991464547107979\n",
      "Failed to reject the null hypothesis.\n",
      "\n",
      "--------------------------------------------------------------------------------------\n",
      "\n",
      "--------------------------------------------------------------------------------------\n",
      "H₀: column credit_rating  and column own_your_home are independent, i.e. no relationship\n",
      "H₁: column credit_rating  and column own_your_home are independent, i.e. ∃ a relationship\n",
      "α = 0.05\n",
      "\n",
      "--------------------------------------------------------------------------------------\n",
      "The p-value approach: The p-value approach to hypothesis testing in the decision rule\n",
      "chisquare-score is: 1.0865620108797436  and p value is: 0.8194938833112038\n",
      "Failed to reject the null hypothesis.\n",
      "\n",
      "--------------------------------------------------------------------------------------\n",
      "The critical value approach: The critical value approach to hypothesis testing in the decision rule\n",
      "chisquare-score is: 1.0865620108797436  and p value is: 5.991464547107979\n",
      "Failed to reject the null hypothesis.\n",
      "\n",
      "--------------------------------------------------------------------------------------\n",
      "\n",
      "--------------------------------------------------------------------------------------\n",
      "H₀: column own_your_home  and column offer_accepted are independent, i.e. no relationship\n",
      "H₁: column own_your_home  and column offer_accepted are independent, i.e. ∃ a relationship\n",
      "α = 0.05\n",
      "\n",
      "--------------------------------------------------------------------------------------\n",
      "The p-value approach: The p-value approach to hypothesis testing in the decision rule\n",
      "chisquare-score is: 0.0016758285818582151  and p value is: 0.8409389048371148\n",
      "Failed to reject the null hypothesis.\n",
      "\n",
      "--------------------------------------------------------------------------------------\n",
      "The critical value approach: The critical value approach to hypothesis testing in the decision rule\n",
      "chisquare-score is: 0.0016758285818582151  and p value is: 3.841458820694124\n",
      "Failed to reject the null hypothesis.\n",
      "\n",
      "--------------------------------------------------------------------------------------\n",
      "\n",
      "--------------------------------------------------------------------------------------\n",
      "H₀: column own_your_home  and column reward are independent, i.e. no relationship\n",
      "H₁: column own_your_home  and column reward are independent, i.e. ∃ a relationship\n",
      "α = 0.05\n",
      "\n",
      "--------------------------------------------------------------------------------------\n",
      "The p-value approach: The p-value approach to hypothesis testing in the decision rule\n",
      "chisquare-score is: 1.9199266892849023  and p value is: 0.5319105252323337\n",
      "Failed to reject the null hypothesis.\n",
      "\n",
      "--------------------------------------------------------------------------------------\n",
      "The critical value approach: The critical value approach to hypothesis testing in the decision rule\n",
      "chisquare-score is: 1.9199266892849023  and p value is: 5.991464547107979\n",
      "Failed to reject the null hypothesis.\n",
      "\n",
      "--------------------------------------------------------------------------------------\n",
      "\n",
      "--------------------------------------------------------------------------------------\n",
      "H₀: column own_your_home  and column mailer_type are independent, i.e. no relationship\n",
      "H₁: column own_your_home  and column mailer_type are independent, i.e. ∃ a relationship\n",
      "α = 0.05\n",
      "\n",
      "--------------------------------------------------------------------------------------\n",
      "The p-value approach: The p-value approach to hypothesis testing in the decision rule\n",
      "chisquare-score is: 0.3399182244560844  and p value is: 0.7453993234326448\n",
      "Failed to reject the null hypothesis.\n",
      "\n",
      "--------------------------------------------------------------------------------------\n",
      "The critical value approach: The critical value approach to hypothesis testing in the decision rule\n",
      "chisquare-score is: 0.3399182244560844  and p value is: 3.841458820694124\n",
      "Failed to reject the null hypothesis.\n",
      "\n",
      "--------------------------------------------------------------------------------------\n",
      "\n",
      "--------------------------------------------------------------------------------------\n",
      "H₀: column own_your_home  and column income_level are independent, i.e. no relationship\n",
      "H₁: column own_your_home  and column income_level are independent, i.e. ∃ a relationship\n",
      "α = 0.05\n",
      "\n",
      "--------------------------------------------------------------------------------------\n",
      "The p-value approach: The p-value approach to hypothesis testing in the decision rule\n",
      "chisquare-score is: 2.129908970121201  and p value is: 0.4483192236513731\n",
      "Failed to reject the null hypothesis.\n",
      "\n",
      "--------------------------------------------------------------------------------------\n",
      "The critical value approach: The critical value approach to hypothesis testing in the decision rule\n",
      "chisquare-score is: 2.129908970121201  and p value is: 5.991464547107979\n",
      "Failed to reject the null hypothesis.\n"
     ]
    },
    {
     "name": "stdout",
     "output_type": "stream",
     "text": [
      "\n",
      "--------------------------------------------------------------------------------------\n",
      "\n",
      "--------------------------------------------------------------------------------------\n",
      "H₀: column own_your_home  and column overdraft_protection are independent, i.e. no relationship\n",
      "H₁: column own_your_home  and column overdraft_protection are independent, i.e. ∃ a relationship\n",
      "α = 0.05\n",
      "\n",
      "--------------------------------------------------------------------------------------\n",
      "The p-value approach: The p-value approach to hypothesis testing in the decision rule\n",
      "chisquare-score is: 1.20075350362184  and p value is: 0.4204456607035978\n",
      "Failed to reject the null hypothesis.\n",
      "\n",
      "--------------------------------------------------------------------------------------\n",
      "The critical value approach: The critical value approach to hypothesis testing in the decision rule\n",
      "chisquare-score is: 1.20075350362184  and p value is: 3.841458820694124\n",
      "Failed to reject the null hypothesis.\n",
      "\n",
      "--------------------------------------------------------------------------------------\n",
      "\n",
      "--------------------------------------------------------------------------------------\n",
      "H₀: column own_your_home  and column credit_rating are independent, i.e. no relationship\n",
      "H₁: column own_your_home  and column credit_rating are independent, i.e. ∃ a relationship\n",
      "α = 0.05\n",
      "\n",
      "--------------------------------------------------------------------------------------\n",
      "The p-value approach: The p-value approach to hypothesis testing in the decision rule\n",
      "chisquare-score is: 1.0865620108797436  and p value is: 0.8194938833112038\n",
      "Failed to reject the null hypothesis.\n",
      "\n",
      "--------------------------------------------------------------------------------------\n",
      "The critical value approach: The critical value approach to hypothesis testing in the decision rule\n",
      "chisquare-score is: 1.0865620108797436  and p value is: 5.991464547107979\n",
      "Failed to reject the null hypothesis.\n"
     ]
    }
   ],
   "source": [
    "chi_square_execute(data, columns= data.select_dtypes(np.object))"
   ]
  },
  {
   "cell_type": "markdown",
   "id": "27cbb48e",
   "metadata": {},
   "source": [
    "**Conclusion**"
   ]
  },
  {
   "cell_type": "markdown",
   "id": "8ee83bf1",
   "metadata": {},
   "source": [
    "There is a relationship between the following columns (reject the null hypothesis): \n",
    "\n",
    "offer_accepted  and column credit_rating \n",
    "offer_accepted  and column income_level \n",
    "offer_accepted  and column mailer_type \n",
    "offer_accepted  and column reward\n",
    "\n",
    "In the other combination is no relationship between the columns (Failed to reject the null hypothesis). \n",
    "\n",
    "- To fit the model there is the possibility to drop the columns ('overdraft_protection', 'own_your_home')  without a relationship to the target variable \"offer accepted\" \n",
    "- For the next marketing study I would recommend to change the questions which have no relationship to the target variable \"offer accepted\". "
   ]
  },
  {
   "cell_type": "markdown",
   "id": "cab4b501",
   "metadata": {},
   "source": [
    "#### 5.3. Check value counts"
   ]
  },
  {
   "cell_type": "code",
   "execution_count": 117,
   "id": "713c8994",
   "metadata": {},
   "outputs": [
    {
     "name": "stdout",
     "output_type": "stream",
     "text": [
      "No     16977\n",
      "Yes     1023\n",
      "Name: offer_accepted, dtype: int64 \n",
      "\n",
      "Air Miles    6061\n",
      "Cash Back    5999\n",
      "Points       5940\n",
      "Name: reward, dtype: int64 \n",
      "\n",
      "Postcard    9147\n",
      "Letter      8853\n",
      "Name: mailer_type, dtype: int64 \n",
      "\n",
      "Medium    9013\n",
      "High      4526\n",
      "Low       4461\n",
      "Name: income_level, dtype: int64 \n",
      "\n",
      "1    13692\n",
      "2     4012\n",
      "3      296\n",
      "Name: bank_accounts_open, dtype: int64 \n",
      "\n",
      "No     15322\n",
      "Yes     2678\n",
      "Name: overdraft_protection, dtype: int64 \n",
      "\n",
      "High      6071\n",
      "Medium    5972\n",
      "Low       5957\n",
      "Name: credit_rating, dtype: int64 \n",
      "\n",
      "2    7944\n",
      "1    6154\n",
      "3    3387\n",
      "4     515\n",
      "Name: credit_cards_held, dtype: int64 \n",
      "\n",
      "1    14523\n",
      "2     3292\n",
      "3      185\n",
      "Name: homes_owned, dtype: int64 \n",
      "\n",
      "3    5712\n",
      "4    5543\n",
      "5    2853\n",
      "2    2813\n",
      "1     539\n",
      "6     538\n",
      "8       1\n",
      "9       1\n",
      "Name: household_size, dtype: int64 \n",
      "\n",
      "Yes    11655\n",
      "No      6345\n",
      "Name: own_your_home, dtype: int64 \n",
      "\n",
      "910.450656     24\n",
      "675.000000     23\n",
      "81.000000      23\n",
      "823.000000     22\n",
      "676.000000     22\n",
      "               ..\n",
      "1114.000000     1\n",
      "2062.000000     1\n",
      "2068.000000     1\n",
      "2036.000000     1\n",
      "1174.000000     1\n",
      "Name: q1_balance, Length: 2159, dtype: int64 \n",
      "\n",
      "1060.00000    30\n",
      "1197.00000    26\n",
      "1271.00000    25\n",
      "999.39219     24\n",
      "1248.00000    24\n",
      "              ..\n",
      "1878.00000     1\n",
      "3214.00000     1\n",
      "1923.00000     1\n",
      "1849.00000     1\n",
      "0.00000        1\n",
      "Name: q2_balance, Length: 1946, dtype: int64 \n",
      "\n",
      "809.0     30\n",
      "833.0     27\n",
      "842.0     26\n",
      "972.0     26\n",
      "997.0     26\n",
      "          ..\n",
      "2750.0     1\n",
      "2253.0     1\n",
      "2267.0     1\n",
      "2272.0     1\n",
      "0.0        1\n",
      "Name: q3_balance, Length: 2282, dtype: int64 \n",
      "\n",
      "497.0     26\n",
      "419.0     26\n",
      "154.0     26\n",
      "434.0     24\n",
      "441.0     24\n",
      "          ..\n",
      "1553.0     1\n",
      "2124.0     1\n",
      "1958.0     1\n",
      "1935.0     1\n",
      "3201.0     1\n",
      "Name: q4_balance, Length: 2185, dtype: int64 \n",
      "\n"
     ]
    }
   ],
   "source": [
    "value_counts(data)"
   ]
  },
  {
   "cell_type": "markdown",
   "id": "94b4df3c",
   "metadata": {},
   "source": [
    "There are only two entries for customers with a household size bigger than 6, so I decided to assign the value 6 to these two entries as well, in order to make the data more balanced. "
   ]
  },
  {
   "cell_type": "code",
   "execution_count": 118,
   "id": "1641f943",
   "metadata": {},
   "outputs": [
    {
     "data": {
      "text/plain": [
       "3    5712\n",
       "4    5543\n",
       "5    2853\n",
       "2    2813\n",
       "6     540\n",
       "1     539\n",
       "Name: household_size, dtype: int64"
      ]
     },
     "execution_count": 118,
     "metadata": {},
     "output_type": "execute_result"
    }
   ],
   "source": [
    "data['household_size'] = data['household_size'].apply(lambda x: x if x < 7 else 6)\n",
    "\n",
    "data['household_size'].value_counts()"
   ]
  },
  {
   "cell_type": "markdown",
   "id": "6512cf6b",
   "metadata": {},
   "source": [
    "### 6.  Data processing, feature engineering"
   ]
  },
  {
   "cell_type": "code",
   "execution_count": 119,
   "id": "51252880",
   "metadata": {},
   "outputs": [
    {
     "data": {
      "text/plain": [
       "(18000, 15)"
      ]
     },
     "execution_count": 119,
     "metadata": {},
     "output_type": "execute_result"
    }
   ],
   "source": [
    "df1 = data\n",
    "df1.shape"
   ]
  },
  {
   "cell_type": "markdown",
   "id": "f8cf1a18",
   "metadata": {},
   "source": [
    "#### 6.1. Apply boxcox transformation"
   ]
  },
  {
   "cell_type": "code",
   "execution_count": 120,
   "id": "8cd5a37e",
   "metadata": {},
   "outputs": [
    {
     "data": {
      "text/html": [
       "<div>\n",
       "<style scoped>\n",
       "    .dataframe tbody tr th:only-of-type {\n",
       "        vertical-align: middle;\n",
       "    }\n",
       "\n",
       "    .dataframe tbody tr th {\n",
       "        vertical-align: top;\n",
       "    }\n",
       "\n",
       "    .dataframe thead th {\n",
       "        text-align: right;\n",
       "    }\n",
       "</style>\n",
       "<table border=\"1\" class=\"dataframe\">\n",
       "  <thead>\n",
       "    <tr style=\"text-align: right;\">\n",
       "      <th></th>\n",
       "      <th>offer_accepted</th>\n",
       "      <th>reward</th>\n",
       "      <th>mailer_type</th>\n",
       "      <th>income_level</th>\n",
       "      <th>bank_accounts_open</th>\n",
       "      <th>overdraft_protection</th>\n",
       "      <th>credit_rating</th>\n",
       "      <th>credit_cards_held</th>\n",
       "      <th>homes_owned</th>\n",
       "      <th>household_size</th>\n",
       "      <th>own_your_home</th>\n",
       "      <th>q1_balance</th>\n",
       "      <th>q2_balance</th>\n",
       "      <th>q3_balance</th>\n",
       "      <th>q4_balance</th>\n",
       "    </tr>\n",
       "    <tr>\n",
       "      <th>customer_number</th>\n",
       "      <th></th>\n",
       "      <th></th>\n",
       "      <th></th>\n",
       "      <th></th>\n",
       "      <th></th>\n",
       "      <th></th>\n",
       "      <th></th>\n",
       "      <th></th>\n",
       "      <th></th>\n",
       "      <th></th>\n",
       "      <th></th>\n",
       "      <th></th>\n",
       "      <th></th>\n",
       "      <th></th>\n",
       "      <th></th>\n",
       "    </tr>\n",
       "  </thead>\n",
       "  <tbody>\n",
       "    <tr>\n",
       "      <th>1</th>\n",
       "      <td>No</td>\n",
       "      <td>Air Miles</td>\n",
       "      <td>Letter</td>\n",
       "      <td>High</td>\n",
       "      <td>0.000000</td>\n",
       "      <td>No</td>\n",
       "      <td>High</td>\n",
       "      <td>0.733744</td>\n",
       "      <td>0.000000</td>\n",
       "      <td>2.831341</td>\n",
       "      <td>No</td>\n",
       "      <td>74.088196</td>\n",
       "      <td>641.948172</td>\n",
       "      <td>174.455505</td>\n",
       "      <td>50.666453</td>\n",
       "    </tr>\n",
       "    <tr>\n",
       "      <th>2</th>\n",
       "      <td>No</td>\n",
       "      <td>Air Miles</td>\n",
       "      <td>Letter</td>\n",
       "      <td>Medium</td>\n",
       "      <td>0.000000</td>\n",
       "      <td>No</td>\n",
       "      <td>Medium</td>\n",
       "      <td>0.733744</td>\n",
       "      <td>0.142198</td>\n",
       "      <td>3.733432</td>\n",
       "      <td>Yes</td>\n",
       "      <td>10.171719</td>\n",
       "      <td>86.052504</td>\n",
       "      <td>27.370949</td>\n",
       "      <td>30.993842</td>\n",
       "    </tr>\n",
       "    <tr>\n",
       "      <th>3</th>\n",
       "      <td>No</td>\n",
       "      <td>Air Miles</td>\n",
       "      <td>Postcard</td>\n",
       "      <td>High</td>\n",
       "      <td>0.185052</td>\n",
       "      <td>No</td>\n",
       "      <td>Medium</td>\n",
       "      <td>0.733744</td>\n",
       "      <td>0.000000</td>\n",
       "      <td>0.973935</td>\n",
       "      <td>Yes</td>\n",
       "      <td>34.365591</td>\n",
       "      <td>270.063072</td>\n",
       "      <td>42.616073</td>\n",
       "      <td>25.219542</td>\n",
       "    </tr>\n",
       "    <tr>\n",
       "      <th>4</th>\n",
       "      <td>No</td>\n",
       "      <td>Air Miles</td>\n",
       "      <td>Letter</td>\n",
       "      <td>Medium</td>\n",
       "      <td>0.185052</td>\n",
       "      <td>No</td>\n",
       "      <td>High</td>\n",
       "      <td>0.000000</td>\n",
       "      <td>0.000000</td>\n",
       "      <td>2.831341</td>\n",
       "      <td>No</td>\n",
       "      <td>72.037644</td>\n",
       "      <td>1241.725907</td>\n",
       "      <td>177.086014</td>\n",
       "      <td>33.134063</td>\n",
       "    </tr>\n",
       "    <tr>\n",
       "      <th>5</th>\n",
       "      <td>No</td>\n",
       "      <td>Air Miles</td>\n",
       "      <td>Letter</td>\n",
       "      <td>Medium</td>\n",
       "      <td>0.000000</td>\n",
       "      <td>No</td>\n",
       "      <td>Medium</td>\n",
       "      <td>0.733744</td>\n",
       "      <td>0.000000</td>\n",
       "      <td>4.623143</td>\n",
       "      <td>Yes</td>\n",
       "      <td>83.885335</td>\n",
       "      <td>970.704172</td>\n",
       "      <td>161.815636</td>\n",
       "      <td>30.951910</td>\n",
       "    </tr>\n",
       "    <tr>\n",
       "      <th>...</th>\n",
       "      <td>...</td>\n",
       "      <td>...</td>\n",
       "      <td>...</td>\n",
       "      <td>...</td>\n",
       "      <td>...</td>\n",
       "      <td>...</td>\n",
       "      <td>...</td>\n",
       "      <td>...</td>\n",
       "      <td>...</td>\n",
       "      <td>...</td>\n",
       "      <td>...</td>\n",
       "      <td>...</td>\n",
       "      <td>...</td>\n",
       "      <td>...</td>\n",
       "      <td>...</td>\n",
       "    </tr>\n",
       "    <tr>\n",
       "      <th>17996</th>\n",
       "      <td>No</td>\n",
       "      <td>Cash Back</td>\n",
       "      <td>Letter</td>\n",
       "      <td>High</td>\n",
       "      <td>0.000000</td>\n",
       "      <td>No</td>\n",
       "      <td>Low</td>\n",
       "      <td>0.000000</td>\n",
       "      <td>0.000000</td>\n",
       "      <td>3.733432</td>\n",
       "      <td>Yes</td>\n",
       "      <td>20.406124</td>\n",
       "      <td>53.788326</td>\n",
       "      <td>25.573506</td>\n",
       "      <td>32.304514</td>\n",
       "    </tr>\n",
       "    <tr>\n",
       "      <th>17997</th>\n",
       "      <td>No</td>\n",
       "      <td>Cash Back</td>\n",
       "      <td>Letter</td>\n",
       "      <td>High</td>\n",
       "      <td>0.000000</td>\n",
       "      <td>No</td>\n",
       "      <td>Low</td>\n",
       "      <td>1.202918</td>\n",
       "      <td>0.000000</td>\n",
       "      <td>1.913470</td>\n",
       "      <td>Yes</td>\n",
       "      <td>56.816308</td>\n",
       "      <td>685.562516</td>\n",
       "      <td>157.348155</td>\n",
       "      <td>37.358270</td>\n",
       "    </tr>\n",
       "    <tr>\n",
       "      <th>17998</th>\n",
       "      <td>No</td>\n",
       "      <td>Cash Back</td>\n",
       "      <td>Letter</td>\n",
       "      <td>High</td>\n",
       "      <td>0.000000</td>\n",
       "      <td>No</td>\n",
       "      <td>Low</td>\n",
       "      <td>0.733744</td>\n",
       "      <td>0.000000</td>\n",
       "      <td>2.831341</td>\n",
       "      <td>No</td>\n",
       "      <td>54.859399</td>\n",
       "      <td>565.381288</td>\n",
       "      <td>182.617563</td>\n",
       "      <td>61.387229</td>\n",
       "    </tr>\n",
       "    <tr>\n",
       "      <th>17999</th>\n",
       "      <td>No</td>\n",
       "      <td>Cash Back</td>\n",
       "      <td>Letter</td>\n",
       "      <td>Medium</td>\n",
       "      <td>0.000000</td>\n",
       "      <td>No</td>\n",
       "      <td>Medium</td>\n",
       "      <td>1.555081</td>\n",
       "      <td>0.142198</td>\n",
       "      <td>0.973935</td>\n",
       "      <td>Yes</td>\n",
       "      <td>45.180070</td>\n",
       "      <td>715.239852</td>\n",
       "      <td>148.233804</td>\n",
       "      <td>63.718093</td>\n",
       "    </tr>\n",
       "    <tr>\n",
       "      <th>18000</th>\n",
       "      <td>No</td>\n",
       "      <td>Cash Back</td>\n",
       "      <td>Letter</td>\n",
       "      <td>Low</td>\n",
       "      <td>0.185052</td>\n",
       "      <td>No</td>\n",
       "      <td>Medium</td>\n",
       "      <td>0.733744</td>\n",
       "      <td>0.000000</td>\n",
       "      <td>1.913470</td>\n",
       "      <td>No</td>\n",
       "      <td>29.025580</td>\n",
       "      <td>984.924672</td>\n",
       "      <td>262.242387</td>\n",
       "      <td>39.607089</td>\n",
       "    </tr>\n",
       "  </tbody>\n",
       "</table>\n",
       "<p>18000 rows × 15 columns</p>\n",
       "</div>"
      ],
      "text/plain": [
       "                offer_accepted     reward mailer_type income_level  \\\n",
       "customer_number                                                      \n",
       "1                           No  Air Miles      Letter         High   \n",
       "2                           No  Air Miles      Letter       Medium   \n",
       "3                           No  Air Miles    Postcard         High   \n",
       "4                           No  Air Miles      Letter       Medium   \n",
       "5                           No  Air Miles      Letter       Medium   \n",
       "...                        ...        ...         ...          ...   \n",
       "17996                       No  Cash Back      Letter         High   \n",
       "17997                       No  Cash Back      Letter         High   \n",
       "17998                       No  Cash Back      Letter         High   \n",
       "17999                       No  Cash Back      Letter       Medium   \n",
       "18000                       No  Cash Back      Letter          Low   \n",
       "\n",
       "                 bank_accounts_open overdraft_protection credit_rating  \\\n",
       "customer_number                                                          \n",
       "1                          0.000000                   No          High   \n",
       "2                          0.000000                   No        Medium   \n",
       "3                          0.185052                   No        Medium   \n",
       "4                          0.185052                   No          High   \n",
       "5                          0.000000                   No        Medium   \n",
       "...                             ...                  ...           ...   \n",
       "17996                      0.000000                   No           Low   \n",
       "17997                      0.000000                   No           Low   \n",
       "17998                      0.000000                   No           Low   \n",
       "17999                      0.000000                   No        Medium   \n",
       "18000                      0.185052                   No        Medium   \n",
       "\n",
       "                 credit_cards_held  homes_owned  household_size own_your_home  \\\n",
       "customer_number                                                                 \n",
       "1                         0.733744     0.000000        2.831341            No   \n",
       "2                         0.733744     0.142198        3.733432           Yes   \n",
       "3                         0.733744     0.000000        0.973935           Yes   \n",
       "4                         0.000000     0.000000        2.831341            No   \n",
       "5                         0.733744     0.000000        4.623143           Yes   \n",
       "...                            ...          ...             ...           ...   \n",
       "17996                     0.000000     0.000000        3.733432           Yes   \n",
       "17997                     1.202918     0.000000        1.913470           Yes   \n",
       "17998                     0.733744     0.000000        2.831341            No   \n",
       "17999                     1.555081     0.142198        0.973935           Yes   \n",
       "18000                     0.733744     0.000000        1.913470            No   \n",
       "\n",
       "                 q1_balance   q2_balance  q3_balance  q4_balance  \n",
       "customer_number                                                   \n",
       "1                 74.088196   641.948172  174.455505   50.666453  \n",
       "2                 10.171719    86.052504   27.370949   30.993842  \n",
       "3                 34.365591   270.063072   42.616073   25.219542  \n",
       "4                 72.037644  1241.725907  177.086014   33.134063  \n",
       "5                 83.885335   970.704172  161.815636   30.951910  \n",
       "...                     ...          ...         ...         ...  \n",
       "17996             20.406124    53.788326   25.573506   32.304514  \n",
       "17997             56.816308   685.562516  157.348155   37.358270  \n",
       "17998             54.859399   565.381288  182.617563   61.387229  \n",
       "17999             45.180070   715.239852  148.233804   63.718093  \n",
       "18000             29.025580   984.924672  262.242387   39.607089  \n",
       "\n",
       "[18000 rows x 15 columns]"
      ]
     },
     "execution_count": 120,
     "metadata": {},
     "output_type": "execute_result"
    }
   ],
   "source": [
    "df1, _ci = boxcox_transform(df1)\n",
    "df1"
   ]
  },
  {
   "cell_type": "markdown",
   "id": "ea11f393",
   "metadata": {},
   "source": [
    "#### 6.2. Remove outliers "
   ]
  },
  {
   "cell_type": "code",
   "execution_count": 121,
   "id": "8910d834",
   "metadata": {},
   "outputs": [
    {
     "data": {
      "image/png": "[encoded data removed]",
      "text/plain": [
       "<Figure size 1080x360 with 2 Axes>"
      ]
     },
     "metadata": {
      "needs_background": "light"
     },
     "output_type": "display_data"
    },
    {
     "data": {
      "image/png": "[encoded data removed]",
      "text/plain": [
       "<Figure size 1080x360 with 2 Axes>"
      ]
     },
     "metadata": {
      "needs_background": "light"
     },
     "output_type": "display_data"
    },
    {
     "data": {
      "image/png": "[encoded data removed]",
      "text/plain": [
       "<Figure size 1080x360 with 2 Axes>"
      ]
     },
     "metadata": {
      "needs_background": "light"
     },
     "output_type": "display_data"
    },
    {
     "data": {
      "image/png": "[encoded data removed]",
      "text/plain": [
       "<Figure size 1080x360 with 2 Axes>"
      ]
     },
     "metadata": {
      "needs_background": "light"
     },
     "output_type": "display_data"
    },
    {
     "data": {
      "image/png": "[encoded data removed]",
      "text/plain": [
       "<Figure size 1080x360 with 2 Axes>"
      ]
     },
     "metadata": {
      "needs_background": "light"
     },
     "output_type": "display_data"
    },
    {
     "data": {
      "image/png": "[encoded data removed]",
      "text/plain": [
       "<Figure size 1080x360 with 2 Axes>"
      ]
     },
     "metadata": {
      "needs_background": "light"
     },
     "output_type": "display_data"
    },
    {
     "data": {
      "image/png": "[encoded data removed]",
      "text/plain": [
       "<Figure size 1080x360 with 2 Axes>"
      ]
     },
     "metadata": {
      "needs_background": "light"
     },
     "output_type": "display_data"
    },
    {
     "data": {
      "image/png": "[encoded data removed]",
      "text/plain": [
       "<Figure size 1080x360 with 2 Axes>"
      ]
     },
     "metadata": {
      "needs_background": "light"
     },
     "output_type": "display_data"
    }
   ],
   "source": [
    "for col in df1.select_dtypes(np.number):\n",
    "    fig, axes = plt.subplots(1, 2, figsize=(15, 5))\n",
    "    sns.distplot(data[col], ax=axes[0])\n",
    "    sns.boxplot(data[col], ax=axes[1])\n",
    "    plt.show()"
   ]
  },
  {
   "cell_type": "markdown",
   "id": "88038c4b",
   "metadata": {},
   "source": [
    "I removed only the outliers of the columns 'q2_balance', 'q3_balance', 'q4_balance' because these are the columns with a higher number of outliers."
   ]
  },
  {
   "cell_type": "code",
   "execution_count": 122,
   "id": "0a5c34b5",
   "metadata": {},
   "outputs": [],
   "source": [
    "def remove_outliers(data, threshold=1.5, in_columns=data.select_dtypes(np.number).columns, skip_columns=[]):\n",
    "    for column in in_columns:\n",
    "        if column not in skip_columns:\n",
    "            upper = np.percentile(data[column],75)\n",
    "            lower = np.percentile(data[column],25)\n",
    "            iqr = upper - lower\n",
    "            upper_limit = upper + (threshold * iqr)\n",
    "            lower_limit = lower - (threshold * iqr)\n",
    "            data = data[(data[column]>lower_limit) & (data[column]<upper_limit)]\n",
    "    return data"
   ]
  },
  {
   "cell_type": "code",
   "execution_count": 123,
   "id": "f40906e4",
   "metadata": {},
   "outputs": [
    {
     "data": {
      "text/plain": [
       "(17995, 15)"
      ]
     },
     "execution_count": 123,
     "metadata": {},
     "output_type": "execute_result"
    }
   ],
   "source": [
    "df2 = remove_outliers(df1, threshold=1.5, in_columns= ['q2_balance', 'q3_balance', 'q4_balance'])\n",
    "df2.shape"
   ]
  },
  {
   "cell_type": "markdown",
   "id": "5a89fff9",
   "metadata": {},
   "source": [
    "### 7. Train/test split, standardize numerical + encode categorical"
   ]
  },
  {
   "cell_type": "code",
   "execution_count": 124,
   "id": "1a8258b4",
   "metadata": {},
   "outputs": [],
   "source": [
    "X = df2.drop('offer_accepted', axis =1)\n",
    "y = df2['offer_accepted']"
   ]
  },
  {
   "cell_type": "code",
   "execution_count": 125,
   "id": "f1c9ba24",
   "metadata": {},
   "outputs": [],
   "source": [
    "X_train, X_test, y_train, y_test = train_test_split(X, y, test_size=0.2, random_state=42)"
   ]
  },
  {
   "cell_type": "markdown",
   "id": "3271a8f0",
   "metadata": {},
   "source": [
    "7.1. standardize numerical"
   ]
  },
  {
   "cell_type": "code",
   "execution_count": 126,
   "id": "794b3011",
   "metadata": {},
   "outputs": [],
   "source": [
    "X_train_num = X_train.select_dtypes(np.number)\n",
    "X_test_num = X_test.select_dtypes(np.number)"
   ]
  },
  {
   "cell_type": "code",
   "execution_count": 127,
   "id": "34c10ddd",
   "metadata": {},
   "outputs": [],
   "source": [
    "transformer = StandardScaler().fit(X_train_num)\n",
    "X_train_n = transformer.transform(X_train_num)"
   ]
  },
  {
   "cell_type": "code",
   "execution_count": 128,
   "id": "a56b57df",
   "metadata": {},
   "outputs": [],
   "source": [
    "transformer = StandardScaler().fit(X_test_num)\n",
    "X_test_n = transformer.transform(X_test_num)"
   ]
  },
  {
   "cell_type": "code",
   "execution_count": 129,
   "id": "3c3e642d",
   "metadata": {},
   "outputs": [
    {
     "data": {
      "text/plain": [
       "((14396, 8), (3599, 8))"
      ]
     },
     "execution_count": 129,
     "metadata": {},
     "output_type": "execute_result"
    }
   ],
   "source": [
    "X_train_n.shape, X_test_n.shape"
   ]
  },
  {
   "cell_type": "markdown",
   "id": "3d092c92",
   "metadata": {},
   "source": [
    "7.2. encode categorical"
   ]
  },
  {
   "cell_type": "code",
   "execution_count": 130,
   "id": "eafbc292",
   "metadata": {},
   "outputs": [],
   "source": [
    "X_train_cat = X_train.select_dtypes(exclude=np.number)\n",
    "encoder = OneHotEncoder(handle_unknown='error', drop='first').fit(X_train_cat)\n",
    "encoded_train = encoder.transform(X_train_cat).toarray()"
   ]
  },
  {
   "cell_type": "code",
   "execution_count": 131,
   "id": "85db2755",
   "metadata": {},
   "outputs": [],
   "source": [
    "X_test_cat = X_test.select_dtypes(exclude=np.number)\n",
    "encoder = OneHotEncoder(handle_unknown='error', drop='first').fit(X_test_cat)\n",
    "encoded_test = encoder.transform(X_test_cat).toarray()"
   ]
  },
  {
   "cell_type": "markdown",
   "id": "eef28e51",
   "metadata": {},
   "source": [
    "7.3. concatenate standardize numerical and encode categorical"
   ]
  },
  {
   "cell_type": "code",
   "execution_count": 132,
   "id": "d7d7148d",
   "metadata": {},
   "outputs": [],
   "source": [
    "X_train = np.concatenate((X_train_n, encoded_train), axis=1)"
   ]
  },
  {
   "cell_type": "code",
   "execution_count": 133,
   "id": "5c7c1506",
   "metadata": {},
   "outputs": [],
   "source": [
    "X_test = np.concatenate((X_test_n, encoded_test), axis=1)"
   ]
  },
  {
   "cell_type": "code",
   "execution_count": 134,
   "id": "18d9196e",
   "metadata": {},
   "outputs": [
    {
     "data": {
      "text/plain": [
       "((14396, 17), (3599, 17))"
      ]
     },
     "execution_count": 134,
     "metadata": {},
     "output_type": "execute_result"
    }
   ],
   "source": [
    "X_train.shape, X_test.shape"
   ]
  },
  {
   "cell_type": "markdown",
   "id": "1cdca351",
   "metadata": {},
   "source": [
    "### 8. Model evaluation"
   ]
  },
  {
   "cell_type": "markdown",
   "id": "d701992b",
   "metadata": {},
   "source": [
    "#### 8.1. KNeighbors Classifier"
   ]
  },
  {
   "cell_type": "markdown",
   "id": "f2590b19",
   "metadata": {},
   "source": [
    "Choose the best k value"
   ]
  },
  {
   "cell_type": "code",
   "execution_count": 135,
   "id": "5e5f958e",
   "metadata": {},
   "outputs": [
    {
     "data": {
      "text/plain": [
       "[0.8983050847457628,\n",
       " 0.9380383439844401,\n",
       " 0.9433175882189497,\n",
       " 0.9449847179772158,\n",
       " 0.945540427896638,\n",
       " 0.945540427896638,\n",
       " 0.945540427896638,\n",
       " 0.945540427896638,\n",
       " 0.945540427896638,\n",
       " 0.945540427896638]"
      ]
     },
     "execution_count": 135,
     "metadata": {},
     "output_type": "execute_result"
    }
   ],
   "source": [
    "scores = []\n",
    "for i in range(1,20,2):\n",
    "    model = KNeighborsClassifier(n_neighbors=i)\n",
    "    model.fit(X_train, y_train)\n",
    "    y_pred = model.predict(X_test)\n",
    "    scores.append((metrics.accuracy_score(y_test, y_pred)))\n",
    "scores"
   ]
  },
  {
   "cell_type": "code",
   "execution_count": 136,
   "id": "d18e6258",
   "metadata": {},
   "outputs": [
    {
     "data": {
      "text/plain": [
       "Text(0, 0.5, 'Accuracy')"
      ]
     },
     "execution_count": 136,
     "metadata": {},
     "output_type": "execute_result"
    },
    {
     "data": {
      "image/png": "[encoded data removed]",
      "text/plain": [
       "<Figure size 720x432 with 1 Axes>"
      ]
     },
     "metadata": {
      "needs_background": "light"
     },
     "output_type": "display_data"
    }
   ],
   "source": [
    "plt.figure(figsize=(10,6))\n",
    "plt.plot(range(1,20,2),scores,color = 'blue', linestyle='dashed',\n",
    "         marker='o', markerfacecolor='red', markersize=10)\n",
    "plt.title('accuracy scores vs. K Value')\n",
    "plt.xlabel('K')\n",
    "plt.ylabel('Accuracy')"
   ]
  },
  {
   "cell_type": "code",
   "execution_count": 137,
   "id": "03d4fa5d",
   "metadata": {},
   "outputs": [],
   "source": [
    "def using_KNNClassifier(y_train,X_train,y_test,X_test,n):\n",
    "    \n",
    "    classification = KNeighborsClassifier(n_neighbors=n)\n",
    "    classification.fit(X_train, y_train)\n",
    "    predictions = classification.predict(X_test)\n",
    "    score = classification.score(X_test, y_test)\n",
    "    print(\"accuracy score:\", score)\n",
    "    y_pred = model.predict(X_test)\n",
    "    predictions = classification.predict(X_test)\n",
    "    print(confusion_matrix(y_test, predictions))\n",
    "    \n",
    "    cf_matrix = confusion_matrix(y_test, predictions)\n",
    "    group_names = ['True No', 'False No',\n",
    "                   'False Yes', 'True Yes',]\n",
    "\n",
    "    group_counts = [\"{0:0.0f}\".format(value) for value in cf_matrix.flatten()]\n",
    "    group_percentages = [\"{0:.2%}\".format(value) for value in cf_matrix.flatten()/np.sum(cf_matrix)]\n",
    "    labels = [f\"{v1}\\n{v2}\\n{v3}\" for v1, v2, v3 in zip(group_names,group_counts,group_percentages)]\n",
    "    labels = np.asarray(labels).reshape(2,2)\n",
    "    sns.heatmap(cf_matrix, annot=labels, fmt='', cmap='Blues')"
   ]
  },
  {
   "cell_type": "markdown",
   "id": "a63bfcf0",
   "metadata": {},
   "source": [
    "**KNeighbors Classifier k = 5** "
   ]
  },
  {
   "cell_type": "code",
   "execution_count": 138,
   "id": "3dae27d1",
   "metadata": {},
   "outputs": [
    {
     "name": "stdout",
     "output_type": "stream",
     "text": [
      "accuracy score: 0.9433175882189497\n",
      "[[3392   11]\n",
      " [ 193    3]]\n"
     ]
    },
    {
     "data": {
      "image/png": "[encoded data removed]",
      "text/plain": [
       "<Figure size 432x288 with 2 Axes>"
      ]
     },
     "metadata": {
      "needs_background": "light"
     },
     "output_type": "display_data"
    }
   ],
   "source": [
    "using_KNNClassifier(y_train,X_train,y_test,X_test,5)"
   ]
  },
  {
   "cell_type": "code",
   "execution_count": 139,
   "id": "3dec3556",
   "metadata": {},
   "outputs": [
    {
     "name": "stdout",
     "output_type": "stream",
     "text": [
      "              precision    recall  f1-score   support\n",
      "\n",
      "          No       0.95      1.00      0.97      3403\n",
      "         Yes       0.00      0.00      0.00       196\n",
      "\n",
      "    accuracy                           0.95      3599\n",
      "   macro avg       0.47      0.50      0.49      3599\n",
      "weighted avg       0.89      0.95      0.92      3599\n",
      "\n"
     ]
    }
   ],
   "source": [
    "report_KNN_5 = classification_report(y_test, y_pred)\n",
    "print(report_KNN_5)"
   ]
  },
  {
   "cell_type": "markdown",
   "id": "47367692",
   "metadata": {},
   "source": [
    "#### 8.2. KNeighbors Classifier with SMOTE"
   ]
  },
  {
   "cell_type": "code",
   "execution_count": 140,
   "id": "6689b509",
   "metadata": {},
   "outputs": [
    {
     "name": "stdout",
     "output_type": "stream",
     "text": [
      "No     0.94\n",
      "Yes    0.06\n",
      "Name: offer_accepted, dtype: float64\n"
     ]
    }
   ],
   "source": [
    "print(round(df2['offer_accepted'].value_counts()/len(df2), 2))"
   ]
  },
  {
   "cell_type": "code",
   "execution_count": 141,
   "id": "f0d9750a",
   "metadata": {},
   "outputs": [
    {
     "data": {
      "text/plain": [
       "No     13569\n",
       "Yes    13569\n",
       "Name: offer_accepted, dtype: int64"
      ]
     },
     "execution_count": 141,
     "metadata": {},
     "output_type": "execute_result"
    }
   ],
   "source": [
    "smote = SMOTE()\n",
    "\n",
    "X_sm, y_sm = smote.fit_resample(X_train, y_train)\n",
    "y_sm.value_counts()"
   ]
  },
  {
   "cell_type": "markdown",
   "id": "f74c319f",
   "metadata": {},
   "source": [
    "Choose the best k value"
   ]
  },
  {
   "cell_type": "code",
   "execution_count": 142,
   "id": "9a9fb37e",
   "metadata": {},
   "outputs": [
    {
     "data": {
      "text/plain": [
       "[0.8463462072797999,\n",
       " 0.7885523756599055,\n",
       " 0.7493748263406502,\n",
       " 0.7088080022228397,\n",
       " 0.6782439566546263,\n",
       " 0.6512920255626563,\n",
       " 0.6296193387051959,\n",
       " 0.6143373159210892,\n",
       " 0.5996110030564046,\n",
       " 0.5821061405946096]"
      ]
     },
     "execution_count": 142,
     "metadata": {},
     "output_type": "execute_result"
    }
   ],
   "source": [
    "scores = []\n",
    "for i in range(1,20,2):\n",
    "    model = KNeighborsClassifier(n_neighbors=i)\n",
    "    model.fit(X_sm, y_sm)\n",
    "    y_pred = model.predict(X_test)\n",
    "    scores.append((metrics.accuracy_score(y_test, y_pred)))\n",
    "scores"
   ]
  },
  {
   "cell_type": "code",
   "execution_count": 143,
   "id": "3d1c1521",
   "metadata": {},
   "outputs": [
    {
     "data": {
      "text/plain": [
       "Text(0, 0.5, 'Accuracy')"
      ]
     },
     "execution_count": 143,
     "metadata": {},
     "output_type": "execute_result"
    },
    {
     "data": {
      "image/png": "[encoded data removed]",
      "text/plain": [
       "<Figure size 720x432 with 1 Axes>"
      ]
     },
     "metadata": {
      "needs_background": "light"
     },
     "output_type": "display_data"
    }
   ],
   "source": [
    "plt.figure(figsize=(10,6))\n",
    "plt.plot(range(1,20,2),scores,color = 'blue', linestyle='dashed',\n",
    "         marker='o', markerfacecolor='red', markersize=10)\n",
    "plt.title('accuracy scores vs. K Value')\n",
    "plt.xlabel('K')\n",
    "plt.ylabel('Accuracy')"
   ]
  },
  {
   "cell_type": "markdown",
   "id": "4747ab7c",
   "metadata": {},
   "source": [
    "**KNeighbors Classifier with SMOTE k = 2** "
   ]
  },
  {
   "cell_type": "code",
   "execution_count": 144,
   "id": "2cf2f221",
   "metadata": {},
   "outputs": [
    {
     "data": {
      "text/plain": [
       "KNeighborsClassifier(n_neighbors=2)"
      ]
     },
     "execution_count": 144,
     "metadata": {},
     "output_type": "execute_result"
    }
   ],
   "source": [
    "model = KNeighborsClassifier(n_neighbors=2)\n",
    "model.fit(X_sm, y_sm)"
   ]
  },
  {
   "cell_type": "code",
   "execution_count": 145,
   "id": "e071774d",
   "metadata": {},
   "outputs": [
    {
     "name": "stdout",
     "output_type": "stream",
     "text": [
      "accuracy_score k=2: 0.8607946651847735\n"
     ]
    }
   ],
   "source": [
    "y_pred = model.predict(X_test)\n",
    "print(\"accuracy_score k=2:\", metrics.accuracy_score(y_test, y_pred))"
   ]
  },
  {
   "cell_type": "code",
   "execution_count": 146,
   "id": "f617d7e2",
   "metadata": {},
   "outputs": [
    {
     "name": "stdout",
     "output_type": "stream",
     "text": [
      "[[3064  339]\n",
      " [ 162   34]]\n"
     ]
    },
    {
     "data": {
      "text/plain": [
       "<AxesSubplot:>"
      ]
     },
     "execution_count": 146,
     "metadata": {},
     "output_type": "execute_result"
    },
    {
     "data": {
      "image/png": "[encoded data removed]",
      "text/plain": [
       "<Figure size 432x288 with 2 Axes>"
      ]
     },
     "metadata": {
      "needs_background": "light"
     },
     "output_type": "display_data"
    }
   ],
   "source": [
    "print(confusion_matrix(y_test, y_pred))\n",
    "    \n",
    "cf_matrix = confusion_matrix(y_test, y_pred)\n",
    "group_names = ['True No', 'False No',\n",
    "                   'False Yes', 'True Yes',]\n",
    "\n",
    "group_counts = [\"{0:0.0f}\".format(value) for value in cf_matrix.flatten()]\n",
    "group_percentages = [\"{0:.2%}\".format(value) for value in cf_matrix.flatten()/np.sum(cf_matrix)]\n",
    "labels = [f\"{v1}\\n{v2}\\n{v3}\" for v1, v2, v3 in zip(group_names,group_counts,group_percentages)]\n",
    "labels = np.asarray(labels).reshape(2,2)\n",
    "sns.heatmap(cf_matrix, annot=labels, fmt='', cmap='Blues')"
   ]
  },
  {
   "cell_type": "code",
   "execution_count": 147,
   "id": "293da7d9",
   "metadata": {},
   "outputs": [
    {
     "name": "stdout",
     "output_type": "stream",
     "text": [
      "              precision    recall  f1-score   support\n",
      "\n",
      "          No       0.95      0.90      0.92      3403\n",
      "         Yes       0.09      0.17      0.12       196\n",
      "\n",
      "    accuracy                           0.86      3599\n",
      "   macro avg       0.52      0.54      0.52      3599\n",
      "weighted avg       0.90      0.86      0.88      3599\n",
      "\n"
     ]
    }
   ],
   "source": [
    "report_KNN_SMOTE_2 = classification_report(y_test, y_pred)\n",
    "print(report_KNN_SMOTE_2)"
   ]
  },
  {
   "cell_type": "markdown",
   "id": "41377db5",
   "metadata": {},
   "source": [
    "**KNeighbors Classifier with SMOTE k = 5** "
   ]
  },
  {
   "cell_type": "code",
   "execution_count": 148,
   "id": "1eb776a8",
   "metadata": {},
   "outputs": [
    {
     "data": {
      "text/plain": [
       "KNeighborsClassifier()"
      ]
     },
     "execution_count": 148,
     "metadata": {},
     "output_type": "execute_result"
    }
   ],
   "source": [
    "model = KNeighborsClassifier(n_neighbors=5)\n",
    "model.fit(X_sm, y_sm)"
   ]
  },
  {
   "cell_type": "code",
   "execution_count": 149,
   "id": "e25ead00",
   "metadata": {},
   "outputs": [
    {
     "name": "stdout",
     "output_type": "stream",
     "text": [
      "accuracy_score k=5: 0.7493748263406502\n"
     ]
    }
   ],
   "source": [
    "y_pred = model.predict(X_test)\n",
    "print(\"accuracy_score k=5:\", metrics.accuracy_score(y_test, y_pred))"
   ]
  },
  {
   "cell_type": "code",
   "execution_count": 150,
   "id": "ab465972",
   "metadata": {},
   "outputs": [
    {
     "name": "stdout",
     "output_type": "stream",
     "text": [
      "[[2620  783]\n",
      " [ 119   77]]\n"
     ]
    },
    {
     "data": {
      "text/plain": [
       "<AxesSubplot:>"
      ]
     },
     "execution_count": 150,
     "metadata": {},
     "output_type": "execute_result"
    },
    {
     "data": {
      "image/png": "[encoded data removed]",
      "text/plain": [
       "<Figure size 432x288 with 2 Axes>"
      ]
     },
     "metadata": {
      "needs_background": "light"
     },
     "output_type": "display_data"
    }
   ],
   "source": [
    "print(confusion_matrix(y_test, y_pred))\n",
    "    \n",
    "cf_matrix = confusion_matrix(y_test, y_pred)\n",
    "group_names = ['True No', 'False No',\n",
    "                   'False Yes', 'True Yes',]\n",
    "\n",
    "group_counts = [\"{0:0.0f}\".format(value) for value in cf_matrix.flatten()]\n",
    "group_percentages = [\"{0:.2%}\".format(value) for value in cf_matrix.flatten()/np.sum(cf_matrix)]\n",
    "labels = [f\"{v1}\\n{v2}\\n{v3}\" for v1, v2, v3 in zip(group_names,group_counts,group_percentages)]\n",
    "labels = np.asarray(labels).reshape(2,2)\n",
    "sns.heatmap(cf_matrix, annot=labels, fmt='', cmap='Blues')"
   ]
  },
  {
   "cell_type": "code",
   "execution_count": 151,
   "id": "ecc705e7",
   "metadata": {},
   "outputs": [
    {
     "name": "stdout",
     "output_type": "stream",
     "text": [
      "              precision    recall  f1-score   support\n",
      "\n",
      "          No       0.96      0.77      0.85      3403\n",
      "         Yes       0.09      0.39      0.15       196\n",
      "\n",
      "    accuracy                           0.75      3599\n",
      "   macro avg       0.52      0.58      0.50      3599\n",
      "weighted avg       0.91      0.75      0.81      3599\n",
      "\n"
     ]
    }
   ],
   "source": [
    "report_KNN_SMOTE_5 = classification_report(y_test, y_pred)\n",
    "print(report_KNN_SMOTE_5)"
   ]
  },
  {
   "cell_type": "markdown",
   "id": "eace1597",
   "metadata": {},
   "source": [
    "Findings\n",
    "- The highest KNN accuracy score (0.93) is given without SMOTE and a k = 5 \n",
    "- The confusion matrix of the KNN without SMOTE shows that the highest accuracy score gives only 1 True Yes \n",
    "- The technique SMOTE is not the right choice for this dataset\n"
   ]
  },
  {
   "cell_type": "code",
   "execution_count": null,
   "id": "d8f65cb5",
   "metadata": {},
   "outputs": [],
   "source": [
    "# conclusion "
   ]
  },
  {
   "cell_type": "markdown",
   "id": "20257fed",
   "metadata": {},
   "source": [
    "#### 8.3. Logistic Regression"
   ]
  },
  {
   "cell_type": "code",
   "execution_count": 152,
   "id": "b7f7ad4e",
   "metadata": {},
   "outputs": [
    {
     "data": {
      "text/plain": [
       "LogisticRegression(max_iter=10000, random_state=42)"
      ]
     },
     "execution_count": 152,
     "metadata": {},
     "output_type": "execute_result"
    }
   ],
   "source": [
    "classification = LogisticRegression(random_state=42, max_iter=10000)\n",
    "classification.fit(X_train, y_train)"
   ]
  },
  {
   "cell_type": "code",
   "execution_count": 153,
   "id": "246d65dc",
   "metadata": {},
   "outputs": [
    {
     "data": {
      "text/plain": [
       "0.945540427896638"
      ]
     },
     "execution_count": 153,
     "metadata": {},
     "output_type": "execute_result"
    }
   ],
   "source": [
    "classification.score(X_test, y_test)"
   ]
  },
  {
   "cell_type": "code",
   "execution_count": 154,
   "id": "069e2f18",
   "metadata": {},
   "outputs": [
    {
     "data": {
      "text/plain": [
       "array([[3403,    0],\n",
       "       [ 196,    0]], dtype=int64)"
      ]
     },
     "execution_count": 154,
     "metadata": {},
     "output_type": "execute_result"
    }
   ],
   "source": [
    "predictions = classification.predict(X_test)\n",
    "confusion_matrix(y_test, predictions)"
   ]
  },
  {
   "cell_type": "code",
   "execution_count": 155,
   "id": "826afea3",
   "metadata": {},
   "outputs": [
    {
     "data": {
      "text/plain": [
       "<AxesSubplot:>"
      ]
     },
     "execution_count": 155,
     "metadata": {},
     "output_type": "execute_result"
    },
    {
     "data": {
      "image/png": "[encoded data removed]",
      "text/plain": [
       "<Figure size 432x288 with 2 Axes>"
      ]
     },
     "metadata": {
      "needs_background": "light"
     },
     "output_type": "display_data"
    }
   ],
   "source": [
    "cf_matrix = confusion_matrix(y_test, predictions)\n",
    "group_names = ['True No', 'False No',\n",
    "               'False Yes', 'True Yes',]\n",
    "\n",
    "group_counts = [\"{0:0.0f}\".format(value) for value in cf_matrix.flatten()]\n",
    "group_percentages = [\"{0:.2%}\".format(value) for value in cf_matrix.flatten()/np.sum(cf_matrix)]\n",
    "labels = [f\"{v1}\\n{v2}\\n{v3}\" for v1, v2, v3 in zip(group_names,group_counts,group_percentages)]\n",
    "labels = np.asarray(labels).reshape(2,2)\n",
    "sns.heatmap(cf_matrix, annot=labels, fmt='', cmap='Blues')"
   ]
  },
  {
   "cell_type": "code",
   "execution_count": 156,
   "id": "cffea149",
   "metadata": {},
   "outputs": [
    {
     "name": "stdout",
     "output_type": "stream",
     "text": [
      "              precision    recall  f1-score   support\n",
      "\n",
      "          No       0.96      0.77      0.85      3403\n",
      "         Yes       0.09      0.39      0.15       196\n",
      "\n",
      "    accuracy                           0.75      3599\n",
      "   macro avg       0.52      0.58      0.50      3599\n",
      "weighted avg       0.91      0.75      0.81      3599\n",
      "\n"
     ]
    }
   ],
   "source": [
    "report_lr = classification_report(y_test, y_pred)\n",
    "print(report_lr)"
   ]
  },
  {
   "cell_type": "markdown",
   "id": "2eecc22c",
   "metadata": {},
   "source": [
    "Good prediction when it comes to the True No, but the bad prediction for True Yes makes this approach useless for the given dataset. "
   ]
  },
  {
   "cell_type": "markdown",
   "id": "d18c78f6",
   "metadata": {},
   "source": [
    "#### 8.4. Logistic Regression - Weights"
   ]
  },
  {
   "cell_type": "markdown",
   "id": "154b329d",
   "metadata": {},
   "source": [
    "Balance the data to get an better prediction when it comes to True Yes. I take a sample size of 9.000. Downsample No and upsample Yes. "
   ]
  },
  {
   "cell_type": "code",
   "execution_count": 157,
   "id": "cf90a40b",
   "metadata": {},
   "outputs": [
    {
     "data": {
      "text/plain": [
       "17995"
      ]
     },
     "execution_count": 157,
     "metadata": {},
     "output_type": "execute_result"
    }
   ],
   "source": [
    "total = sum(df2['offer_accepted'].value_counts())\n",
    "total"
   ]
  },
  {
   "cell_type": "code",
   "execution_count": 158,
   "id": "1bd24f32",
   "metadata": {},
   "outputs": [
    {
     "data": {
      "text/plain": [
       "{'No': 0.5301378741456516, 'Yes': 8.795210166177908}"
      ]
     },
     "execution_count": 158,
     "metadata": {},
     "output_type": "execute_result"
    }
   ],
   "source": [
    "weights = {'No': total/(2*df2['offer_accepted'].value_counts()['No']),\n",
    "           'Yes': total/(2*df2['offer_accepted'].value_counts()['Yes'])}\n",
    "weights"
   ]
  },
  {
   "cell_type": "markdown",
   "id": "6e26fac8",
   "metadata": {},
   "source": [
    "**Train/test split**"
   ]
  },
  {
   "cell_type": "code",
   "execution_count": 159,
   "id": "388a9289",
   "metadata": {},
   "outputs": [],
   "source": [
    "y = df2['offer_accepted']\n",
    "X = df2.drop('offer_accepted', axis=1)"
   ]
  },
  {
   "cell_type": "code",
   "execution_count": 160,
   "id": "7bfedcab",
   "metadata": {},
   "outputs": [],
   "source": [
    "X_train, X_test, y_train, y_test = train_test_split(X, y, test_size=0.2, random_state=42)"
   ]
  },
  {
   "cell_type": "markdown",
   "id": "7757428e",
   "metadata": {},
   "source": [
    "**standardize numerical**"
   ]
  },
  {
   "cell_type": "code",
   "execution_count": 161,
   "id": "7d54a434",
   "metadata": {},
   "outputs": [],
   "source": [
    "X_train_num = X_train.select_dtypes(np.number)\n",
    "X_test_num = X_test.select_dtypes(np.number)"
   ]
  },
  {
   "cell_type": "code",
   "execution_count": 162,
   "id": "25e4cd3a",
   "metadata": {},
   "outputs": [],
   "source": [
    "transformer = StandardScaler().fit(X_train_num)\n",
    "X_train_n = transformer.transform(X_train_num)"
   ]
  },
  {
   "cell_type": "code",
   "execution_count": 163,
   "id": "e353ee67",
   "metadata": {},
   "outputs": [],
   "source": [
    "transformer = StandardScaler().fit(X_test_num)\n",
    "X_test_n = transformer.transform(X_test_num)"
   ]
  },
  {
   "cell_type": "code",
   "execution_count": 164,
   "id": "e99ed55d",
   "metadata": {},
   "outputs": [
    {
     "data": {
      "text/plain": [
       "((14396, 8), (3599, 8))"
      ]
     },
     "execution_count": 164,
     "metadata": {},
     "output_type": "execute_result"
    }
   ],
   "source": [
    "X_train_n.shape, X_test_n.shape"
   ]
  },
  {
   "cell_type": "markdown",
   "id": "6f6f362b",
   "metadata": {},
   "source": [
    "**encode categorical**"
   ]
  },
  {
   "cell_type": "code",
   "execution_count": 165,
   "id": "00c732f4",
   "metadata": {},
   "outputs": [],
   "source": [
    "X_train_cat = X_train.select_dtypes(exclude=np.number)"
   ]
  },
  {
   "cell_type": "code",
   "execution_count": 166,
   "id": "5317e537",
   "metadata": {},
   "outputs": [],
   "source": [
    "encoder = OneHotEncoder(handle_unknown='error', drop='first').fit(X_train_cat)\n",
    "encoded_train = encoder.transform(X_train_cat).toarray()"
   ]
  },
  {
   "cell_type": "code",
   "execution_count": 167,
   "id": "66a246d8",
   "metadata": {},
   "outputs": [],
   "source": [
    "X_test_cat = X_test.select_dtypes(exclude=np.number)"
   ]
  },
  {
   "cell_type": "code",
   "execution_count": 168,
   "id": "1ca81793",
   "metadata": {},
   "outputs": [],
   "source": [
    "encoder = OneHotEncoder(handle_unknown='error', drop='first').fit(X_test_cat)\n",
    "encoded_test = encoder.transform(X_test_cat).toarray()"
   ]
  },
  {
   "cell_type": "markdown",
   "id": "78cf2151",
   "metadata": {},
   "source": [
    "**concatenate standardize numerical and encode categorical**"
   ]
  },
  {
   "cell_type": "code",
   "execution_count": 169,
   "id": "98ca1c17",
   "metadata": {},
   "outputs": [],
   "source": [
    "X_train = np.concatenate((X_train_n, encoded_train), axis=1)"
   ]
  },
  {
   "cell_type": "code",
   "execution_count": 170,
   "id": "bc81bf83",
   "metadata": {},
   "outputs": [],
   "source": [
    "X_test = np.concatenate((X_test_n, encoded_test), axis=1)"
   ]
  },
  {
   "cell_type": "code",
   "execution_count": 171,
   "id": "dc39203c",
   "metadata": {},
   "outputs": [
    {
     "data": {
      "text/plain": [
       "((14396, 17), (3599, 17))"
      ]
     },
     "execution_count": 171,
     "metadata": {},
     "output_type": "execute_result"
    }
   ],
   "source": [
    "X_train.shape, X_test.shape"
   ]
  },
  {
   "cell_type": "markdown",
   "id": "4d754581",
   "metadata": {},
   "source": [
    "**Fit the model with new sample size**"
   ]
  },
  {
   "cell_type": "code",
   "execution_count": 172,
   "id": "62c53b59",
   "metadata": {},
   "outputs": [
    {
     "data": {
      "text/plain": [
       "0.6693525979438733"
      ]
     },
     "execution_count": 172,
     "metadata": {},
     "output_type": "execute_result"
    }
   ],
   "source": [
    "classification = LogisticRegression(random_state=42, max_iter=10000, class_weight=weights)\n",
    "classification.fit(X_train, y_train)\n",
    "classification.score(X_test, y_test)"
   ]
  },
  {
   "cell_type": "code",
   "execution_count": 173,
   "id": "e4df2819",
   "metadata": {},
   "outputs": [
    {
     "data": {
      "text/plain": [
       "array([[2273, 1130],\n",
       "       [  60,  136]], dtype=int64)"
      ]
     },
     "execution_count": 173,
     "metadata": {},
     "output_type": "execute_result"
    }
   ],
   "source": [
    "predictions = classification.predict(X_test)\n",
    "confusion_matrix(y_test, predictions)"
   ]
  },
  {
   "cell_type": "code",
   "execution_count": 174,
   "id": "e12a898e",
   "metadata": {},
   "outputs": [
    {
     "data": {
      "text/plain": [
       "<AxesSubplot:>"
      ]
     },
     "execution_count": 174,
     "metadata": {},
     "output_type": "execute_result"
    },
    {
     "data": {
      "image/png": "[encoded data removed]",
      "text/plain": [
       "<Figure size 432x288 with 2 Axes>"
      ]
     },
     "metadata": {
      "needs_background": "light"
     },
     "output_type": "display_data"
    }
   ],
   "source": [
    "cf_matrix = confusion_matrix(y_test, predictions)\n",
    "group_names = ['True No', 'False No',\n",
    "               'False Yes', 'True Yes',]\n",
    "\n",
    "group_counts = [\"{0:0.0f}\".format(value) for value in cf_matrix.flatten()]\n",
    "group_percentages = [\"{0:.2%}\".format(value) for value in cf_matrix.flatten()/np.sum(cf_matrix)]\n",
    "labels = [f\"{v1}\\n{v2}\\n{v3}\" for v1, v2, v3 in zip(group_names,group_counts,group_percentages)]\n",
    "labels = np.asarray(labels).reshape(2,2)\n",
    "sns.heatmap(cf_matrix, annot=labels, fmt='', cmap='Blues')"
   ]
  },
  {
   "cell_type": "code",
   "execution_count": 175,
   "id": "4b55ca38",
   "metadata": {},
   "outputs": [
    {
     "name": "stdout",
     "output_type": "stream",
     "text": [
      "              precision    recall  f1-score   support\n",
      "\n",
      "          No       0.97      0.67      0.79      3403\n",
      "         Yes       0.11      0.69      0.19       196\n",
      "\n",
      "    accuracy                           0.67      3599\n",
      "   macro avg       0.54      0.68      0.49      3599\n",
      "weighted avg       0.93      0.67      0.76      3599\n",
      "\n"
     ]
    }
   ],
   "source": [
    "report_weights = classification_report(y_test, predictions)\n",
    "print(report_weights)"
   ]
  },
  {
   "cell_type": "markdown",
   "id": "06b10eaa",
   "metadata": {},
   "source": [
    "Even if the accuracy score of 0.66 is not as high, the prediction is better. With the weight balanced data the True Yes works much better, but there are more False No. About 70% of the \"No\" is predicted True and 75% of the \"Yes\" is predicted True. "
   ]
  },
  {
   "cell_type": "markdown",
   "id": "2f92571c",
   "metadata": {},
   "source": [
    "### 9. Overview about the model results + conclusion"
   ]
  },
  {
   "cell_type": "markdown",
   "id": "26bae896",
   "metadata": {},
   "source": [
    "**8.1. KNeighbors Classifier**"
   ]
  },
  {
   "cell_type": "code",
   "execution_count": 80,
   "id": "5e1ce6f7",
   "metadata": {},
   "outputs": [
    {
     "name": "stdout",
     "output_type": "stream",
     "text": [
      "              precision    recall  f1-score   support\n",
      "\n",
      "          No       0.95      1.00      0.97      3403\n",
      "         Yes       0.00      0.00      0.00       196\n",
      "\n",
      "    accuracy                           0.95      3599\n",
      "   macro avg       0.47      0.50      0.49      3599\n",
      "weighted avg       0.89      0.95      0.92      3599\n",
      "\n"
     ]
    }
   ],
   "source": [
    "print(report_KNN_5)"
   ]
  },
  {
   "cell_type": "markdown",
   "id": "fdaa50c5",
   "metadata": {},
   "source": [
    "**8.2. KNeighbors Classifier SMOTE**"
   ]
  },
  {
   "cell_type": "code",
   "execution_count": 81,
   "id": "21fa6227",
   "metadata": {},
   "outputs": [
    {
     "name": "stdout",
     "output_type": "stream",
     "text": [
      "              precision    recall  f1-score   support\n",
      "\n",
      "          No       0.95      0.90      0.92      3403\n",
      "         Yes       0.08      0.16      0.11       196\n",
      "\n",
      "    accuracy                           0.86      3599\n",
      "   macro avg       0.52      0.53      0.52      3599\n",
      "weighted avg       0.90      0.86      0.88      3599\n",
      "\n"
     ]
    }
   ],
   "source": [
    "print(report_KNN_SMOTE_2)"
   ]
  },
  {
   "cell_type": "code",
   "execution_count": 82,
   "id": "44c71701",
   "metadata": {},
   "outputs": [
    {
     "name": "stdout",
     "output_type": "stream",
     "text": [
      "              precision    recall  f1-score   support\n",
      "\n",
      "          No       0.95      0.76      0.85      3403\n",
      "         Yes       0.08      0.37      0.14       196\n",
      "\n",
      "    accuracy                           0.74      3599\n",
      "   macro avg       0.52      0.57      0.49      3599\n",
      "weighted avg       0.91      0.74      0.81      3599\n",
      "\n"
     ]
    }
   ],
   "source": [
    "print(report_KNN_SMOTE_5)"
   ]
  },
  {
   "cell_type": "markdown",
   "id": "d72b4e4a",
   "metadata": {},
   "source": [
    "**8.3. Logistic regression**"
   ]
  },
  {
   "cell_type": "code",
   "execution_count": 83,
   "id": "ab6a992f",
   "metadata": {},
   "outputs": [
    {
     "name": "stdout",
     "output_type": "stream",
     "text": [
      "              precision    recall  f1-score   support\n",
      "\n",
      "          No       0.95      0.76      0.85      3403\n",
      "         Yes       0.08      0.37      0.14       196\n",
      "\n",
      "    accuracy                           0.74      3599\n",
      "   macro avg       0.52      0.57      0.49      3599\n",
      "weighted avg       0.91      0.74      0.81      3599\n",
      "\n"
     ]
    }
   ],
   "source": [
    "print(report_lr)"
   ]
  },
  {
   "cell_type": "markdown",
   "id": "2d460402",
   "metadata": {},
   "source": [
    "**8.4. Logistic Regression - Weights**"
   ]
  },
  {
   "cell_type": "code",
   "execution_count": 84,
   "id": "f9c55a1c",
   "metadata": {},
   "outputs": [
    {
     "name": "stdout",
     "output_type": "stream",
     "text": [
      "              precision    recall  f1-score   support\n",
      "\n",
      "          No       0.97      0.67      0.79      3403\n",
      "         Yes       0.11      0.69      0.19       196\n",
      "\n",
      "    accuracy                           0.67      3599\n",
      "   macro avg       0.54      0.68      0.49      3599\n",
      "weighted avg       0.93      0.67      0.76      3599\n",
      "\n"
     ]
    }
   ],
   "source": [
    "print(report_weights)"
   ]
  },
  {
   "cell_type": "code",
   "execution_count": null,
   "id": "832169c2",
   "metadata": {},
   "outputs": [],
   "source": []
  },
  {
   "cell_type": "code",
   "execution_count": null,
   "id": "32bef55c",
   "metadata": {},
   "outputs": [],
   "source": []
  },
  {
   "cell_type": "code",
   "execution_count": null,
   "id": "a10d1b61",
   "metadata": {},
   "outputs": [],
   "source": []
  },
  {
   "cell_type": "markdown",
   "id": "f6a18993",
   "metadata": {},
   "source": [
    "#### 10. Conclusions"
   ]
  },
  {
   "cell_type": "markdown",
   "id": "7b6a954f",
   "metadata": {},
   "source": [
    "- For the next marketing study I would recommend to change the questions which have no relationship to the target variable \"offer accepted\". (5.2.) and to build bins (house hold size 5-9) "
   ]
  },
  {
   "cell_type": "code",
   "execution_count": null,
   "id": "825e1fba",
   "metadata": {},
   "outputs": [],
   "source": []
  }
 ],
 "metadata": {
  "kernelspec": {
   "display_name": "Python 3",
   "language": "python",
   "name": "python3"
  },
  "language_info": {
   "codemirror_mode": {
    "name": "ipython",
    "version": 3
   },
   "file_extension": ".py",
   "mimetype": "text/x-python",
   "name": "python",
   "nbconvert_exporter": "python",
   "pygments_lexer": "ipython3",
   "version": "3.8.8"
  }
 },
 "nbformat": 4,
 "nbformat_minor": 5
}
