{
 "cells": [
  {
   "cell_type": "markdown",
   "id": "6b86ea35",
   "metadata": {},
   "source": [
    "# SQL Questions - Classification"
   ]
  },
  {
   "cell_type": "markdown",
   "id": "649b5996",
   "metadata": {},
   "source": [
    "Questions 1.-4. are about uploading the data into the MySQL workbench. \\\n",
    "I used jupyter notebook, so the outputs of the queries are at a glance in this notebook. "
   ]
  },
  {
   "cell_type": "code",
   "execution_count": null,
   "id": "b366d62f",
   "metadata": {},
   "outputs": [],
   "source": [
    "import pymysql\n",
    "from sqlalchemy import create_engine\n",
    "import pandas as pd\n",
    "import getpass\n",
    "password = getpass.getpass()\n",
    "connection_string = 'mysql+pymysql://root:' + password + '@localhost/credit'\n",
    "engine = create_engine(connection_string)"
   ]
  },
  {
   "cell_type": "markdown",
   "id": "40789a7e",
   "metadata": {},
   "source": [
    "### **5.1. Use the alter table command to drop the column q4_balance from the database.** "
   ]
  },
  {
   "cell_type": "code",
   "execution_count": null,
   "id": "c152db56",
   "metadata": {},
   "outputs": [],
   "source": [
    "ALTER TABLE credit_card_data\n",
    "DROP COLUMN q4_balance;"
   ]
  },
  {
   "cell_type": "markdown",
   "id": "fa9e46f4",
   "metadata": {},
   "source": [
    "### **5.2. Select all the data from the table to verify if the command worked.**"
   ]
  },
  {
   "cell_type": "code",
   "execution_count": 7,
   "id": "53b79fe9",
   "metadata": {},
   "outputs": [
    {
     "data": {
      "text/html": [
       "<div>\n",
       "<style scoped>\n",
       "    .dataframe tbody tr th:only-of-type {\n",
       "        vertical-align: middle;\n",
       "    }\n",
       "\n",
       "    .dataframe tbody tr th {\n",
       "        vertical-align: top;\n",
       "    }\n",
       "\n",
       "    .dataframe thead th {\n",
       "        text-align: right;\n",
       "    }\n",
       "</style>\n",
       "<table border=\"1\" class=\"dataframe\">\n",
       "  <thead>\n",
       "    <tr style=\"text-align: right;\">\n",
       "      <th></th>\n",
       "      <th>customer_number</th>\n",
       "      <th>offer_accepted</th>\n",
       "      <th>reward</th>\n",
       "      <th>mailer_type</th>\n",
       "      <th>income_level</th>\n",
       "      <th>bank_accounts_open</th>\n",
       "      <th>overdraft_protection</th>\n",
       "      <th>credit_rating</th>\n",
       "      <th>credit_cards_held</th>\n",
       "      <th>homes_owned</th>\n",
       "      <th>household_size</th>\n",
       "      <th>own_your_home</th>\n",
       "      <th>average_balance</th>\n",
       "      <th>q1_balance</th>\n",
       "      <th>q2_balance</th>\n",
       "      <th>q3_balance</th>\n",
       "    </tr>\n",
       "  </thead>\n",
       "  <tbody>\n",
       "    <tr>\n",
       "      <th>0</th>\n",
       "      <td>1</td>\n",
       "      <td>No</td>\n",
       "      <td>Air Miles</td>\n",
       "      <td>Letter</td>\n",
       "      <td>High</td>\n",
       "      <td>1</td>\n",
       "      <td>No</td>\n",
       "      <td>High</td>\n",
       "      <td>2</td>\n",
       "      <td>1</td>\n",
       "      <td>4</td>\n",
       "      <td>No</td>\n",
       "      <td>1160.75</td>\n",
       "      <td>1669.0</td>\n",
       "      <td>877.0</td>\n",
       "      <td>1095.0</td>\n",
       "    </tr>\n",
       "    <tr>\n",
       "      <th>1</th>\n",
       "      <td>2</td>\n",
       "      <td>No</td>\n",
       "      <td>Air Miles</td>\n",
       "      <td>Letter</td>\n",
       "      <td>Medium</td>\n",
       "      <td>1</td>\n",
       "      <td>No</td>\n",
       "      <td>Medium</td>\n",
       "      <td>2</td>\n",
       "      <td>2</td>\n",
       "      <td>5</td>\n",
       "      <td>Yes</td>\n",
       "      <td>147.25</td>\n",
       "      <td>39.0</td>\n",
       "      <td>106.0</td>\n",
       "      <td>78.0</td>\n",
       "    </tr>\n",
       "    <tr>\n",
       "      <th>2</th>\n",
       "      <td>3</td>\n",
       "      <td>No</td>\n",
       "      <td>Air Miles</td>\n",
       "      <td>Postcard</td>\n",
       "      <td>High</td>\n",
       "      <td>2</td>\n",
       "      <td>No</td>\n",
       "      <td>Medium</td>\n",
       "      <td>2</td>\n",
       "      <td>1</td>\n",
       "      <td>2</td>\n",
       "      <td>Yes</td>\n",
       "      <td>276.50</td>\n",
       "      <td>367.0</td>\n",
       "      <td>352.0</td>\n",
       "      <td>145.0</td>\n",
       "    </tr>\n",
       "    <tr>\n",
       "      <th>3</th>\n",
       "      <td>4</td>\n",
       "      <td>No</td>\n",
       "      <td>Air Miles</td>\n",
       "      <td>Letter</td>\n",
       "      <td>Medium</td>\n",
       "      <td>2</td>\n",
       "      <td>No</td>\n",
       "      <td>High</td>\n",
       "      <td>1</td>\n",
       "      <td>1</td>\n",
       "      <td>4</td>\n",
       "      <td>No</td>\n",
       "      <td>1219.00</td>\n",
       "      <td>1578.0</td>\n",
       "      <td>1760.0</td>\n",
       "      <td>1119.0</td>\n",
       "    </tr>\n",
       "    <tr>\n",
       "      <th>4</th>\n",
       "      <td>5</td>\n",
       "      <td>No</td>\n",
       "      <td>Air Miles</td>\n",
       "      <td>Letter</td>\n",
       "      <td>Medium</td>\n",
       "      <td>1</td>\n",
       "      <td>No</td>\n",
       "      <td>Medium</td>\n",
       "      <td>2</td>\n",
       "      <td>1</td>\n",
       "      <td>6</td>\n",
       "      <td>Yes</td>\n",
       "      <td>1211.00</td>\n",
       "      <td>2140.0</td>\n",
       "      <td>1357.0</td>\n",
       "      <td>982.0</td>\n",
       "    </tr>\n",
       "    <tr>\n",
       "      <th>5</th>\n",
       "      <td>6</td>\n",
       "      <td>No</td>\n",
       "      <td>Air Miles</td>\n",
       "      <td>Letter</td>\n",
       "      <td>Medium</td>\n",
       "      <td>1</td>\n",
       "      <td>No</td>\n",
       "      <td>High</td>\n",
       "      <td>3</td>\n",
       "      <td>1</td>\n",
       "      <td>4</td>\n",
       "      <td>No</td>\n",
       "      <td>1114.75</td>\n",
       "      <td>1847.0</td>\n",
       "      <td>1365.0</td>\n",
       "      <td>750.0</td>\n",
       "    </tr>\n",
       "    <tr>\n",
       "      <th>6</th>\n",
       "      <td>7</td>\n",
       "      <td>No</td>\n",
       "      <td>Air Miles</td>\n",
       "      <td>Letter</td>\n",
       "      <td>Medium</td>\n",
       "      <td>1</td>\n",
       "      <td>No</td>\n",
       "      <td>Medium</td>\n",
       "      <td>2</td>\n",
       "      <td>1</td>\n",
       "      <td>3</td>\n",
       "      <td>No</td>\n",
       "      <td>283.75</td>\n",
       "      <td>468.0</td>\n",
       "      <td>188.0</td>\n",
       "      <td>347.0</td>\n",
       "    </tr>\n",
       "    <tr>\n",
       "      <th>7</th>\n",
       "      <td>8</td>\n",
       "      <td>No</td>\n",
       "      <td>Cash Back</td>\n",
       "      <td>Postcard</td>\n",
       "      <td>Low</td>\n",
       "      <td>1</td>\n",
       "      <td>No</td>\n",
       "      <td>Medium</td>\n",
       "      <td>4</td>\n",
       "      <td>1</td>\n",
       "      <td>4</td>\n",
       "      <td>Yes</td>\n",
       "      <td>278.50</td>\n",
       "      <td>132.0</td>\n",
       "      <td>391.0</td>\n",
       "      <td>285.0</td>\n",
       "    </tr>\n",
       "    <tr>\n",
       "      <th>8</th>\n",
       "      <td>9</td>\n",
       "      <td>No</td>\n",
       "      <td>Air Miles</td>\n",
       "      <td>Postcard</td>\n",
       "      <td>Medium</td>\n",
       "      <td>1</td>\n",
       "      <td>No</td>\n",
       "      <td>Low</td>\n",
       "      <td>2</td>\n",
       "      <td>1</td>\n",
       "      <td>4</td>\n",
       "      <td>Yes</td>\n",
       "      <td>1005.00</td>\n",
       "      <td>894.0</td>\n",
       "      <td>891.0</td>\n",
       "      <td>882.0</td>\n",
       "    </tr>\n",
       "    <tr>\n",
       "      <th>9</th>\n",
       "      <td>10</td>\n",
       "      <td>No</td>\n",
       "      <td>Air Miles</td>\n",
       "      <td>Letter</td>\n",
       "      <td>High</td>\n",
       "      <td>2</td>\n",
       "      <td>No</td>\n",
       "      <td>Low</td>\n",
       "      <td>3</td>\n",
       "      <td>2</td>\n",
       "      <td>4</td>\n",
       "      <td>Yes</td>\n",
       "      <td>974.25</td>\n",
       "      <td>1814.0</td>\n",
       "      <td>1454.0</td>\n",
       "      <td>514.0</td>\n",
       "    </tr>\n",
       "  </tbody>\n",
       "</table>\n",
       "</div>"
      ],
      "text/plain": [
       "   customer_number offer_accepted     reward mailer_type income_level  \\\n",
       "0                1             No  Air Miles      Letter         High   \n",
       "1                2             No  Air Miles      Letter       Medium   \n",
       "2                3             No  Air Miles    Postcard         High   \n",
       "3                4             No  Air Miles      Letter       Medium   \n",
       "4                5             No  Air Miles      Letter       Medium   \n",
       "5                6             No  Air Miles      Letter       Medium   \n",
       "6                7             No  Air Miles      Letter       Medium   \n",
       "7                8             No  Cash Back    Postcard          Low   \n",
       "8                9             No  Air Miles    Postcard       Medium   \n",
       "9               10             No  Air Miles      Letter         High   \n",
       "\n",
       "   bank_accounts_open overdraft_protection credit_rating  credit_cards_held  \\\n",
       "0                   1                   No          High                  2   \n",
       "1                   1                   No        Medium                  2   \n",
       "2                   2                   No        Medium                  2   \n",
       "3                   2                   No          High                  1   \n",
       "4                   1                   No        Medium                  2   \n",
       "5                   1                   No          High                  3   \n",
       "6                   1                   No        Medium                  2   \n",
       "7                   1                   No        Medium                  4   \n",
       "8                   1                   No           Low                  2   \n",
       "9                   2                   No           Low                  3   \n",
       "\n",
       "   homes_owned  household_size own_your_home  average_balance  q1_balance  \\\n",
       "0            1               4            No          1160.75      1669.0   \n",
       "1            2               5           Yes           147.25        39.0   \n",
       "2            1               2           Yes           276.50       367.0   \n",
       "3            1               4            No          1219.00      1578.0   \n",
       "4            1               6           Yes          1211.00      2140.0   \n",
       "5            1               4            No          1114.75      1847.0   \n",
       "6            1               3            No           283.75       468.0   \n",
       "7            1               4           Yes           278.50       132.0   \n",
       "8            1               4           Yes          1005.00       894.0   \n",
       "9            2               4           Yes           974.25      1814.0   \n",
       "\n",
       "   q2_balance  q3_balance  \n",
       "0       877.0      1095.0  \n",
       "1       106.0        78.0  \n",
       "2       352.0       145.0  \n",
       "3      1760.0      1119.0  \n",
       "4      1357.0       982.0  \n",
       "5      1365.0       750.0  \n",
       "6       188.0       347.0  \n",
       "7       391.0       285.0  \n",
       "8       891.0       882.0  \n",
       "9      1454.0       514.0  "
      ]
     },
     "execution_count": 7,
     "metadata": {},
     "output_type": "execute_result"
    }
   ],
   "source": [
    "data = pd.read_sql_query('SELECT * FROM credit_card_data', engine)\n",
    "data.head(10)"
   ]
  },
  {
   "cell_type": "markdown",
   "id": "27afb966",
   "metadata": {},
   "source": [
    "### **6. Use sql query to find how many rows of data you have.**"
   ]
  },
  {
   "cell_type": "code",
   "execution_count": 8,
   "id": "dfedfaed",
   "metadata": {},
   "outputs": [
    {
     "data": {
      "text/html": [
       "<div>\n",
       "<style scoped>\n",
       "    .dataframe tbody tr th:only-of-type {\n",
       "        vertical-align: middle;\n",
       "    }\n",
       "\n",
       "    .dataframe tbody tr th {\n",
       "        vertical-align: top;\n",
       "    }\n",
       "\n",
       "    .dataframe thead th {\n",
       "        text-align: right;\n",
       "    }\n",
       "</style>\n",
       "<table border=\"1\" class=\"dataframe\">\n",
       "  <thead>\n",
       "    <tr style=\"text-align: right;\">\n",
       "      <th></th>\n",
       "      <th>count_rows</th>\n",
       "    </tr>\n",
       "  </thead>\n",
       "  <tbody>\n",
       "    <tr>\n",
       "      <th>0</th>\n",
       "      <td>17976</td>\n",
       "    </tr>\n",
       "  </tbody>\n",
       "</table>\n",
       "</div>"
      ],
      "text/plain": [
       "   count_rows\n",
       "0       17976"
      ]
     },
     "execution_count": 8,
     "metadata": {},
     "output_type": "execute_result"
    }
   ],
   "source": [
    "query_6 = '''\n",
    "        SELECT COUNT(*) AS count_rows FROM credit_card_data;\n",
    "        '''\n",
    "data = pd.read_sql_query(query_6, engine)\n",
    "data.head()"
   ]
  },
  {
   "cell_type": "markdown",
   "id": "e81d000a",
   "metadata": {},
   "source": [
    "### **7. Count unique values**\n",
    "What are the unique values in the column `Offer_accepted`?"
   ]
  },
  {
   "cell_type": "code",
   "execution_count": 9,
   "id": "c3e08fb4",
   "metadata": {},
   "outputs": [
    {
     "data": {
      "text/html": [
       "<div>\n",
       "<style scoped>\n",
       "    .dataframe tbody tr th:only-of-type {\n",
       "        vertical-align: middle;\n",
       "    }\n",
       "\n",
       "    .dataframe tbody tr th {\n",
       "        vertical-align: top;\n",
       "    }\n",
       "\n",
       "    .dataframe thead th {\n",
       "        text-align: right;\n",
       "    }\n",
       "</style>\n",
       "<table border=\"1\" class=\"dataframe\">\n",
       "  <thead>\n",
       "    <tr style=\"text-align: right;\">\n",
       "      <th></th>\n",
       "      <th>offer_accepted</th>\n",
       "    </tr>\n",
       "  </thead>\n",
       "  <tbody>\n",
       "    <tr>\n",
       "      <th>0</th>\n",
       "      <td>No</td>\n",
       "    </tr>\n",
       "    <tr>\n",
       "      <th>1</th>\n",
       "      <td>Yes</td>\n",
       "    </tr>\n",
       "  </tbody>\n",
       "</table>\n",
       "</div>"
      ],
      "text/plain": [
       "  offer_accepted\n",
       "0             No\n",
       "1            Yes"
      ]
     },
     "execution_count": 9,
     "metadata": {},
     "output_type": "execute_result"
    }
   ],
   "source": [
    "query_7_1 = '''\n",
    "        SELECT DISTINCT(offer_accepted) FROM credit_card_data;\n",
    "        '''\n",
    "data = pd.read_sql_query(query_7_1, engine)\n",
    "data.head()"
   ]
  },
  {
   "cell_type": "markdown",
   "id": "620157a1",
   "metadata": {},
   "source": [
    "What are the unique values in the column `Reward`?"
   ]
  },
  {
   "cell_type": "code",
   "execution_count": 14,
   "id": "af16d987",
   "metadata": {},
   "outputs": [
    {
     "data": {
      "text/html": [
       "<div>\n",
       "<style scoped>\n",
       "    .dataframe tbody tr th:only-of-type {\n",
       "        vertical-align: middle;\n",
       "    }\n",
       "\n",
       "    .dataframe tbody tr th {\n",
       "        vertical-align: top;\n",
       "    }\n",
       "\n",
       "    .dataframe thead th {\n",
       "        text-align: right;\n",
       "    }\n",
       "</style>\n",
       "<table border=\"1\" class=\"dataframe\">\n",
       "  <thead>\n",
       "    <tr style=\"text-align: right;\">\n",
       "      <th></th>\n",
       "      <th>reward</th>\n",
       "    </tr>\n",
       "  </thead>\n",
       "  <tbody>\n",
       "    <tr>\n",
       "      <th>0</th>\n",
       "      <td>Air Miles</td>\n",
       "    </tr>\n",
       "    <tr>\n",
       "      <th>1</th>\n",
       "      <td>Cash Back</td>\n",
       "    </tr>\n",
       "    <tr>\n",
       "      <th>2</th>\n",
       "      <td>Points</td>\n",
       "    </tr>\n",
       "  </tbody>\n",
       "</table>\n",
       "</div>"
      ],
      "text/plain": [
       "      reward\n",
       "0  Air Miles\n",
       "1  Cash Back\n",
       "2     Points"
      ]
     },
     "execution_count": 14,
     "metadata": {},
     "output_type": "execute_result"
    }
   ],
   "source": [
    "query_7_2 = '''\n",
    "        SELECT DISTINCT(reward) FROM credit_card_data;\n",
    "        '''\n",
    "data = pd.read_sql_query(query_7_2, engine)\n",
    "data.head()"
   ]
  },
  {
   "cell_type": "markdown",
   "id": "ae16657d",
   "metadata": {},
   "source": [
    "What are the unique values in the column `mailer_type`?"
   ]
  },
  {
   "cell_type": "code",
   "execution_count": 11,
   "id": "fefeac36",
   "metadata": {},
   "outputs": [
    {
     "data": {
      "text/html": [
       "<div>\n",
       "<style scoped>\n",
       "    .dataframe tbody tr th:only-of-type {\n",
       "        vertical-align: middle;\n",
       "    }\n",
       "\n",
       "    .dataframe tbody tr th {\n",
       "        vertical-align: top;\n",
       "    }\n",
       "\n",
       "    .dataframe thead th {\n",
       "        text-align: right;\n",
       "    }\n",
       "</style>\n",
       "<table border=\"1\" class=\"dataframe\">\n",
       "  <thead>\n",
       "    <tr style=\"text-align: right;\">\n",
       "      <th></th>\n",
       "      <th>mailer_type</th>\n",
       "    </tr>\n",
       "  </thead>\n",
       "  <tbody>\n",
       "    <tr>\n",
       "      <th>0</th>\n",
       "      <td>Letter</td>\n",
       "    </tr>\n",
       "    <tr>\n",
       "      <th>1</th>\n",
       "      <td>Postcard</td>\n",
       "    </tr>\n",
       "  </tbody>\n",
       "</table>\n",
       "</div>"
      ],
      "text/plain": [
       "  mailer_type\n",
       "0      Letter\n",
       "1    Postcard"
      ]
     },
     "execution_count": 11,
     "metadata": {},
     "output_type": "execute_result"
    }
   ],
   "source": [
    "query_7_3 = '''\n",
    "        SELECT DISTINCT(mailer_type) FROM credit_card_data;\n",
    "        '''\n",
    "data = pd.read_sql_query(query_7_3, engine)\n",
    "data.head()"
   ]
  },
  {
   "cell_type": "markdown",
   "id": "63974cb2",
   "metadata": {},
   "source": [
    "What are the unique values in the column `credit_cards_held`?"
   ]
  },
  {
   "cell_type": "code",
   "execution_count": 12,
   "id": "a8b59731",
   "metadata": {},
   "outputs": [
    {
     "data": {
      "text/html": [
       "<div>\n",
       "<style scoped>\n",
       "    .dataframe tbody tr th:only-of-type {\n",
       "        vertical-align: middle;\n",
       "    }\n",
       "\n",
       "    .dataframe tbody tr th {\n",
       "        vertical-align: top;\n",
       "    }\n",
       "\n",
       "    .dataframe thead th {\n",
       "        text-align: right;\n",
       "    }\n",
       "</style>\n",
       "<table border=\"1\" class=\"dataframe\">\n",
       "  <thead>\n",
       "    <tr style=\"text-align: right;\">\n",
       "      <th></th>\n",
       "      <th>credit_cards_held</th>\n",
       "    </tr>\n",
       "  </thead>\n",
       "  <tbody>\n",
       "    <tr>\n",
       "      <th>0</th>\n",
       "      <td>2</td>\n",
       "    </tr>\n",
       "    <tr>\n",
       "      <th>1</th>\n",
       "      <td>1</td>\n",
       "    </tr>\n",
       "    <tr>\n",
       "      <th>2</th>\n",
       "      <td>3</td>\n",
       "    </tr>\n",
       "    <tr>\n",
       "      <th>3</th>\n",
       "      <td>4</td>\n",
       "    </tr>\n",
       "  </tbody>\n",
       "</table>\n",
       "</div>"
      ],
      "text/plain": [
       "   credit_cards_held\n",
       "0                  2\n",
       "1                  1\n",
       "2                  3\n",
       "3                  4"
      ]
     },
     "execution_count": 12,
     "metadata": {},
     "output_type": "execute_result"
    }
   ],
   "source": [
    "query_7_4 = '''\n",
    "        SELECT DISTINCT(credit_cards_held) FROM credit_card_data;\n",
    "        '''\n",
    "data = pd.read_sql_query(query_7_4, engine)\n",
    "data.head()"
   ]
  },
  {
   "cell_type": "markdown",
   "id": "30104a41",
   "metadata": {},
   "source": [
    "What are the unique values in the column `household_size`?"
   ]
  },
  {
   "cell_type": "code",
   "execution_count": 15,
   "id": "9641ae95",
   "metadata": {},
   "outputs": [
    {
     "data": {
      "text/html": [
       "<div>\n",
       "<style scoped>\n",
       "    .dataframe tbody tr th:only-of-type {\n",
       "        vertical-align: middle;\n",
       "    }\n",
       "\n",
       "    .dataframe tbody tr th {\n",
       "        vertical-align: top;\n",
       "    }\n",
       "\n",
       "    .dataframe thead th {\n",
       "        text-align: right;\n",
       "    }\n",
       "</style>\n",
       "<table border=\"1\" class=\"dataframe\">\n",
       "  <thead>\n",
       "    <tr style=\"text-align: right;\">\n",
       "      <th></th>\n",
       "      <th>household_size</th>\n",
       "    </tr>\n",
       "  </thead>\n",
       "  <tbody>\n",
       "    <tr>\n",
       "      <th>0</th>\n",
       "      <td>4</td>\n",
       "    </tr>\n",
       "    <tr>\n",
       "      <th>1</th>\n",
       "      <td>5</td>\n",
       "    </tr>\n",
       "    <tr>\n",
       "      <th>2</th>\n",
       "      <td>2</td>\n",
       "    </tr>\n",
       "    <tr>\n",
       "      <th>3</th>\n",
       "      <td>6</td>\n",
       "    </tr>\n",
       "    <tr>\n",
       "      <th>4</th>\n",
       "      <td>3</td>\n",
       "    </tr>\n",
       "  </tbody>\n",
       "</table>\n",
       "</div>"
      ],
      "text/plain": [
       "   household_size\n",
       "0               4\n",
       "1               5\n",
       "2               2\n",
       "3               6\n",
       "4               3"
      ]
     },
     "execution_count": 15,
     "metadata": {},
     "output_type": "execute_result"
    }
   ],
   "source": [
    "query_7_5 = '''\n",
    "        SELECT DISTINCT(household_size) FROM credit_card_data;\n",
    "        '''\n",
    "data = pd.read_sql_query(query_7_5, engine)\n",
    "data.head()"
   ]
  },
  {
   "cell_type": "markdown",
   "id": "b0421713",
   "metadata": {},
   "source": [
    "### **8. Arrange the data in a decreasing order by the average_balance of the house.** \n",
    "Return only the customer_number of the top 10 customers with the highest average_balances in your data."
   ]
  },
  {
   "cell_type": "code",
   "execution_count": 17,
   "id": "e76a9faf",
   "metadata": {},
   "outputs": [
    {
     "data": {
      "text/html": [
       "<div>\n",
       "<style scoped>\n",
       "    .dataframe tbody tr th:only-of-type {\n",
       "        vertical-align: middle;\n",
       "    }\n",
       "\n",
       "    .dataframe tbody tr th {\n",
       "        vertical-align: top;\n",
       "    }\n",
       "\n",
       "    .dataframe thead th {\n",
       "        text-align: right;\n",
       "    }\n",
       "</style>\n",
       "<table border=\"1\" class=\"dataframe\">\n",
       "  <thead>\n",
       "    <tr style=\"text-align: right;\">\n",
       "      <th></th>\n",
       "      <th>customer_highest_avg_balance</th>\n",
       "    </tr>\n",
       "  </thead>\n",
       "  <tbody>\n",
       "    <tr>\n",
       "      <th>0</th>\n",
       "      <td>2297</td>\n",
       "    </tr>\n",
       "    <tr>\n",
       "      <th>1</th>\n",
       "      <td>12636</td>\n",
       "    </tr>\n",
       "    <tr>\n",
       "      <th>2</th>\n",
       "      <td>8888</td>\n",
       "    </tr>\n",
       "    <tr>\n",
       "      <th>3</th>\n",
       "      <td>10577</td>\n",
       "    </tr>\n",
       "    <tr>\n",
       "      <th>4</th>\n",
       "      <td>14004</td>\n",
       "    </tr>\n",
       "  </tbody>\n",
       "</table>\n",
       "</div>"
      ],
      "text/plain": [
       "   customer_highest_avg_balance\n",
       "0                          2297\n",
       "1                         12636\n",
       "2                          8888\n",
       "3                         10577\n",
       "4                         14004"
      ]
     },
     "execution_count": 17,
     "metadata": {},
     "output_type": "execute_result"
    }
   ],
   "source": [
    "query_8 = '''\n",
    "        SELECT customer_number AS customer_highest_avg_balance FROM credit_card_data \n",
    "        ORDER BY average_balance DESC\n",
    "        LIMIT 10; \n",
    "        '''\n",
    "data = pd.read_sql_query(query_8, engine)\n",
    "data.head()"
   ]
  },
  {
   "cell_type": "markdown",
   "id": "df77da4a",
   "metadata": {},
   "source": [
    "### **9. What is the average balance of all the customers in your data?**"
   ]
  },
  {
   "cell_type": "code",
   "execution_count": 20,
   "id": "74f62b14",
   "metadata": {},
   "outputs": [
    {
     "data": {
      "text/html": [
       "<div>\n",
       "<style scoped>\n",
       "    .dataframe tbody tr th:only-of-type {\n",
       "        vertical-align: middle;\n",
       "    }\n",
       "\n",
       "    .dataframe tbody tr th {\n",
       "        vertical-align: top;\n",
       "    }\n",
       "\n",
       "    .dataframe thead th {\n",
       "        text-align: right;\n",
       "    }\n",
       "</style>\n",
       "<table border=\"1\" class=\"dataframe\">\n",
       "  <thead>\n",
       "    <tr style=\"text-align: right;\">\n",
       "      <th></th>\n",
       "      <th>average_balance_all_customers</th>\n",
       "    </tr>\n",
       "  </thead>\n",
       "  <tbody>\n",
       "    <tr>\n",
       "      <th>0</th>\n",
       "      <td>940.52</td>\n",
       "    </tr>\n",
       "  </tbody>\n",
       "</table>\n",
       "</div>"
      ],
      "text/plain": [
       "   average_balance_all_customers\n",
       "0                         940.52"
      ]
     },
     "execution_count": 20,
     "metadata": {},
     "output_type": "execute_result"
    }
   ],
   "source": [
    "query_9 = '''\n",
    "        SELECT ROUND(AVG(average_balance), 2) AS average_balance_all_customers FROM credit_card_data;\n",
    "        '''\n",
    "data = pd.read_sql_query(query_9, engine)\n",
    "data.head()"
   ]
  },
  {
   "cell_type": "markdown",
   "id": "c371bc09",
   "metadata": {},
   "source": [
    "### **10. What is the average balance of the customers grouped by `Income Level`?**\n",
    "\n",
    "In this exercise we will use group by to check the properties of some of the categorical variables in our data\n",
    "Note wherever average_balance is asked in the questions below, please take the average of the column average_balance. \n",
    "The returned result should have only two columns, income level and `Average balance` of the customers.\n",
    "Use an alias to change the name of the second column."
   ]
  },
  {
   "cell_type": "code",
   "execution_count": 21,
   "id": "b6b478de",
   "metadata": {},
   "outputs": [
    {
     "data": {
      "text/html": [
       "<div>\n",
       "<style scoped>\n",
       "    .dataframe tbody tr th:only-of-type {\n",
       "        vertical-align: middle;\n",
       "    }\n",
       "\n",
       "    .dataframe tbody tr th {\n",
       "        vertical-align: top;\n",
       "    }\n",
       "\n",
       "    .dataframe thead th {\n",
       "        text-align: right;\n",
       "    }\n",
       "</style>\n",
       "<table border=\"1\" class=\"dataframe\">\n",
       "  <thead>\n",
       "    <tr style=\"text-align: right;\">\n",
       "      <th></th>\n",
       "      <th>income_level</th>\n",
       "      <th>avg_balance</th>\n",
       "    </tr>\n",
       "  </thead>\n",
       "  <tbody>\n",
       "    <tr>\n",
       "      <th>0</th>\n",
       "      <td>High</td>\n",
       "      <td>942.57</td>\n",
       "    </tr>\n",
       "    <tr>\n",
       "      <th>1</th>\n",
       "      <td>Medium</td>\n",
       "      <td>940.89</td>\n",
       "    </tr>\n",
       "    <tr>\n",
       "      <th>2</th>\n",
       "      <td>Low</td>\n",
       "      <td>937.66</td>\n",
       "    </tr>\n",
       "  </tbody>\n",
       "</table>\n",
       "</div>"
      ],
      "text/plain": [
       "  income_level  avg_balance\n",
       "0         High       942.57\n",
       "1       Medium       940.89\n",
       "2          Low       937.66"
      ]
     },
     "execution_count": 21,
     "metadata": {},
     "output_type": "execute_result"
    }
   ],
   "source": [
    "query_10_1 = '''\n",
    "        SELECT income_level, ROUND(AVG(average_balance), 2) AS avg_balance  FROM credit_card_data\n",
    "        GROUP BY income_level;\n",
    "        '''\n",
    "data = pd.read_sql_query(query_10_1, engine)\n",
    "data.head()"
   ]
  },
  {
   "cell_type": "markdown",
   "id": "9ff33eb7",
   "metadata": {},
   "source": [
    "What is the average balance of the customers grouped by `number_of_bank_accounts_open`?\n",
    "The returned result should have only two columns, `number_of_bank_accounts_open` and `Average balance` of the customers. \n",
    "Use an alias to change the name of the second column."
   ]
  },
  {
   "cell_type": "code",
   "execution_count": null,
   "id": "0579ea13",
   "metadata": {},
   "outputs": [],
   "source": [
    "query_10_2 = '''\n",
    "         SELECT bank_accounts_open, ROUND(AVG(average_balance), 2) AS avg_balance  FROM credit_card_data\n",
    "         GROUP BY bank_accounts_open;\n",
    "        '''\n",
    "data = pd.read_sql_query(query_10_2, engine)\n",
    "data.head()"
   ]
  },
  {
   "cell_type": "markdown",
   "id": "cb247e6b",
   "metadata": {},
   "source": [
    "What is the average number of credit cards held by customers for each of the credit card ratings? \n",
    "The returned result should have only two columns, rating and average number of credit cards held. \n",
    "Use an alias to change the name of the second column."
   ]
  },
  {
   "cell_type": "code",
   "execution_count": 22,
   "id": "d950fc32",
   "metadata": {},
   "outputs": [
    {
     "data": {
      "text/html": [
       "<div>\n",
       "<style scoped>\n",
       "    .dataframe tbody tr th:only-of-type {\n",
       "        vertical-align: middle;\n",
       "    }\n",
       "\n",
       "    .dataframe tbody tr th {\n",
       "        vertical-align: top;\n",
       "    }\n",
       "\n",
       "    .dataframe thead th {\n",
       "        text-align: right;\n",
       "    }\n",
       "</style>\n",
       "<table border=\"1\" class=\"dataframe\">\n",
       "  <thead>\n",
       "    <tr style=\"text-align: right;\">\n",
       "      <th></th>\n",
       "      <th>bank_accounts_open</th>\n",
       "      <th>avg_balance</th>\n",
       "    </tr>\n",
       "  </thead>\n",
       "  <tbody>\n",
       "    <tr>\n",
       "      <th>0</th>\n",
       "      <td>1</td>\n",
       "      <td>941.53</td>\n",
       "    </tr>\n",
       "    <tr>\n",
       "      <th>1</th>\n",
       "      <td>2</td>\n",
       "      <td>936.47</td>\n",
       "    </tr>\n",
       "    <tr>\n",
       "      <th>2</th>\n",
       "      <td>3</td>\n",
       "      <td>948.28</td>\n",
       "    </tr>\n",
       "  </tbody>\n",
       "</table>\n",
       "</div>"
      ],
      "text/plain": [
       "   bank_accounts_open  avg_balance\n",
       "0                   1       941.53\n",
       "1                   2       936.47\n",
       "2                   3       948.28"
      ]
     },
     "execution_count": 22,
     "metadata": {},
     "output_type": "execute_result"
    }
   ],
   "source": [
    "query_10_3 = '''\n",
    "         SELECT bank_accounts_open, ROUND(AVG(average_balance), 2) AS avg_balance  FROM credit_card_data\n",
    "         GROUP BY bank_accounts_open;\n",
    "        '''\n",
    "data = pd.read_sql_query(query_10_3, engine)\n",
    "data.head()"
   ]
  },
  {
   "cell_type": "markdown",
   "id": "d2cf9d42",
   "metadata": {},
   "source": [
    "### **Correlation credit_cards_held and number_of_bank_accounts_open** \n",
    "Is there any correlation between the columns `credit_cards_held` and `number_of_bank_accounts_open`? You can analyse this by grouping the data by one of the variables and then aggregating the results of the other column. Visually check if there is a positive correlation or negative correlation or no correlation between the variables.\n",
    "You might also have to check the number of customers in each category (ie number of credit cards held) to assess if that category is well represented in the dataset to include it in your analysis. For eg. If the category is under-represented as compared to other categories, ignore that category in this analysis"
   ]
  },
  {
   "cell_type": "code",
   "execution_count": 25,
   "id": "69cc53db",
   "metadata": {},
   "outputs": [
    {
     "data": {
      "text/html": [
       "<div>\n",
       "<style scoped>\n",
       "    .dataframe tbody tr th:only-of-type {\n",
       "        vertical-align: middle;\n",
       "    }\n",
       "\n",
       "    .dataframe tbody tr th {\n",
       "        vertical-align: top;\n",
       "    }\n",
       "\n",
       "    .dataframe thead th {\n",
       "        text-align: right;\n",
       "    }\n",
       "</style>\n",
       "<table border=\"1\" class=\"dataframe\">\n",
       "  <thead>\n",
       "    <tr style=\"text-align: right;\">\n",
       "      <th></th>\n",
       "      <th>COUNT(credit_cards_held)</th>\n",
       "      <th>bank_accounts_open</th>\n",
       "    </tr>\n",
       "  </thead>\n",
       "  <tbody>\n",
       "    <tr>\n",
       "      <th>0</th>\n",
       "      <td>13674</td>\n",
       "      <td>1</td>\n",
       "    </tr>\n",
       "    <tr>\n",
       "      <th>1</th>\n",
       "      <td>4007</td>\n",
       "      <td>2</td>\n",
       "    </tr>\n",
       "    <tr>\n",
       "      <th>2</th>\n",
       "      <td>295</td>\n",
       "      <td>3</td>\n",
       "    </tr>\n",
       "  </tbody>\n",
       "</table>\n",
       "</div>"
      ],
      "text/plain": [
       "   COUNT(credit_cards_held)  bank_accounts_open\n",
       "0                     13674                   1\n",
       "1                      4007                   2\n",
       "2                       295                   3"
      ]
     },
     "execution_count": 25,
     "metadata": {},
     "output_type": "execute_result"
    }
   ],
   "source": [
    "query_10_4 = '''\n",
    "         SELECT COUNT(credit_cards_held), bank_accounts_open FROM credit_card_data\n",
    "         GROUP BY bank_accounts_open;\n",
    "        '''\n",
    "data = pd.read_sql_query(query_10_4, engine)\n",
    "data.head()"
   ]
  },
  {
   "cell_type": "code",
   "execution_count": 30,
   "id": "9540f5d2",
   "metadata": {},
   "outputs": [
    {
     "data": {
      "text/html": [
       "<div>\n",
       "<style scoped>\n",
       "    .dataframe tbody tr th:only-of-type {\n",
       "        vertical-align: middle;\n",
       "    }\n",
       "\n",
       "    .dataframe tbody tr th {\n",
       "        vertical-align: top;\n",
       "    }\n",
       "\n",
       "    .dataframe thead th {\n",
       "        text-align: right;\n",
       "    }\n",
       "</style>\n",
       "<table border=\"1\" class=\"dataframe\">\n",
       "  <thead>\n",
       "    <tr style=\"text-align: right;\">\n",
       "      <th></th>\n",
       "      <th>credit_cards_held</th>\n",
       "      <th>COUNT(bank_accounts_open)</th>\n",
       "    </tr>\n",
       "  </thead>\n",
       "  <tbody>\n",
       "    <tr>\n",
       "      <th>0</th>\n",
       "      <td>2</td>\n",
       "      <td>7933</td>\n",
       "    </tr>\n",
       "    <tr>\n",
       "      <th>1</th>\n",
       "      <td>1</td>\n",
       "      <td>6147</td>\n",
       "    </tr>\n",
       "    <tr>\n",
       "      <th>2</th>\n",
       "      <td>3</td>\n",
       "      <td>3381</td>\n",
       "    </tr>\n",
       "    <tr>\n",
       "      <th>3</th>\n",
       "      <td>4</td>\n",
       "      <td>515</td>\n",
       "    </tr>\n",
       "  </tbody>\n",
       "</table>\n",
       "</div>"
      ],
      "text/plain": [
       "   credit_cards_held  COUNT(bank_accounts_open)\n",
       "0                  2                       7933\n",
       "1                  1                       6147\n",
       "2                  3                       3381\n",
       "3                  4                        515"
      ]
     },
     "execution_count": 30,
     "metadata": {},
     "output_type": "execute_result"
    }
   ],
   "source": [
    "query_10_5 = '''\n",
    "         SELECT credit_cards_held, COUNT(bank_accounts_open) FROM credit_card_data\n",
    "         GROUP BY credit_cards_held;\n",
    "        '''\n",
    "data = pd.read_sql_query(query_10_5, engine)\n",
    "data.head()"
   ]
  },
  {
   "cell_type": "markdown",
   "id": "1b8116d7",
   "metadata": {},
   "source": [
    "Result: About 75% (13.674) of the customers have one bank account open. About 78% of the customers have one or two credit cards. \n",
    "The minority have two, three bank accounts open or more than two credit cards.\n",
    "\n",
    "Only 295 customers have 3 bank accounts open. Only 515 customers have 4 credit cards. So I decided to ignore these customers for doing the currelation map. "
   ]
  },
  {
   "cell_type": "code",
   "execution_count": 35,
   "id": "f0d5f2bc",
   "metadata": {},
   "outputs": [
    {
     "data": {
      "text/plain": [
       "2    7933\n",
       "1    6147\n",
       "3    3896\n",
       "Name: credit_cards_held, dtype: int64"
      ]
     },
     "execution_count": 35,
     "metadata": {},
     "output_type": "execute_result"
    }
   ],
   "source": [
    "data['credit_cards_held'] = data['credit_cards_held'].apply(lambda x: x if x < 4 else 3)\n",
    "\n",
    "data['credit_cards_held'].value_counts()"
   ]
  },
  {
   "cell_type": "code",
   "execution_count": 37,
   "id": "1387f6fa",
   "metadata": {},
   "outputs": [
    {
     "data": {
      "text/plain": [
       "1    13674\n",
       "2     4302\n",
       "Name: bank_accounts_open, dtype: int64"
      ]
     },
     "execution_count": 37,
     "metadata": {},
     "output_type": "execute_result"
    }
   ],
   "source": [
    "data['bank_accounts_open'] = data['bank_accounts_open'].apply(lambda x: x if x < 3 else 2)\n",
    "\n",
    "data['bank_accounts_open'].value_counts()"
   ]
  },
  {
   "cell_type": "code",
   "execution_count": 41,
   "id": "1becc031",
   "metadata": {},
   "outputs": [
    {
     "data": {
      "image/png": "[encoded data removed]",
      "text/plain": [
       "<Figure size 432x288 with 2 Axes>"
      ]
     },
     "metadata": {
      "needs_background": "light"
     },
     "output_type": "display_data"
    }
   ],
   "source": [
    "import matplotlib.pyplot as plt\n",
    "import seaborn as sns\n",
    "num_columns = data[['bank_accounts_open', 'credit_cards_held']]\n",
    "sns.heatmap(num_columns.corr(), annot=True)\n",
    "plt.show()"
   ]
  },
  {
   "cell_type": "markdown",
   "id": "c11ba871",
   "metadata": {},
   "source": [
    "The heatmap shows that there is no correlation (0.0054) between the two columns bank_accounts_open and credit_cards_held. "
   ]
  },
  {
   "cell_type": "markdown",
   "id": "6db5dc64",
   "metadata": {},
   "source": [
    "### **11. Your managers are only interested in the customers with the following properties:**\n",
    "- Credit rating medium or high\n",
    "- Credit cards held 2 or less\n",
    "- Owns their own home\n",
    "- Household size 3 or more\n",
    "\n",
    "For the rest of the things, they are not too concerned. Write a simple query to find what are the options available for them? Can you filter the customers who accepted the offers here?"
   ]
  },
  {
   "cell_type": "code",
   "execution_count": 44,
   "id": "7023a629",
   "metadata": {},
   "outputs": [
    {
     "data": {
      "text/html": [
       "<div>\n",
       "<style scoped>\n",
       "    .dataframe tbody tr th:only-of-type {\n",
       "        vertical-align: middle;\n",
       "    }\n",
       "\n",
       "    .dataframe tbody tr th {\n",
       "        vertical-align: top;\n",
       "    }\n",
       "\n",
       "    .dataframe thead th {\n",
       "        text-align: right;\n",
       "    }\n",
       "</style>\n",
       "<table border=\"1\" class=\"dataframe\">\n",
       "  <thead>\n",
       "    <tr style=\"text-align: right;\">\n",
       "      <th></th>\n",
       "      <th>customer_number</th>\n",
       "      <th>offer_accepted</th>\n",
       "      <th>credit_rating</th>\n",
       "      <th>credit_cards_held</th>\n",
       "      <th>own_your_home</th>\n",
       "      <th>household_size</th>\n",
       "    </tr>\n",
       "  </thead>\n",
       "  <tbody>\n",
       "    <tr>\n",
       "      <th>0</th>\n",
       "      <td>2</td>\n",
       "      <td>No</td>\n",
       "      <td>Medium</td>\n",
       "      <td>2</td>\n",
       "      <td>Yes</td>\n",
       "      <td>5</td>\n",
       "    </tr>\n",
       "    <tr>\n",
       "      <th>1</th>\n",
       "      <td>5</td>\n",
       "      <td>No</td>\n",
       "      <td>Medium</td>\n",
       "      <td>2</td>\n",
       "      <td>Yes</td>\n",
       "      <td>6</td>\n",
       "    </tr>\n",
       "    <tr>\n",
       "      <th>2</th>\n",
       "      <td>17</td>\n",
       "      <td>No</td>\n",
       "      <td>Medium</td>\n",
       "      <td>1</td>\n",
       "      <td>Yes</td>\n",
       "      <td>4</td>\n",
       "    </tr>\n",
       "    <tr>\n",
       "      <th>3</th>\n",
       "      <td>18</td>\n",
       "      <td>No</td>\n",
       "      <td>High</td>\n",
       "      <td>2</td>\n",
       "      <td>Yes</td>\n",
       "      <td>4</td>\n",
       "    </tr>\n",
       "    <tr>\n",
       "      <th>4</th>\n",
       "      <td>20</td>\n",
       "      <td>No</td>\n",
       "      <td>High</td>\n",
       "      <td>2</td>\n",
       "      <td>Yes</td>\n",
       "      <td>5</td>\n",
       "    </tr>\n",
       "    <tr>\n",
       "      <th>...</th>\n",
       "      <td>...</td>\n",
       "      <td>...</td>\n",
       "      <td>...</td>\n",
       "      <td>...</td>\n",
       "      <td>...</td>\n",
       "      <td>...</td>\n",
       "    </tr>\n",
       "    <tr>\n",
       "      <th>4944</th>\n",
       "      <td>17984</td>\n",
       "      <td>No</td>\n",
       "      <td>High</td>\n",
       "      <td>1</td>\n",
       "      <td>Yes</td>\n",
       "      <td>4</td>\n",
       "    </tr>\n",
       "    <tr>\n",
       "      <th>4945</th>\n",
       "      <td>17986</td>\n",
       "      <td>No</td>\n",
       "      <td>Medium</td>\n",
       "      <td>1</td>\n",
       "      <td>Yes</td>\n",
       "      <td>5</td>\n",
       "    </tr>\n",
       "    <tr>\n",
       "      <th>4946</th>\n",
       "      <td>17987</td>\n",
       "      <td>No</td>\n",
       "      <td>High</td>\n",
       "      <td>2</td>\n",
       "      <td>Yes</td>\n",
       "      <td>3</td>\n",
       "    </tr>\n",
       "    <tr>\n",
       "      <th>4947</th>\n",
       "      <td>17988</td>\n",
       "      <td>No</td>\n",
       "      <td>Medium</td>\n",
       "      <td>1</td>\n",
       "      <td>Yes</td>\n",
       "      <td>5</td>\n",
       "    </tr>\n",
       "    <tr>\n",
       "      <th>4948</th>\n",
       "      <td>17991</td>\n",
       "      <td>No</td>\n",
       "      <td>High</td>\n",
       "      <td>1</td>\n",
       "      <td>Yes</td>\n",
       "      <td>3</td>\n",
       "    </tr>\n",
       "  </tbody>\n",
       "</table>\n",
       "<p>4949 rows × 6 columns</p>\n",
       "</div>"
      ],
      "text/plain": [
       "      customer_number offer_accepted credit_rating  credit_cards_held  \\\n",
       "0                   2             No        Medium                  2   \n",
       "1                   5             No        Medium                  2   \n",
       "2                  17             No        Medium                  1   \n",
       "3                  18             No          High                  2   \n",
       "4                  20             No          High                  2   \n",
       "...               ...            ...           ...                ...   \n",
       "4944            17984             No          High                  1   \n",
       "4945            17986             No        Medium                  1   \n",
       "4946            17987             No          High                  2   \n",
       "4947            17988             No        Medium                  1   \n",
       "4948            17991             No          High                  1   \n",
       "\n",
       "     own_your_home  household_size  \n",
       "0              Yes               5  \n",
       "1              Yes               6  \n",
       "2              Yes               4  \n",
       "3              Yes               4  \n",
       "4              Yes               5  \n",
       "...            ...             ...  \n",
       "4944           Yes               4  \n",
       "4945           Yes               5  \n",
       "4946           Yes               3  \n",
       "4947           Yes               5  \n",
       "4948           Yes               3  \n",
       "\n",
       "[4949 rows x 6 columns]"
      ]
     },
     "execution_count": 44,
     "metadata": {},
     "output_type": "execute_result"
    }
   ],
   "source": [
    "query_11_1 = '''\n",
    "SELECT customer_number, offer_accepted, credit_rating, credit_cards_held, own_your_home, household_size\n",
    "FROM credit_card_data\n",
    "WHERE (credit_rating = 'High' OR credit_rating = 'Medium')\n",
    "AND (credit_cards_held <= 2)\n",
    "AND (own_your_home = 'Yes')\n",
    "AND (household_size >= 3);\n",
    "        '''\n",
    "data = pd.read_sql_query(query_11_1, engine)\n",
    "data"
   ]
  },
  {
   "cell_type": "markdown",
   "id": "5adfe193",
   "metadata": {},
   "source": [
    "Around a quarter of customers meet these requirements. This suggests that there is a lot of potential in this customer group."
   ]
  },
  {
   "cell_type": "code",
   "execution_count": 45,
   "id": "d8a56f38",
   "metadata": {},
   "outputs": [
    {
     "data": {
      "text/html": [
       "<div>\n",
       "<style scoped>\n",
       "    .dataframe tbody tr th:only-of-type {\n",
       "        vertical-align: middle;\n",
       "    }\n",
       "\n",
       "    .dataframe tbody tr th {\n",
       "        vertical-align: top;\n",
       "    }\n",
       "\n",
       "    .dataframe thead th {\n",
       "        text-align: right;\n",
       "    }\n",
       "</style>\n",
       "<table border=\"1\" class=\"dataframe\">\n",
       "  <thead>\n",
       "    <tr style=\"text-align: right;\">\n",
       "      <th></th>\n",
       "      <th>customer_number</th>\n",
       "      <th>offer_accepted</th>\n",
       "      <th>credit_rating</th>\n",
       "      <th>credit_cards_held</th>\n",
       "      <th>own_your_home</th>\n",
       "      <th>household_size</th>\n",
       "    </tr>\n",
       "  </thead>\n",
       "  <tbody>\n",
       "    <tr>\n",
       "      <th>0</th>\n",
       "      <td>113</td>\n",
       "      <td>Yes</td>\n",
       "      <td>High</td>\n",
       "      <td>2</td>\n",
       "      <td>Yes</td>\n",
       "      <td>5</td>\n",
       "    </tr>\n",
       "    <tr>\n",
       "      <th>1</th>\n",
       "      <td>132</td>\n",
       "      <td>Yes</td>\n",
       "      <td>Medium</td>\n",
       "      <td>2</td>\n",
       "      <td>Yes</td>\n",
       "      <td>3</td>\n",
       "    </tr>\n",
       "    <tr>\n",
       "      <th>2</th>\n",
       "      <td>251</td>\n",
       "      <td>Yes</td>\n",
       "      <td>Medium</td>\n",
       "      <td>1</td>\n",
       "      <td>Yes</td>\n",
       "      <td>5</td>\n",
       "    </tr>\n",
       "    <tr>\n",
       "      <th>3</th>\n",
       "      <td>478</td>\n",
       "      <td>Yes</td>\n",
       "      <td>High</td>\n",
       "      <td>2</td>\n",
       "      <td>Yes</td>\n",
       "      <td>3</td>\n",
       "    </tr>\n",
       "    <tr>\n",
       "      <th>4</th>\n",
       "      <td>606</td>\n",
       "      <td>Yes</td>\n",
       "      <td>Medium</td>\n",
       "      <td>1</td>\n",
       "      <td>Yes</td>\n",
       "      <td>4</td>\n",
       "    </tr>\n",
       "    <tr>\n",
       "      <th>...</th>\n",
       "      <td>...</td>\n",
       "      <td>...</td>\n",
       "      <td>...</td>\n",
       "      <td>...</td>\n",
       "      <td>...</td>\n",
       "      <td>...</td>\n",
       "    </tr>\n",
       "    <tr>\n",
       "      <th>162</th>\n",
       "      <td>17842</td>\n",
       "      <td>Yes</td>\n",
       "      <td>High</td>\n",
       "      <td>2</td>\n",
       "      <td>Yes</td>\n",
       "      <td>3</td>\n",
       "    </tr>\n",
       "    <tr>\n",
       "      <th>163</th>\n",
       "      <td>17904</td>\n",
       "      <td>Yes</td>\n",
       "      <td>Medium</td>\n",
       "      <td>1</td>\n",
       "      <td>Yes</td>\n",
       "      <td>4</td>\n",
       "    </tr>\n",
       "    <tr>\n",
       "      <th>164</th>\n",
       "      <td>17932</td>\n",
       "      <td>Yes</td>\n",
       "      <td>High</td>\n",
       "      <td>2</td>\n",
       "      <td>Yes</td>\n",
       "      <td>5</td>\n",
       "    </tr>\n",
       "    <tr>\n",
       "      <th>165</th>\n",
       "      <td>17943</td>\n",
       "      <td>Yes</td>\n",
       "      <td>Medium</td>\n",
       "      <td>1</td>\n",
       "      <td>Yes</td>\n",
       "      <td>3</td>\n",
       "    </tr>\n",
       "    <tr>\n",
       "      <th>166</th>\n",
       "      <td>17972</td>\n",
       "      <td>Yes</td>\n",
       "      <td>High</td>\n",
       "      <td>2</td>\n",
       "      <td>Yes</td>\n",
       "      <td>4</td>\n",
       "    </tr>\n",
       "  </tbody>\n",
       "</table>\n",
       "<p>167 rows × 6 columns</p>\n",
       "</div>"
      ],
      "text/plain": [
       "     customer_number offer_accepted credit_rating  credit_cards_held  \\\n",
       "0                113            Yes          High                  2   \n",
       "1                132            Yes        Medium                  2   \n",
       "2                251            Yes        Medium                  1   \n",
       "3                478            Yes          High                  2   \n",
       "4                606            Yes        Medium                  1   \n",
       "..               ...            ...           ...                ...   \n",
       "162            17842            Yes          High                  2   \n",
       "163            17904            Yes        Medium                  1   \n",
       "164            17932            Yes          High                  2   \n",
       "165            17943            Yes        Medium                  1   \n",
       "166            17972            Yes          High                  2   \n",
       "\n",
       "    own_your_home  household_size  \n",
       "0             Yes               5  \n",
       "1             Yes               3  \n",
       "2             Yes               5  \n",
       "3             Yes               3  \n",
       "4             Yes               4  \n",
       "..            ...             ...  \n",
       "162           Yes               3  \n",
       "163           Yes               4  \n",
       "164           Yes               5  \n",
       "165           Yes               3  \n",
       "166           Yes               4  \n",
       "\n",
       "[167 rows x 6 columns]"
      ]
     },
     "execution_count": 45,
     "metadata": {},
     "output_type": "execute_result"
    }
   ],
   "source": [
    "query_11_2 = '''\n",
    "SELECT customer_number, offer_accepted, credit_rating, credit_cards_held, own_your_home, household_size\n",
    "FROM credit_card_data\n",
    "WHERE (offer_accepted = 'yes')\n",
    "AND (credit_rating = 'High' OR credit_rating = 'Medium')\n",
    "AND (credit_cards_held <= 2)\n",
    "AND (own_your_home = 'Yes')\n",
    "AND (household_size >= 3);\n",
    "        '''\n",
    "data = pd.read_sql_query(query_11_2, engine)\n",
    "data"
   ]
  },
  {
   "cell_type": "markdown",
   "id": "615e4737",
   "metadata": {},
   "source": [
    "There are only 167 customers with the following properties who accepted the offer. So I would give the hint, that this customers are under 1% of all customers and that is worth addressing this customer group."
   ]
  },
  {
   "cell_type": "markdown",
   "id": "42d15c34",
   "metadata": {},
   "source": [
    "#### 12. Your managers want to find out the list of customers whose average balance is less than the average balance of all the customers in the database. \n",
    "Write a query to show them the list of such customers. You might need to use a subquery for this problem."
   ]
  },
  {
   "cell_type": "code",
   "execution_count": 49,
   "id": "f7158390",
   "metadata": {},
   "outputs": [
    {
     "data": {
      "text/plain": [
       "940.5155624165554"
      ]
     },
     "execution_count": 49,
     "metadata": {},
     "output_type": "execute_result"
    }
   ],
   "source": [
    "data = pd.read_sql_query('SELECT * FROM credit_card_data', engine)\n",
    "data[\"average_balance\"].mean()"
   ]
  },
  {
   "cell_type": "code",
   "execution_count": 47,
   "id": "70b3bfc3",
   "metadata": {},
   "outputs": [
    {
     "data": {
      "text/html": [
       "<div>\n",
       "<style scoped>\n",
       "    .dataframe tbody tr th:only-of-type {\n",
       "        vertical-align: middle;\n",
       "    }\n",
       "\n",
       "    .dataframe tbody tr th {\n",
       "        vertical-align: top;\n",
       "    }\n",
       "\n",
       "    .dataframe thead th {\n",
       "        text-align: right;\n",
       "    }\n",
       "</style>\n",
       "<table border=\"1\" class=\"dataframe\">\n",
       "  <thead>\n",
       "    <tr style=\"text-align: right;\">\n",
       "      <th></th>\n",
       "      <th>customer_number</th>\n",
       "      <th>average_balance</th>\n",
       "    </tr>\n",
       "  </thead>\n",
       "  <tbody>\n",
       "    <tr>\n",
       "      <th>0</th>\n",
       "      <td>2</td>\n",
       "      <td>147.25</td>\n",
       "    </tr>\n",
       "    <tr>\n",
       "      <th>1</th>\n",
       "      <td>3</td>\n",
       "      <td>276.50</td>\n",
       "    </tr>\n",
       "    <tr>\n",
       "      <th>2</th>\n",
       "      <td>7</td>\n",
       "      <td>283.75</td>\n",
       "    </tr>\n",
       "    <tr>\n",
       "      <th>3</th>\n",
       "      <td>8</td>\n",
       "      <td>278.50</td>\n",
       "    </tr>\n",
       "    <tr>\n",
       "      <th>4</th>\n",
       "      <td>22</td>\n",
       "      <td>811.75</td>\n",
       "    </tr>\n",
       "    <tr>\n",
       "      <th>...</th>\n",
       "      <td>...</td>\n",
       "      <td>...</td>\n",
       "    </tr>\n",
       "    <tr>\n",
       "      <th>6996</th>\n",
       "      <td>17989</td>\n",
       "      <td>911.00</td>\n",
       "    </tr>\n",
       "    <tr>\n",
       "      <th>6997</th>\n",
       "      <td>17991</td>\n",
       "      <td>335.75</td>\n",
       "    </tr>\n",
       "    <tr>\n",
       "      <th>6998</th>\n",
       "      <td>17994</td>\n",
       "      <td>925.50</td>\n",
       "    </tr>\n",
       "    <tr>\n",
       "      <th>6999</th>\n",
       "      <td>17996</td>\n",
       "      <td>167.50</td>\n",
       "    </tr>\n",
       "    <tr>\n",
       "      <th>7000</th>\n",
       "      <td>17997</td>\n",
       "      <td>850.50</td>\n",
       "    </tr>\n",
       "  </tbody>\n",
       "</table>\n",
       "<p>7001 rows × 2 columns</p>\n",
       "</div>"
      ],
      "text/plain": [
       "      customer_number  average_balance\n",
       "0                   2           147.25\n",
       "1                   3           276.50\n",
       "2                   7           283.75\n",
       "3                   8           278.50\n",
       "4                  22           811.75\n",
       "...               ...              ...\n",
       "6996            17989           911.00\n",
       "6997            17991           335.75\n",
       "6998            17994           925.50\n",
       "6999            17996           167.50\n",
       "7000            17997           850.50\n",
       "\n",
       "[7001 rows x 2 columns]"
      ]
     },
     "execution_count": 47,
     "metadata": {},
     "output_type": "execute_result"
    }
   ],
   "source": [
    "query_12 = '''\n",
    "SELECT customer_number, average_balance\n",
    "FROM credit_card_data \n",
    "HAVING average_balance < (SELECT AVG(average_balance) FROM credit_card_data)\n",
    "        '''\n",
    "data = pd.read_sql_query(query_12, engine)\n",
    "data"
   ]
  },
  {
   "cell_type": "markdown",
   "id": "586777de",
   "metadata": {},
   "source": [
    "### 13. Since this is something that the senior management is regularly interested in, create a view called Customers__Balance_View1 of the same query."
   ]
  },
  {
   "cell_type": "code",
   "execution_count": null,
   "id": "08a08a87",
   "metadata": {},
   "outputs": [],
   "source": [
    "query_13 = '''\n",
    "CREATE VIEW Customers__Balance_View1 AS\n",
    "SELECT customer_number, average_balance\n",
    "FROM credit_card_data \n",
    "HAVING average_balance < (SELECT AVG(average_balance) FROM credit_card_data)\n",
    "        '''\n",
    "data = pd.read_sql_query(query_13, engine)\n",
    "data"
   ]
  },
  {
   "cell_type": "markdown",
   "id": "45992265",
   "metadata": {},
   "source": [
    "### 14. What is the number of people who accepted the offer vs number of people who did not?"
   ]
  },
  {
   "cell_type": "code",
   "execution_count": 56,
   "id": "e49b47e8",
   "metadata": {},
   "outputs": [
    {
     "data": {
      "text/html": [
       "<div>\n",
       "<style scoped>\n",
       "    .dataframe tbody tr th:only-of-type {\n",
       "        vertical-align: middle;\n",
       "    }\n",
       "\n",
       "    .dataframe tbody tr th {\n",
       "        vertical-align: top;\n",
       "    }\n",
       "\n",
       "    .dataframe thead th {\n",
       "        text-align: right;\n",
       "    }\n",
       "</style>\n",
       "<table border=\"1\" class=\"dataframe\">\n",
       "  <thead>\n",
       "    <tr style=\"text-align: right;\">\n",
       "      <th></th>\n",
       "      <th>customers</th>\n",
       "      <th>offer_accepted</th>\n",
       "    </tr>\n",
       "  </thead>\n",
       "  <tbody>\n",
       "    <tr>\n",
       "      <th>0</th>\n",
       "      <td>16955</td>\n",
       "      <td>No</td>\n",
       "    </tr>\n",
       "    <tr>\n",
       "      <th>1</th>\n",
       "      <td>1021</td>\n",
       "      <td>Yes</td>\n",
       "    </tr>\n",
       "  </tbody>\n",
       "</table>\n",
       "</div>"
      ],
      "text/plain": [
       "   customers offer_accepted\n",
       "0      16955             No\n",
       "1       1021            Yes"
      ]
     },
     "execution_count": 56,
     "metadata": {},
     "output_type": "execute_result"
    }
   ],
   "source": [
    "query_14 = '''\n",
    "         SELECT COUNT(customer_number) AS customers, offer_accepted FROM credit_card_data\n",
    "         GROUP BY offer_accepted;\n",
    "        '''\n",
    "data = pd.read_sql_query(query_14, engine)\n",
    "data.head()"
   ]
  },
  {
   "cell_type": "markdown",
   "id": "1a8829a0",
   "metadata": {},
   "source": [
    "### 15. Your managers are more interested in customers with a credit rating of high or medium. What is the difference in average balances of the customers with high credit card rating and low credit card rating?"
   ]
  },
  {
   "cell_type": "code",
   "execution_count": 59,
   "id": "3fc036e7",
   "metadata": {},
   "outputs": [
    {
     "data": {
      "text/html": [
       "<div>\n",
       "<style scoped>\n",
       "    .dataframe tbody tr th:only-of-type {\n",
       "        vertical-align: middle;\n",
       "    }\n",
       "\n",
       "    .dataframe tbody tr th {\n",
       "        vertical-align: top;\n",
       "    }\n",
       "\n",
       "    .dataframe thead th {\n",
       "        text-align: right;\n",
       "    }\n",
       "</style>\n",
       "<table border=\"1\" class=\"dataframe\">\n",
       "  <thead>\n",
       "    <tr style=\"text-align: right;\">\n",
       "      <th></th>\n",
       "      <th>credit_rating</th>\n",
       "      <th>average_balance</th>\n",
       "    </tr>\n",
       "  </thead>\n",
       "  <tbody>\n",
       "    <tr>\n",
       "      <th>0</th>\n",
       "      <td>High</td>\n",
       "      <td>1160.75</td>\n",
       "    </tr>\n",
       "    <tr>\n",
       "      <th>1</th>\n",
       "      <td>Medium</td>\n",
       "      <td>147.25</td>\n",
       "    </tr>\n",
       "  </tbody>\n",
       "</table>\n",
       "</div>"
      ],
      "text/plain": [
       "  credit_rating  average_balance\n",
       "0          High          1160.75\n",
       "1        Medium           147.25"
      ]
     },
     "execution_count": 59,
     "metadata": {},
     "output_type": "execute_result"
    }
   ],
   "source": [
    "query_15_1 = '''\n",
    "          SELECT credit_rating, average_balance FROM credit_card_data\n",
    "          WHERE (credit_rating = 'High' OR credit_rating = 'Medium')\n",
    "          GROUP BY credit_rating;\n",
    "        '''\n",
    "data = pd.read_sql_query(query_15_1, engine)\n",
    "data.head()"
   ]
  },
  {
   "cell_type": "code",
   "execution_count": 60,
   "id": "0cc0a70b",
   "metadata": {},
   "outputs": [
    {
     "data": {
      "text/html": [
       "<div>\n",
       "<style scoped>\n",
       "    .dataframe tbody tr th:only-of-type {\n",
       "        vertical-align: middle;\n",
       "    }\n",
       "\n",
       "    .dataframe tbody tr th {\n",
       "        vertical-align: top;\n",
       "    }\n",
       "\n",
       "    .dataframe thead th {\n",
       "        text-align: right;\n",
       "    }\n",
       "</style>\n",
       "<table border=\"1\" class=\"dataframe\">\n",
       "  <thead>\n",
       "    <tr style=\"text-align: right;\">\n",
       "      <th></th>\n",
       "      <th>credit_rating</th>\n",
       "      <th>average_balance</th>\n",
       "    </tr>\n",
       "  </thead>\n",
       "  <tbody>\n",
       "    <tr>\n",
       "      <th>0</th>\n",
       "      <td>Low</td>\n",
       "      <td>1005.0</td>\n",
       "    </tr>\n",
       "  </tbody>\n",
       "</table>\n",
       "</div>"
      ],
      "text/plain": [
       "  credit_rating  average_balance\n",
       "0           Low           1005.0"
      ]
     },
     "execution_count": 60,
     "metadata": {},
     "output_type": "execute_result"
    }
   ],
   "source": [
    "query_15_2 = '''\n",
    "          SELECT credit_rating, average_balance FROM credit_card_data\n",
    "          WHERE credit_rating = 'LOW'\n",
    "          GROUP BY credit_rating;\n",
    "        '''\n",
    "data = pd.read_sql_query(query_15_2, engine)\n",
    "data.head()"
   ]
  },
  {
   "cell_type": "markdown",
   "id": "1cdf2c40",
   "metadata": {},
   "source": [
    "### 16. In the database, which all types of communication (mailer_type) were used and with how many customers?"
   ]
  },
  {
   "cell_type": "code",
   "execution_count": 61,
   "id": "f0069ed6",
   "metadata": {},
   "outputs": [
    {
     "data": {
      "text/html": [
       "<div>\n",
       "<style scoped>\n",
       "    .dataframe tbody tr th:only-of-type {\n",
       "        vertical-align: middle;\n",
       "    }\n",
       "\n",
       "    .dataframe tbody tr th {\n",
       "        vertical-align: top;\n",
       "    }\n",
       "\n",
       "    .dataframe thead th {\n",
       "        text-align: right;\n",
       "    }\n",
       "</style>\n",
       "<table border=\"1\" class=\"dataframe\">\n",
       "  <thead>\n",
       "    <tr style=\"text-align: right;\">\n",
       "      <th></th>\n",
       "      <th>customers</th>\n",
       "      <th>mailer_type</th>\n",
       "    </tr>\n",
       "  </thead>\n",
       "  <tbody>\n",
       "    <tr>\n",
       "      <th>0</th>\n",
       "      <td>8842</td>\n",
       "      <td>Letter</td>\n",
       "    </tr>\n",
       "    <tr>\n",
       "      <th>1</th>\n",
       "      <td>9134</td>\n",
       "      <td>Postcard</td>\n",
       "    </tr>\n",
       "  </tbody>\n",
       "</table>\n",
       "</div>"
      ],
      "text/plain": [
       "   customers mailer_type\n",
       "0       8842      Letter\n",
       "1       9134    Postcard"
      ]
     },
     "execution_count": 61,
     "metadata": {},
     "output_type": "execute_result"
    }
   ],
   "source": [
    "query_16 = '''\n",
    "         SELECT COUNT(customer_number) AS customers, mailer_type FROM credit_card_data\n",
    "         GROUP BY mailer_type;\n",
    "        '''\n",
    "data = pd.read_sql_query(query_16, engine)\n",
    "data.head()"
   ]
  },
  {
   "cell_type": "markdown",
   "id": "f157a7db",
   "metadata": {},
   "source": [
    "### 17. Provide the details of the customer that is the 11th least Q1_balance in your database."
   ]
  },
  {
   "cell_type": "code",
   "execution_count": null,
   "id": "73ea36bc",
   "metadata": {},
   "outputs": [],
   "source": [
    "query_17 = '''\n",
    "        SELECT * FROM credit_card_data \n",
    "        WHERE customer_number = (SELECT (MAX(customer_number)-11) FROM credit_card_data);\n",
    "        '''\n",
    "data = pd.read_sql_query(query_17, engine)\n",
    "data.head()"
   ]
  }
 ],
 "metadata": {
  "kernelspec": {
   "display_name": "Python 3",
   "language": "python",
   "name": "python3"
  },
  "language_info": {
   "codemirror_mode": {
    "name": "ipython",
    "version": 3
   },
   "file_extension": ".py",
   "mimetype": "text/x-python",
   "name": "python",
   "nbconvert_exporter": "python",
   "pygments_lexer": "ipython3",
   "version": "3.8.8"
  }
 },
 "nbformat": 4,
 "nbformat_minor": 5
}
